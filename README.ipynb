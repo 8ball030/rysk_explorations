{
 "cells": [
  {
   "attachments": {},
   "cell_type": "markdown",
   "id": "1a55daf8",
   "metadata": {},
   "source": [
    "# Rysk Client\n",
    "\n",
    "## Installation\n",
    "\n",
    "The application is availale on pypi and can be installed as so;\n",
    "\n",
    "    ```bash\n",
    "    pip install rysk-client\n",
    "    ```\n",
    "\n",
    "### Dev & Contributing\n",
    "\n",
    "Dependencies are managed with poetry.\n",
    "\n",
    "For dev build."
   ]
  },
  {
   "cell_type": "code",
   "execution_count": 11,
   "id": "fbe14430",
   "metadata": {},
   "outputs": [
    {
     "name": "stdout",
     "output_type": "stream",
     "text": [
      "Processing /home/tom/Desktop/Fun/rysk_explorations\n",
      "  Installing build dependencies ... \u001b[?25ldone\n",
      "\u001b[?25h  Getting requirements to build wheel ... \u001b[?25ldone\n",
      "\u001b[?25h  Preparing metadata (pyproject.toml) ... \u001b[?25ldone\n",
      "\u001b[?25hRequirement already satisfied: rich-click<2.0.0,>=1.6.1 in /home/tom/.pyenv/versions/3.10.4/lib/python3.10/site-packages (from rysk-client==0.1.9) (1.6.1)\n",
      "Requirement already satisfied: ccxt<4.0.0,>=3.1.15 in /home/tom/.pyenv/versions/3.10.4/lib/python3.10/site-packages (from rysk-client==0.1.9) (3.1.17)\n",
      "Requirement already satisfied: web3==6.4.0 in /home/tom/.pyenv/versions/3.10.4/lib/python3.10/site-packages (from rysk-client==0.1.9) (6.4.0)\n",
      "Requirement already satisfied: eth-typing>=3.0.0 in /home/tom/.pyenv/versions/3.10.4/lib/python3.10/site-packages (from web3==6.4.0->rysk-client==0.1.9) (3.4.0)\n",
      "Requirement already satisfied: websockets>=10.0.0 in /home/tom/.pyenv/versions/3.10.4/lib/python3.10/site-packages (from web3==6.4.0->rysk-client==0.1.9) (11.0.3)\n",
      "Requirement already satisfied: eth-utils>=2.1.0 in /home/tom/.pyenv/versions/3.10.4/lib/python3.10/site-packages (from web3==6.4.0->rysk-client==0.1.9) (2.1.1)\n",
      "Requirement already satisfied: requests>=2.16.0 in /home/tom/.pyenv/versions/3.10.4/lib/python3.10/site-packages (from web3==6.4.0->rysk-client==0.1.9) (2.28.1)\n",
      "Requirement already satisfied: protobuf>=4.21.6 in /home/tom/.pyenv/versions/3.10.4/lib/python3.10/site-packages (from web3==6.4.0->rysk-client==0.1.9) (4.23.3)\n",
      "Requirement already satisfied: jsonschema>=4.0.0 in /home/tom/.pyenv/versions/3.10.4/lib/python3.10/site-packages (from web3==6.4.0->rysk-client==0.1.9) (4.17.3)\n",
      "Requirement already satisfied: lru-dict>=1.1.6 in /home/tom/.pyenv/versions/3.10.4/lib/python3.10/site-packages (from web3==6.4.0->rysk-client==0.1.9) (1.1.8)\n",
      "Requirement already satisfied: eth-account>=0.8.0 in /home/tom/.pyenv/versions/3.10.4/lib/python3.10/site-packages (from web3==6.4.0->rysk-client==0.1.9) (0.9.0)\n",
      "Requirement already satisfied: eth-abi>=4.0.0 in /home/tom/.pyenv/versions/3.10.4/lib/python3.10/site-packages (from web3==6.4.0->rysk-client==0.1.9) (4.1.0)\n",
      "Requirement already satisfied: eth-hash[pycryptodome]>=0.5.1 in /home/tom/.pyenv/versions/3.10.4/lib/python3.10/site-packages (from web3==6.4.0->rysk-client==0.1.9) (0.5.2)\n",
      "Requirement already satisfied: aiohttp>=3.7.4.post0 in /home/tom/.pyenv/versions/3.10.4/lib/python3.10/site-packages (from web3==6.4.0->rysk-client==0.1.9) (3.8.4)\n",
      "Requirement already satisfied: hexbytes>=0.1.0 in /home/tom/.pyenv/versions/3.10.4/lib/python3.10/site-packages (from web3==6.4.0->rysk-client==0.1.9) (0.3.0)\n",
      "Requirement already satisfied: aiodns>=1.1.1 in /home/tom/.pyenv/versions/3.10.4/lib/python3.10/site-packages (from ccxt<4.0.0,>=3.1.15->rysk-client==0.1.9) (3.0.0)\n",
      "Requirement already satisfied: cryptography>=2.6.1 in /home/tom/.pyenv/versions/3.10.4/lib/python3.10/site-packages (from ccxt<4.0.0,>=3.1.15->rysk-client==0.1.9) (39.0.1)\n",
      "Requirement already satisfied: certifi>=2018.1.18 in /home/tom/.pyenv/versions/3.10.4/lib/python3.10/site-packages (from ccxt<4.0.0,>=3.1.15->rysk-client==0.1.9) (2022.6.15)\n",
      "Requirement already satisfied: yarl>=1.7.2 in /home/tom/.pyenv/versions/3.10.4/lib/python3.10/site-packages (from ccxt<4.0.0,>=3.1.15->rysk-client==0.1.9) (1.7.2)\n",
      "Requirement already satisfied: setuptools>=60.9.0 in /home/tom/.pyenv/versions/3.10.4/lib/python3.10/site-packages (from ccxt<4.0.0,>=3.1.15->rysk-client==0.1.9) (67.8.0)\n",
      "Requirement already satisfied: click>=7 in /home/tom/.pyenv/versions/3.10.4/lib/python3.10/site-packages (from rich-click<2.0.0,>=1.6.1->rysk-client==0.1.9) (8.0.2)\n",
      "Requirement already satisfied: rich>=10.7.0 in /home/tom/.pyenv/versions/3.10.4/lib/python3.10/site-packages (from rich-click<2.0.0,>=1.6.1->rysk-client==0.1.9) (13.3.1)\n",
      "Requirement already satisfied: pycares>=4.0.0 in /home/tom/.pyenv/versions/3.10.4/lib/python3.10/site-packages (from aiodns>=1.1.1->ccxt<4.0.0,>=3.1.15->rysk-client==0.1.9) (4.2.2)\n",
      "Requirement already satisfied: async-timeout<5.0,>=4.0.0a3 in /home/tom/.pyenv/versions/3.10.4/lib/python3.10/site-packages (from aiohttp>=3.7.4.post0->web3==6.4.0->rysk-client==0.1.9) (4.0.2)\n",
      "Requirement already satisfied: charset-normalizer<4.0,>=2.0 in /home/tom/.pyenv/versions/3.10.4/lib/python3.10/site-packages (from aiohttp>=3.7.4.post0->web3==6.4.0->rysk-client==0.1.9) (2.1.1)\n",
      "Requirement already satisfied: aiosignal>=1.1.2 in /home/tom/.pyenv/versions/3.10.4/lib/python3.10/site-packages (from aiohttp>=3.7.4.post0->web3==6.4.0->rysk-client==0.1.9) (1.2.0)\n",
      "Requirement already satisfied: multidict<7.0,>=4.5 in /home/tom/.pyenv/versions/3.10.4/lib/python3.10/site-packages (from aiohttp>=3.7.4.post0->web3==6.4.0->rysk-client==0.1.9) (6.0.2)\n",
      "Requirement already satisfied: frozenlist>=1.1.1 in /home/tom/.pyenv/versions/3.10.4/lib/python3.10/site-packages (from aiohttp>=3.7.4.post0->web3==6.4.0->rysk-client==0.1.9) (1.3.1)\n",
      "Requirement already satisfied: attrs>=17.3.0 in /home/tom/.pyenv/versions/3.10.4/lib/python3.10/site-packages (from aiohttp>=3.7.4.post0->web3==6.4.0->rysk-client==0.1.9) (22.1.0)\n",
      "Requirement already satisfied: cffi>=1.12 in /home/tom/.pyenv/versions/3.10.4/lib/python3.10/site-packages (from cryptography>=2.6.1->ccxt<4.0.0,>=3.1.15->rysk-client==0.1.9) (1.15.1)\n",
      "Requirement already satisfied: parsimonious<0.10.0,>=0.9.0 in /home/tom/.pyenv/versions/3.10.4/lib/python3.10/site-packages (from eth-abi>=4.0.0->web3==6.4.0->rysk-client==0.1.9) (0.9.0)\n",
      "Requirement already satisfied: eth-keyfile>=0.6.0 in /home/tom/.pyenv/versions/3.10.4/lib/python3.10/site-packages (from eth-account>=0.8.0->web3==6.4.0->rysk-client==0.1.9) (0.6.1)\n",
      "Requirement already satisfied: rlp>=1.0.0 in /home/tom/.pyenv/versions/3.10.4/lib/python3.10/site-packages (from eth-account>=0.8.0->web3==6.4.0->rysk-client==0.1.9) (3.0.0)\n",
      "Requirement already satisfied: eth-keys>=0.4.0 in /home/tom/.pyenv/versions/3.10.4/lib/python3.10/site-packages (from eth-account>=0.8.0->web3==6.4.0->rysk-client==0.1.9) (0.4.0)\n",
      "Requirement already satisfied: bitarray>=2.4.0 in /home/tom/.pyenv/versions/3.10.4/lib/python3.10/site-packages (from eth-account>=0.8.0->web3==6.4.0->rysk-client==0.1.9) (2.7.4)\n",
      "Requirement already satisfied: eth-rlp>=0.3.0 in /home/tom/.pyenv/versions/3.10.4/lib/python3.10/site-packages (from eth-account>=0.8.0->web3==6.4.0->rysk-client==0.1.9) (0.3.0)\n",
      "Requirement already satisfied: pycryptodome<4,>=3.6.6 in /home/tom/.pyenv/versions/3.10.4/lib/python3.10/site-packages (from eth-hash[pycryptodome]>=0.5.1->web3==6.4.0->rysk-client==0.1.9) (3.15.0)\n",
      "Requirement already satisfied: cytoolz>=0.10.1 in /home/tom/.pyenv/versions/3.10.4/lib/python3.10/site-packages (from eth-utils>=2.1.0->web3==6.4.0->rysk-client==0.1.9) (0.12.0)\n",
      "Requirement already satisfied: pyrsistent!=0.17.0,!=0.17.1,!=0.17.2,>=0.14.0 in /home/tom/.pyenv/versions/3.10.4/lib/python3.10/site-packages (from jsonschema>=4.0.0->web3==6.4.0->rysk-client==0.1.9) (0.18.1)\n",
      "Requirement already satisfied: urllib3<1.27,>=1.21.1 in /home/tom/.pyenv/versions/3.10.4/lib/python3.10/site-packages (from requests>=2.16.0->web3==6.4.0->rysk-client==0.1.9) (1.26.12)\n",
      "Requirement already satisfied: idna<4,>=2.5 in /home/tom/.pyenv/versions/3.10.4/lib/python3.10/site-packages (from requests>=2.16.0->web3==6.4.0->rysk-client==0.1.9) (3.3)\n",
      "Requirement already satisfied: pygments<3.0.0,>=2.14.0 in /home/tom/.pyenv/versions/3.10.4/lib/python3.10/site-packages (from rich>=10.7.0->rich-click<2.0.0,>=1.6.1->rysk-client==0.1.9) (2.14.0)\n",
      "Requirement already satisfied: markdown-it-py<3.0.0,>=2.1.0 in /home/tom/.pyenv/versions/3.10.4/lib/python3.10/site-packages (from rich>=10.7.0->rich-click<2.0.0,>=1.6.1->rysk-client==0.1.9) (2.2.0)\n",
      "Requirement already satisfied: pycparser in /home/tom/.pyenv/versions/3.10.4/lib/python3.10/site-packages (from cffi>=1.12->cryptography>=2.6.1->ccxt<4.0.0,>=3.1.15->rysk-client==0.1.9) (2.21)\n",
      "Requirement already satisfied: toolz>=0.8.0 in /home/tom/.pyenv/versions/3.10.4/lib/python3.10/site-packages (from cytoolz>=0.10.1->eth-utils>=2.1.0->web3==6.4.0->rysk-client==0.1.9) (0.11.2)\n",
      "Requirement already satisfied: mdurl~=0.1 in /home/tom/.pyenv/versions/3.10.4/lib/python3.10/site-packages (from markdown-it-py<3.0.0,>=2.1.0->rich>=10.7.0->rich-click<2.0.0,>=1.6.1->rysk-client==0.1.9) (0.1.2)\n",
      "Requirement already satisfied: regex>=2022.3.15 in /home/tom/.pyenv/versions/3.10.4/lib/python3.10/site-packages (from parsimonious<0.10.0,>=0.9.0->eth-abi>=4.0.0->web3==6.4.0->rysk-client==0.1.9) (2023.6.3)\n",
      "Building wheels for collected packages: rysk-client\n",
      "  Building wheel for rysk-client (pyproject.toml) ... \u001b[?25ldone\n",
      "\u001b[?25h  Created wheel for rysk-client: filename=rysk_client-0.1.9-py3-none-any.whl size=514236 sha256=f16768223fc0aceb0298909bc28cfd4dbf73a6aaa2aec2867ef94aaed4596de8\n",
      "  Stored in directory: /tmp/pip-ephem-wheel-cache-2ifvyr76/wheels/85/5d/62/83b40ae2d2c1fc31bec44436912ab30c592085539d92f35254\n",
      "Successfully built rysk-client\n",
      "\u001b[33mWARNING: Error parsing requirements for vulture: [Errno 2] No such file or directory: '/home/tom/.pyenv/versions/3.10.4/lib/python3.10/site-packages/vulture-2.5.dist-info/METADATA'\u001b[0m\u001b[33m\n",
      "\u001b[0mInstalling collected packages: rysk-client\n",
      "  Attempting uninstall: rysk-client\n",
      "    Found existing installation: rysk-client 0.1.9\n",
      "    Uninstalling rysk-client-0.1.9:\n",
      "      Successfully uninstalled rysk-client-0.1.9\n",
      "Successfully installed rysk-client-0.1.9\n",
      "\u001b[33mWARNING: You are using pip version 22.0.4; however, version 23.1.2 is available.\n",
      "You should consider upgrading via the '/home/tom/.pyenv/versions/3.10.4/bin/python3.10 -m pip install --upgrade pip' command.\u001b[0m\u001b[33m\n",
      "\u001b[0m"
     ]
    }
   ],
   "source": [
    "!pip install -U ."
   ]
  },
  {
   "cell_type": "code",
   "execution_count": null,
   "id": "14d7b8cd",
   "metadata": {},
   "outputs": [],
   "source": []
  },
  {
   "cell_type": "code",
   "execution_count": null,
   "id": "d1753000",
   "metadata": {},
   "outputs": [],
   "source": []
  },
  {
   "attachments": {},
   "cell_type": "markdown",
   "id": "3f7f0490",
   "metadata": {},
   "source": [
    "## Cli Tool\n",
    "\n",
    "The application is also bundled as cli tool to allow users to interact with the protocol from the cli.\n"
   ]
  },
  {
   "cell_type": "code",
   "execution_count": 12,
   "id": "2ac313be",
   "metadata": {},
   "outputs": [
    {
     "name": "stdout",
     "output_type": "stream",
     "text": [
      "\u001b[1m                                                                                \u001b[0m\n",
      "\u001b[1m \u001b[0m\u001b[1;33mUsage: \u001b[0m\u001b[1mrysk [\u001b[0m\u001b[1;36mOPTIONS\u001b[0m\u001b[1m] \u001b[0m\u001b[1;36mCOMMAND\u001b[0m\u001b[1m [\u001b[0m\u001b[1;36mARGS\u001b[0m\u001b[1m]...\u001b[0m\u001b[1m                                       \u001b[0m\u001b[1m \u001b[0m\n",
      "\u001b[1m                                                                                \u001b[0m\n",
      " Rysk client command line interface.                                            \n",
      "                                                                                \n",
      "\u001b[2m╭─\u001b[0m\u001b[2m Options \u001b[0m\u001b[2m───────────────────────────────────────────────────────────────────\u001b[0m\u001b[2m─╮\u001b[0m\n",
      "\u001b[2m│\u001b[0m \u001b[1;36m-\u001b[0m\u001b[1;36m-log\u001b[0m\u001b[1;36m-level\u001b[0m  \u001b[1;32m-l\u001b[0m  \u001b[1;2;33m[\u001b[0m\u001b[1;33mDEBUG\u001b[0m\u001b[1;2;33m|\u001b[0m\u001b[1;33mINFO\u001b[0m\u001b[1;2;33m|\u001b[0m\u001b[1;33mWARNING\u001b[0m\u001b[1;2;33m|\u001b[0m\u001b[1;33mERROR\u001b[0m\u001b[1;2;33m|\u001b[0m\u001b[1;33mCR\u001b[0m  Logging level.                \u001b[2m│\u001b[0m\n",
      "\u001b[2m│\u001b[0m                  \u001b[1;33mITICAL\u001b[0m\u001b[1;2;33m]\u001b[0m\u001b[1;33m                     \u001b[0m                                \u001b[2m│\u001b[0m\n",
      "\u001b[2m│\u001b[0m \u001b[1;36m-\u001b[0m\u001b[1;36m-help\u001b[0m           \u001b[1;33m                            \u001b[0m  Show this message and exit.   \u001b[2m│\u001b[0m\n",
      "\u001b[2m╰──────────────────────────────────────────────────────────────────────────────╯\u001b[0m\n",
      "\u001b[2m╭─\u001b[0m\u001b[2m Commands \u001b[0m\u001b[2m──────────────────────────────────────────────────────────────────\u001b[0m\u001b[2m─╮\u001b[0m\n",
      "\u001b[2m│\u001b[0m \u001b[1;36mbalances             \u001b[0m\u001b[1;36m \u001b[0m Interact with balances.                               \u001b[2m│\u001b[0m\n",
      "\u001b[2m│\u001b[0m \u001b[1;36mmarkets              \u001b[0m\u001b[1;36m \u001b[0m Interact with markets.                                \u001b[2m│\u001b[0m\n",
      "\u001b[2m│\u001b[0m \u001b[1;36mpositions            \u001b[0m\u001b[1;36m \u001b[0m Interact with positions.                              \u001b[2m│\u001b[0m\n",
      "\u001b[2m│\u001b[0m \u001b[1;36mtickers              \u001b[0m\u001b[1;36m \u001b[0m Interact with tickers.                                \u001b[2m│\u001b[0m\n",
      "\u001b[2m│\u001b[0m \u001b[1;36mtrades               \u001b[0m\u001b[1;36m \u001b[0m Interact with trades.                                 \u001b[2m│\u001b[0m\n",
      "\u001b[2m╰──────────────────────────────────────────────────────────────────────────────╯\u001b[0m\n",
      "\n"
     ]
    }
   ],
   "source": [
    "! rysk"
   ]
  },
  {
   "attachments": {},
   "cell_type": "markdown",
   "id": "14cdf2f0",
   "metadata": {},
   "source": [
    "### Markets\n",
    "We can fetch data about the markets as so;"
   ]
  },
  {
   "cell_type": "code",
   "execution_count": 13,
   "id": "bea7a58a",
   "metadata": {},
   "outputs": [
    {
     "name": "stdout",
     "output_type": "stream",
     "text": [
      "\u001b[2;36m[06/23/23 01:00:18]\u001b[0m\u001b[2;36m \u001b[0m\u001b[34mINFO    \u001b[0m Rysk client initialized and connected  \u001b]8;id=857749;file:///home/tom/.pyenv/versions/3.10.4/lib/python3.10/site-packages/rysk_client/client.py\u001b\\\u001b[2mclient.py\u001b[0m\u001b]8;;\u001b\\\u001b[2m:\u001b[0m\u001b]8;id=815266;file:///home/tom/.pyenv/versions/3.10.4/lib/python3.10/site-packages/rysk_client/client.py#99\u001b\\\u001b[2m99\u001b[0m\u001b]8;;\u001b\\\n",
      "\u001b[2;36m                    \u001b[0m         to the blockchain at RPC connection    \u001b[2m            \u001b[0m\n",
      "\u001b[2;36m                    \u001b[0m         \u001b[4;94mhttps://arbitrum-goerli.rpc.thirdweb.c\u001b[0m \u001b[2m            \u001b[0m\n",
      "\u001b[2;36m                    \u001b[0m         \u001b[4;94mom\u001b[0m                                     \u001b[2m            \u001b[0m\n",
      "\u001b[2;36m[06/23/23 01:00:18]\u001b[0m\u001b[2;36m \u001b[0m\u001b[34mINFO    \u001b[0m Rysk client initialized and connected  \u001b]8;id=541501;file:///home/tom/.pyenv/versions/3.10.4/lib/python3.10/site-packages/rysk_client/client.py\u001b\\\u001b[2mclient.py\u001b[0m\u001b]8;;\u001b\\\u001b[2m:\u001b[0m\u001b]8;id=410566;file:///home/tom/.pyenv/versions/3.10.4/lib/python3.10/site-packages/rysk_client/client.py#99\u001b\\\u001b[2m99\u001b[0m\u001b]8;;\u001b\\\n",
      "\u001b[2;36m                    \u001b[0m         to the blockchain at RPC connection    \u001b[2m            \u001b[0m\n",
      "\u001b[2;36m                    \u001b[0m         \u001b[4;94mhttps://arbitrum-goerli.rpc.thirdweb.c\u001b[0m \u001b[2m            \u001b[0m\n",
      "\u001b[2;36m                    \u001b[0m         \u001b[4;94mom\u001b[0m                                     \u001b[2m            \u001b[0m\n",
      "\u001b[3m                              Markets                               \u001b[0m\n",
      "┏━━━━━━━━━━━━━━━━━━━━┳━━━━━━━━━━━━┳━━━━━━━━┳━━━━━━━━━━━┳━━━━━━━━━━━┓\n",
      "┃\u001b[1m \u001b[0m\u001b[1mid                \u001b[0m\u001b[1m \u001b[0m┃\u001b[1m \u001b[0m\u001b[1mexpiration\u001b[0m\u001b[1m \u001b[0m┃\u001b[1m \u001b[0m\u001b[1mstrike\u001b[0m\u001b[1m \u001b[0m┃\u001b[1m \u001b[0m\u001b[1mbid      \u001b[0m\u001b[1m \u001b[0m┃\u001b[1m \u001b[0m\u001b[1mask      \u001b[0m\u001b[1m \u001b[0m┃\n",
      "┡━━━━━━━━━━━━━━━━━━━━╇━━━━━━━━━━━━╇━━━━━━━━╇━━━━━━━━━━━╇━━━━━━━━━━━┩\n",
      "│ ETH-30JUN23-1900-C │ 1688112000 │ 1900.0 │ 48.757072 │ 49.693761 │\n",
      "│ ETH-30JUN23-2000-C │ 1688112000 │ 2000.0 │ 29.897698 │ 30.529623 │\n",
      "│ ETH-30JUN23-2100-C │ 1688112000 │ 2100.0 │ 38.865564 │ 39.419208 │\n",
      "│ ETH-30JUN23-1700-P │ 1688112000 │ 1700.0 │ 14.441823 │ 14.94933  │\n",
      "│ ETH-30JUN23-1800-P │ 1688112000 │ 1800.0 │ 34.589717 │ 35.407297 │\n",
      "│ ETH-30JUN23-1900-P │ 1688112000 │ 1900.0 │ 67.834271 │ 69.232565 │\n",
      "└────────────────────┴────────────┴────────┴───────────┴───────────┘\n"
     ]
    }
   ],
   "source": [
    "! rysk markets fetch"
   ]
  },
  {
   "attachments": {},
   "cell_type": "markdown",
   "metadata": {},
   "source": [
    "# Positions\n",
    "\n",
    "We can view the current positions, along with those which are expired."
   ]
  },
  {
   "cell_type": "code",
   "execution_count": 14,
   "id": "d219af16",
   "metadata": {},
   "outputs": [
    {
     "name": "stdout",
     "output_type": "stream",
     "text": [
      "\u001b[2;36m[06/23/23 01:00:20]\u001b[0m\u001b[2;36m \u001b[0m\u001b[34mINFO    \u001b[0m Fetching positions for                   \u001b]8;id=669384;file:///home/tom/.pyenv/versions/3.10.4/lib/python3.10/site-packages/rysk_client/cli.py\u001b\\\u001b[2mcli.py\u001b[0m\u001b]8;;\u001b\\\u001b[2m:\u001b[0m\u001b]8;id=495604;file:///home/tom/.pyenv/versions/3.10.4/lib/python3.10/site-packages/rysk_client/cli.py#101\u001b\\\u001b[2m101\u001b[0m\u001b]8;;\u001b\\\n",
      "\u001b[2;36m                    \u001b[0m         \u001b[1;36m0x9B8a204636a7aa9c33053d9C3A828720d32212\u001b[0m \u001b[2m          \u001b[0m\n",
      "\u001b[2;36m                    \u001b[0m         \u001b[1;36me8\u001b[0m                                       \u001b[2m          \u001b[0m\n",
      "\u001b[2;36m                   \u001b[0m\u001b[2;36m \u001b[0m\u001b[34mINFO    \u001b[0m Rysk client initialized and connected  \u001b]8;id=59983;file:///home/tom/.pyenv/versions/3.10.4/lib/python3.10/site-packages/rysk_client/client.py\u001b\\\u001b[2mclient.py\u001b[0m\u001b]8;;\u001b\\\u001b[2m:\u001b[0m\u001b]8;id=529467;file:///home/tom/.pyenv/versions/3.10.4/lib/python3.10/site-packages/rysk_client/client.py#99\u001b\\\u001b[2m99\u001b[0m\u001b]8;;\u001b\\\n",
      "\u001b[2;36m                    \u001b[0m         to the blockchain at RPC connection    \u001b[2m            \u001b[0m\n",
      "\u001b[2;36m                    \u001b[0m         \u001b[4;94mhttps://arbitrum-goerli.rpc.thirdweb.c\u001b[0m \u001b[2m            \u001b[0m\n",
      "\u001b[2;36m                    \u001b[0m         \u001b[4;94mom\u001b[0m                                     \u001b[2m            \u001b[0m\n",
      "\u001b[3m                                   Positions                                    \u001b[0m\n",
      "┏━━━━━━━━━━━━┳━━━━━━━┳━━━━━━━━━━━━┳━━━━━━━━━━━┳━━━━━━━┳━━━━━━━━━━━━┳━━━━━━━━━━━┓\n",
      "┃\u001b[1m \u001b[0m\u001b[1msymbol    \u001b[0m\u001b[1m \u001b[0m┃\u001b[1m \u001b[0m\u001b[1mside \u001b[0m\u001b[1m \u001b[0m┃\u001b[1m \u001b[0m\u001b[1mentryPrice\u001b[0m\u001b[1m \u001b[0m┃\u001b[1m \u001b[0m\u001b[1mid       \u001b[0m\u001b[1m \u001b[0m┃\u001b[1m \u001b[0m\u001b[1msize \u001b[0m\u001b[1m \u001b[0m┃\u001b[1m \u001b[0m\u001b[1munrealize…\u001b[0m\u001b[1m \u001b[0m┃\u001b[1m \u001b[0m\u001b[1mrealized…\u001b[0m\u001b[1m \u001b[0m┃\n",
      "┡━━━━━━━━━━━━╇━━━━━━━╇━━━━━━━━━━━━╇━━━━━━━━━━━╇━━━━━━━╇━━━━━━━━━━━━╇━━━━━━━━━━━┩\n",
      "│ ETH-30JUN… │ long  │ -70.13740… │ 0x9b8a20… │ 25.0  │ 1753.4350… │ 0         │\n",
      "│ ETH-30JUN… │ short │ 0          │ 0x9b8a20… │ 0.0   │ 0.0        │ 19396.75… │\n",
      "│ ETH-30JUN… │ short │ 0          │ 0x9b8a20… │ 0.0   │ 0.0        │ 21249.08… │\n",
      "│ ETH-30JUN… │ short │ 105.35629… │ 0x9b8a20… │ -2.0  │ 210.712583 │ 0         │\n",
      "│ ETH-30JUN… │ short │ 118.16245… │ 0x9b8a20… │ -14.0 │ 1654.2744… │ 0         │\n",
      "│ ETH-30JUN… │ short │ 106.420235 │ 0x9b8a20… │ -1.0  │ 106.420235 │ 0         │\n",
      "└────────────┴───────┴────────────┴───────────┴───────┴────────────┴───────────┘\n"
     ]
    }
   ],
   "source": [
    "! export ETH_ADDRESS=0x9B8a204636a7aa9c33053d9C3A828720d32212e8 && \\\n",
    "  export ETH_PRIVATE_KEY=0x75cc9212e9e1243b9a3e5db5012f39469254088e33363324ad94dd0b212d7efa && \\\n",
    "    rysk positions list"
   ]
  },
  {
   "attachments": {},
   "cell_type": "markdown",
   "id": "94d6cdc4",
   "metadata": {},
   "source": [
    "## Expired positions\n",
    "\n",
    "We can use the `--expired` flag in order to filter for the expired positions"
   ]
  },
  {
   "cell_type": "code",
   "execution_count": 10,
   "id": "22228bea",
   "metadata": {},
   "outputs": [
    {
     "name": "stdout",
     "output_type": "stream",
     "text": [
      "\u001b[2;36m[06/23/23 00:59:40]\u001b[0m\u001b[2;36m \u001b[0m\u001b[34mINFO    \u001b[0m Fetching positions for                   \u001b]8;id=480925;file:///home/tom/.pyenv/versions/3.10.4/lib/python3.10/site-packages/rysk_client/cli.py\u001b\\\u001b[2mcli.py\u001b[0m\u001b]8;;\u001b\\\u001b[2m:\u001b[0m\u001b]8;id=771916;file:///home/tom/.pyenv/versions/3.10.4/lib/python3.10/site-packages/rysk_client/cli.py#101\u001b\\\u001b[2m101\u001b[0m\u001b]8;;\u001b\\\n",
      "\u001b[2;36m                    \u001b[0m         \u001b[1;36m0x9B8a204636a7aa9c33053d9C3A828720d32212\u001b[0m \u001b[2m          \u001b[0m\n",
      "\u001b[2;36m                    \u001b[0m         \u001b[1;36me8\u001b[0m                                       \u001b[2m          \u001b[0m\n",
      "\u001b[2;36m                   \u001b[0m\u001b[2;36m \u001b[0m\u001b[34mINFO    \u001b[0m Rysk client initialized and connected  \u001b]8;id=57521;file:///home/tom/.pyenv/versions/3.10.4/lib/python3.10/site-packages/rysk_client/client.py\u001b\\\u001b[2mclient.py\u001b[0m\u001b]8;;\u001b\\\u001b[2m:\u001b[0m\u001b]8;id=661600;file:///home/tom/.pyenv/versions/3.10.4/lib/python3.10/site-packages/rysk_client/client.py#99\u001b\\\u001b[2m99\u001b[0m\u001b]8;;\u001b\\\n",
      "\u001b[2;36m                    \u001b[0m         to the blockchain at RPC connection    \u001b[2m            \u001b[0m\n",
      "\u001b[2;36m                    \u001b[0m         \u001b[4;94mhttps://arbitrum-goerli.rpc.thirdweb.c\u001b[0m \u001b[2m            \u001b[0m\n",
      "\u001b[2;36m                    \u001b[0m         \u001b[4;94mom\u001b[0m                                     \u001b[2m            \u001b[0m\n",
      "\u001b[3m                                   Positions                                    \u001b[0m\n",
      "┏━━━━━━━━━━━┳━━━━━━━┳━━━━━━━━━━━━┳━━━━━━━━━━━┳━━━━━━━━┳━━━━━━━━━━━━┳━━━━━━━━━━━┓\n",
      "┃\u001b[1m \u001b[0m\u001b[1msymbol   \u001b[0m\u001b[1m \u001b[0m┃\u001b[1m \u001b[0m\u001b[1mside \u001b[0m\u001b[1m \u001b[0m┃\u001b[1m \u001b[0m\u001b[1mentryPrice\u001b[0m\u001b[1m \u001b[0m┃\u001b[1m \u001b[0m\u001b[1mid       \u001b[0m\u001b[1m \u001b[0m┃\u001b[1m \u001b[0m\u001b[1msize  \u001b[0m\u001b[1m \u001b[0m┃\u001b[1m \u001b[0m\u001b[1munrealize…\u001b[0m\u001b[1m \u001b[0m┃\u001b[1m \u001b[0m\u001b[1mrealized…\u001b[0m\u001b[1m \u001b[0m┃\n",
      "┡━━━━━━━━━━━╇━━━━━━━╇━━━━━━━━━━━━╇━━━━━━━━━━━╇━━━━━━━━╇━━━━━━━━━━━━╇━━━━━━━━━━━┩\n",
      "│ ETH-09JU… │ long  │ -124.0908… │ 0x9b8a20… │ 360.0  │ 44672.716… │ 0         │\n",
      "│ ETH-02JU… │ long  │ -26.10214… │ 0x9b8a20… │ 29.0   │ 756.96213  │ 0         │\n",
      "│ ETH-09JU… │ long  │ 0          │ 0x9b8a20… │ 0.0    │ 0.0        │ 6467.678… │\n",
      "│ ETH-09JU… │ long  │ -63.358176 │ 0x9b8a20… │ 1.0    │ 63.358176  │ 0         │\n",
      "│ ETH-09JU… │ long  │ -88.566839 │ 0x9b8a20… │ 1.0    │ 88.566839  │ 0         │\n",
      "│ ETH-09JU… │ long  │ -38.77678… │ 0x9b8a20… │ 35.0   │ 1357.1874… │ 0         │\n",
      "│ ETH-09JU… │ long  │ -63.12680… │ 0x9b8a20… │ 20.0   │ 1262.53608 │ 0         │\n",
      "│ ETH-02JU… │ long  │ -54.35290… │ 0x9b8a20… │ 30.0   │ 1630.5871… │ 0         │\n",
      "│ ETH-26MA… │ long  │ -12.03728… │ 0x9b8a20… │ 60.0   │ 722.236956 │ 0         │\n",
      "│ ETH-26MA… │ short │ 27.097653… │ 0x9b8a20… │ -10.0  │ 270.976537 │ 0         │\n",
      "│ ETH-02JU… │ short │ 25.513680… │ 0x9b8a20… │ -29.0  │ 739.896739 │ 0         │\n",
      "│ ETH-09JU… │ short │ 69.354942  │ 0x9b8a20… │ -1.0   │ 69.354942  │ 0         │\n",
      "│ ETH-09JU… │ short │ 0          │ 0x9b8a20… │ 0.0    │ 0.0        │ 244529.4… │\n",
      "│ ETH-09JU… │ short │ 48.222507… │ 0x9b8a20… │ -150.0 │ 7233.3761… │ 0         │\n",
      "│ ETH-16JU… │ short │ 0          │ 0x9b8a20… │ 0.0    │ 0.0        │ 17592.72… │\n",
      "│ ETH-16JU… │ short │ 21.762156… │ 0x9b8a20… │ -20.0  │ 435.24313… │ 0         │\n",
      "│ ETH-26MA… │ short │ 50.9876923 │ 0x9b8a20… │ -10.0  │ 509.876923 │ 0         │\n",
      "│ ETH-02JU… │ short │ 31.792668  │ 0x9b8a20… │ -1.0   │ 31.792668  │ 0         │\n",
      "│ ETH-26MA… │ short │ 47.281672… │ 0x9b8a20… │ -40.0  │ 1891.2668… │ 0         │\n",
      "└───────────┴───────┴────────────┴───────────┴────────┴────────────┴───────────┘\n"
     ]
    }
   ],
   "source": [
    "! export ETH_ADDRESS=0x9B8a204636a7aa9c33053d9C3A828720d32212e8 && \\\n",
    "  export ETH_PRIVATE_KEY=0x75cc9212e9e1243b9a3e5db5012f39469254088e33363324ad94dd0b212d7efa && \\\n",
    "    rysk positions list --expired"
   ]
  },
  {
   "attachments": {},
   "cell_type": "markdown",
   "id": "7f4c9234",
   "metadata": {},
   "source": [
    "## Settling Positions\n",
    "We are able to settle the positions based on the vault id"
   ]
  },
  {
   "cell_type": "code",
   "execution_count": 16,
   "id": "df92d8bc",
   "metadata": {},
   "outputs": [
    {
     "name": "stdout",
     "output_type": "stream",
     "text": [
      "\u001b[2;36m[06/23/23 01:02:47]\u001b[0m\u001b[2;36m \u001b[0m\u001b[34mINFO    \u001b[0m Settling vault \u001b[1;36m15\u001b[0m for                    \u001b]8;id=770874;file:///home/tom/.pyenv/versions/3.10.4/lib/python3.10/site-packages/rysk_client/cli.py\u001b\\\u001b[2mcli.py\u001b[0m\u001b]8;;\u001b\\\u001b[2m:\u001b[0m\u001b]8;id=837991;file:///home/tom/.pyenv/versions/3.10.4/lib/python3.10/site-packages/rysk_client/cli.py#148\u001b\\\u001b[2m148\u001b[0m\u001b]8;;\u001b\\\n",
      "\u001b[2;36m                    \u001b[0m         \u001b[1;36m0x9B8a204636a7aa9c33053d9C3A828720d32212\u001b[0m \u001b[2m          \u001b[0m\n",
      "\u001b[2;36m                    \u001b[0m         \u001b[1;36me8\u001b[0m                                       \u001b[2m          \u001b[0m\n",
      "\u001b[2;36m                   \u001b[0m\u001b[2;36m \u001b[0m\u001b[34mINFO    \u001b[0m Rysk client initialized and connected  \u001b]8;id=936728;file:///home/tom/.pyenv/versions/3.10.4/lib/python3.10/site-packages/rysk_client/client.py\u001b\\\u001b[2mclient.py\u001b[0m\u001b]8;;\u001b\\\u001b[2m:\u001b[0m\u001b]8;id=522814;file:///home/tom/.pyenv/versions/3.10.4/lib/python3.10/site-packages/rysk_client/client.py#99\u001b\\\u001b[2m99\u001b[0m\u001b]8;;\u001b\\\n",
      "\u001b[2;36m                    \u001b[0m         to the blockchain at RPC connection    \u001b[2m            \u001b[0m\n",
      "\u001b[2;36m                    \u001b[0m         \u001b[4;94mhttps://arbitrum-goerli.rpc.thirdweb.c\u001b[0m \u001b[2m            \u001b[0m\n",
      "\u001b[2;36m                    \u001b[0m         \u001b[4;94mom\u001b[0m                                     \u001b[2m            \u001b[0m\n",
      "Traceback (most recent call last):\n",
      "  File \"/home/tom/.pyenv/versions/3.10.4/bin/rysk\", line 8, in <module>\n",
      "    sys.exit(cli())\n",
      "  File \"/home/tom/.pyenv/versions/3.10.4/lib/python3.10/site-packages/click/core.py\", line 1126, in __call__\n",
      "    return self.main(*args, **kwargs)\n",
      "  File \"/home/tom/.pyenv/versions/3.10.4/lib/python3.10/site-packages/rich_click/rich_group.py\", line 21, in main\n",
      "    rv = super().main(*args, standalone_mode=False, **kwargs)\n",
      "  File \"/home/tom/.pyenv/versions/3.10.4/lib/python3.10/site-packages/click/core.py\", line 1051, in main\n",
      "    rv = self.invoke(ctx)\n",
      "  File \"/home/tom/.pyenv/versions/3.10.4/lib/python3.10/site-packages/click/core.py\", line 1657, in invoke\n",
      "    return _process_result(sub_ctx.command.invoke(sub_ctx))\n",
      "  File \"/home/tom/.pyenv/versions/3.10.4/lib/python3.10/site-packages/click/core.py\", line 1657, in invoke\n",
      "    return _process_result(sub_ctx.command.invoke(sub_ctx))\n",
      "  File \"/home/tom/.pyenv/versions/3.10.4/lib/python3.10/site-packages/click/core.py\", line 1393, in invoke\n",
      "    return ctx.invoke(self.callback, **ctx.params)\n",
      "  File \"/home/tom/.pyenv/versions/3.10.4/lib/python3.10/site-packages/click/core.py\", line 752, in invoke\n",
      "    return __callback(*args, **kwargs)\n",
      "  File \"/home/tom/.pyenv/versions/3.10.4/lib/python3.10/site-packages/rysk_client/cli.py\", line 158, in settle\n",
      "    raise ValueError(\n",
      "ValueError: Vault 15 has already been settled for 0x9B8a204636a7aa9c33053d9C3A828720d32212e8\n"
     ]
    }
   ],
   "source": [
    "\n",
    "! export ETH_ADDRESS=0x9B8a204636a7aa9c33053d9C3A828720d32212e8 && \\\n",
    "  export ETH_PRIVATE_KEY=0x75cc9212e9e1243b9a3e5db5012f39469254088e33363324ad94dd0b212d7efa && \\\n",
    "  rysk positions settle -v 15"
   ]
  },
  {
   "attachments": {},
   "cell_type": "markdown",
   "id": "464d2ace",
   "metadata": {},
   "source": [
    "## Creating a Client \n",
    "\n",
    "Clients can be created from the rysk client module."
   ]
  },
  {
   "cell_type": "code",
   "execution_count": 4,
   "id": "625c7b97",
   "metadata": {},
   "outputs": [
    {
     "data": {
      "text/plain": [
       "RyskClient(_markets=[], _tickers=[], _otokens={})"
      ]
     },
     "execution_count": 4,
     "metadata": {},
     "output_type": "execute_result"
    }
   ],
   "source": [
    "from rysk_client.client import RyskClient\n",
    "from tests.conftest import DEFAULT_ADDRESS\n",
    "\n",
    "auth = {\n",
    "    \"address\": DEFAULT_ADDRESS,\n",
    "}\n",
    "\n",
    "print(auth)\n",
    "\n",
    "client = RyskClient(**auth)\n",
    "client\n"
   ]
  },
  {
   "attachments": {},
   "cell_type": "markdown",
   "id": "0e00c54a",
   "metadata": {},
   "source": [
    "## Fetching Markets\n",
    "\n",
    "The client can fetch markets as so;\n"
   ]
  },
  {
   "cell_type": "code",
   "execution_count": 3,
   "id": "9ede9d6a",
   "metadata": {},
   "outputs": [
    {
     "data": {
      "text/plain": [
       "{'base': 'ETH',\n",
       " 'baseId': 'ETH',\n",
       " 'contract': True,\n",
       " 'contractSize': 1.0,\n",
       " 'spot': False,\n",
       " 'swap': False,\n",
       " 'future': False,\n",
       " 'type': 'option',\n",
       " 'linear': False,\n",
       " 'inverse': True,\n",
       " 'active': True,\n",
       " 'id': 'ETH-30JUN23-1700-P',\n",
       " 'strike': 1700.0,\n",
       " 'optionType': 'put',\n",
       " 'expiry': 1688112000000,\n",
       " 'expiryDatetime': '2023-06-30T09:00:00.000000Z',\n",
       " 'info': {'id': '0x01f460be7389b109cc3599941166ea851d0b7c787badf04b1f276d3ce9269a34',\n",
       "  'expiration': '1688112000',\n",
       "  'netDHVExposure': '-60750000000000000000',\n",
       "  'strike': '1700000000000000000000',\n",
       "  'isPut': True,\n",
       "  'isBuyable': True,\n",
       "  'isSellable': True,\n",
       "  'expiration_datetime': datetime.datetime(2023, 6, 30, 9, 0)},\n",
       " 'symbol': 'ETH-30JUN23-1700-P',\n",
       " 'maker': 0.0003,\n",
       " 'taker': 0.0003}"
      ]
     },
     "execution_count": 3,
     "metadata": {},
     "output_type": "execute_result"
    }
   ],
   "source": [
    "markets = client.fetch_markets()\n",
    "markets[0]"
   ]
  },
  {
   "attachments": {},
   "cell_type": "markdown",
   "id": "b1821e71",
   "metadata": {},
   "source": [
    "## Fetching Tickers\n",
    "\n",
    "Tickers can be fetched from the client as so;"
   ]
  },
  {
   "cell_type": "code",
   "execution_count": 4,
   "id": "109df62d",
   "metadata": {},
   "outputs": [
    {
     "data": {
      "text/plain": [
       "{'ask': 27.510602,\n",
       " 'bid': 24.958423,\n",
       " 'info': {'base': 'ETH',\n",
       "  'baseId': 'ETH',\n",
       "  'contract': True,\n",
       "  'contractSize': 1.0,\n",
       "  'spot': False,\n",
       "  'swap': False,\n",
       "  'future': False,\n",
       "  'type': 'option',\n",
       "  'linear': False,\n",
       "  'inverse': True,\n",
       "  'active': True,\n",
       "  'id': 'ETH-30JUN23-1700-P',\n",
       "  'strike': 1700.0,\n",
       "  'optionType': 'put',\n",
       "  'expiry': 1688112000000,\n",
       "  'expiryDatetime': '2023-06-30T09:00:00.000000Z',\n",
       "  'info': {'id': '0x01f460be7389b109cc3599941166ea851d0b7c787badf04b1f276d3ce9269a34',\n",
       "   'expiration': '1688112000',\n",
       "   'netDHVExposure': '-60750000000000000000',\n",
       "   'strike': '1700000000000000000000',\n",
       "   'isPut': True,\n",
       "   'isBuyable': True,\n",
       "   'isSellable': True,\n",
       "   'expiration_datetime': datetime.datetime(2023, 6, 30, 9, 0)},\n",
       "  'symbol': 'ETH-30JUN23-1700-P',\n",
       "  'maker': 0.0003,\n",
       "  'taker': 0.0003}}"
      ]
     },
     "execution_count": 4,
     "metadata": {},
     "output_type": "execute_result"
    }
   ],
   "source": [
    "tickers = client.fetch_tickers()\n",
    "tickers[0]"
   ]
  },
  {
   "attachments": {},
   "cell_type": "markdown",
   "id": "c725e501",
   "metadata": {},
   "source": [
    "## Fetching Positions\n",
    "Positions are fetched from the client such that a user can retrieve their positions.\n",
    "\n",
    "Positions are indicated by a vault id.\n",
    "\n",
    "The vaultid iterates when a new position is created. \n",
    "\n",
    "Vaultid can be retrieved from;\n",
    "\n",
    "\n",
    "\n"
   ]
  },
  {
   "cell_type": "code",
   "execution_count": 5,
   "id": "09de84ee",
   "metadata": {},
   "outputs": [
    {
     "data": {
      "text/plain": [
       "{'id': '0x9b8a204636a7aa9c33053d9c3a828720d32212e8-0x1c8b898ada9e994d67d86b1a1a15f5cdbaf6da08-l-0',\n",
       " 'symbol': 'ETH-09JUN23-1900-P',\n",
       " 'timestamp': 1686297600000,\n",
       " 'datetime': datetime.datetime(2023, 6, 9, 9, 0),\n",
       " 'initialMarginPercentage': None,\n",
       " 'realizedPnl': -4.4852716768,\n",
       " 'contractSize': '360000000000000000000',\n",
       " 'side': 'long',\n",
       " 'info': {'id': '0x9b8a204636a7aa9c33053d9c3a828720d32212e8-0x1c8b898ada9e994d67d86b1a1a15f5cdbaf6da08-l-0',\n",
       "  'netAmount': '360000000000000000000',\n",
       "  'buyAmount': '360000000000000000000',\n",
       "  'sellAmount': '0',\n",
       "  'active': True,\n",
       "  'realizedPnl': '-44852716768',\n",
       "  'oToken': {'id': '0x1c8b898ada9e994d67d86b1a1a15f5cdbaf6da08',\n",
       "   'symbol': '',\n",
       "   'expiryTimestamp': '1686297600',\n",
       "   'strikePrice': '190000000000',\n",
       "   'isPut': True,\n",
       "   'underlyingAsset': {'id': '0x3b3a1de07439eeb04492fa64a889ee25a130cdd3'},\n",
       "   'createdAt': '1685191086'},\n",
       "  'redeemActions': [],\n",
       "  'optionsBoughtTransactions': [{'amount': '1000000000000000000',\n",
       "    'premium': '85411979'},\n",
       "   {'amount': '2000000000000000000', 'premium': '148982158'},\n",
       "   {'amount': '5000000000000000000', 'premium': '568595995'},\n",
       "   {'amount': '2000000000000000000', 'premium': '147232776'},\n",
       "   {'amount': '1000000000000000000', 'premium': '80345856'},\n",
       "   {'amount': '5000000000000000000', 'premium': '754623020'},\n",
       "   {'amount': '5000000000000000000', 'premium': '577098533'},\n",
       "   {'amount': '5000000000000000000', 'premium': '456388925'},\n",
       "   {'amount': '5000000000000000000', 'premium': '795314771'},\n",
       "   {'amount': '5000000000000000000', 'premium': '812900950'},\n",
       "   {'amount': '1000000000000000000', 'premium': '75740402'},\n",
       "   {'amount': '5000000000000000000', 'premium': '789065184'},\n",
       "   {'amount': '1000000000000000000', 'premium': '81192329'},\n",
       "   {'amount': '5000000000000000000', 'premium': '498482650'},\n",
       "   {'amount': '5000000000000000000', 'premium': '680790621'},\n",
       "   {'amount': '5000000000000000000', 'premium': '527928890'},\n",
       "   {'amount': '5000000000000000000', 'premium': '449675922'},\n",
       "   {'amount': '5000000000000000000', 'premium': '521162730'},\n",
       "   {'amount': '1000000000000000000', 'premium': '85918506'},\n",
       "   {'amount': '1000000000000000000', 'premium': '86428248'},\n",
       "   {'amount': '5000000000000000000', 'premium': '491147819'},\n",
       "   {'amount': '1000000000000000000', 'premium': '85664952'},\n",
       "   {'amount': '2000000000000000000', 'premium': '149865819'},\n",
       "   {'amount': '5000000000000000000', 'premium': '631534398'},\n",
       "   {'amount': '2000000000000000000', 'premium': '144646675'},\n",
       "   {'amount': '5000000000000000000', 'premium': '732499858'},\n",
       "   {'amount': '5000000000000000000', 'premium': '470114108'},\n",
       "   {'amount': '5000000000000000000', 'premium': '690987987'},\n",
       "   {'amount': '1000000000000000000', 'premium': '84286070'},\n",
       "   {'amount': '5000000000000000000', 'premium': '876032718'},\n",
       "   {'amount': '5000000000000000000', 'premium': '551961448'},\n",
       "   {'amount': '5000000000000000000', 'premium': '771994153'},\n",
       "   {'amount': '1000000000000000000', 'premium': '84535732'},\n",
       "   {'amount': '1000000000000000000', 'premium': '84279477'},\n",
       "   {'amount': '1000000000000000000', 'premium': '82253448'},\n",
       "   {'amount': '2000000000000000000', 'premium': '146365342'},\n",
       "   {'amount': '5000000000000000000', 'premium': '543830397'},\n",
       "   {'amount': '1000000000000000000', 'premium': '80583215'},\n",
       "   {'amount': '4000000000000000000', 'premium': '305184177'},\n",
       "   {'amount': '5000000000000000000', 'premium': '640987152'},\n",
       "   {'amount': '2000000000000000000', 'premium': '145503388'},\n",
       "   {'amount': '5000000000000000000', 'premium': '443062676'},\n",
       "   {'amount': '5000000000000000000', 'premium': '622220354'},\n",
       "   {'amount': '5000000000000000000', 'premium': '741154995'},\n",
       "   {'amount': '5000000000000000000', 'premium': '840881177'},\n",
       "   {'amount': '1000000000000000000', 'premium': '82552807'},\n",
       "   {'amount': '5000000000000000000', 'premium': '535822355'},\n",
       "   {'amount': '5000000000000000000', 'premium': '604018230'},\n",
       "   {'amount': '5000000000000000000', 'premium': '765931819'},\n",
       "   {'amount': '1000000000000000000', 'premium': '80108544'},\n",
       "   {'amount': '5000000000000000000', 'premium': '831627246'},\n",
       "   {'amount': '5000000000000000000', 'premium': '749361360'},\n",
       "   {'amount': '5000000000000000000', 'premium': '777415411'},\n",
       "   {'amount': '1000000000000000000', 'premium': '84037211'},\n",
       "   {'amount': '5000000000000000000', 'premium': '701339627'},\n",
       "   {'amount': '1000000000000000000', 'premium': '83288180'},\n",
       "   {'amount': '5000000000000000000', 'premium': '513492797'},\n",
       "   {'amount': '5000000000000000000', 'premium': '670742921'},\n",
       "   {'amount': '1000000000000000000', 'premium': '80952540'},\n",
       "   {'amount': '5000000000000000000', 'premium': '585733695'},\n",
       "   {'amount': '1000000000000000000', 'premium': '82010604'},\n",
       "   {'amount': '5000000000000000000', 'premium': '863083930'},\n",
       "   {'amount': '5000000000000000000', 'premium': '613043431'},\n",
       "   {'amount': '5000000000000000000', 'premium': '800892781'},\n",
       "   {'amount': '4000000000000000000', 'premium': '315514106'},\n",
       "   {'amount': '2000000000000000000', 'premium': '150754579'},\n",
       "   {'amount': '1000000000000000000', 'premium': '80713635'},\n",
       "   {'amount': '5000000000000000000', 'premium': '660851337'},\n",
       "   {'amount': '5000000000000000000', 'premium': '483918272'},\n",
       "   {'amount': '4000000000000000000', 'premium': '311802564'},\n",
       "   {'amount': '4000000000000000000', 'premium': '308813822'},\n",
       "   {'amount': '5000000000000000000', 'premium': '436553406'},\n",
       "   {'amount': '1000000000000000000', 'premium': '83782490'},\n",
       "   {'amount': '5000000000000000000', 'premium': '807240638'},\n",
       "   {'amount': '5000000000000000000', 'premium': '594497886'},\n",
       "   {'amount': '1000000000000000000', 'premium': '81768992'},\n",
       "   {'amount': '1000000000000000000', 'premium': '84030699'},\n",
       "   {'amount': '5000000000000000000', 'premium': '825093045'},\n",
       "   {'amount': '5000000000000000000', 'premium': '837468476'},\n",
       "   {'amount': '5000000000000000000', 'premium': '853495586'},\n",
       "   {'amount': '5000000000000000000', 'premium': '651099941'},\n",
       "   {'amount': '1000000000000000000', 'premium': '83042247'},\n",
       "   {'amount': '5000000000000000000', 'premium': '889176821'},\n",
       "   {'amount': '1000000000000000000', 'premium': '83534965'},\n",
       "   {'amount': '5000000000000000000', 'premium': '722507695'},\n",
       "   {'amount': '5000000000000000000', 'premium': '711843975'},\n",
       "   {'amount': '5000000000000000000', 'premium': '560217431'},\n",
       "   {'amount': '5000000000000000000', 'premium': '760595165'},\n",
       "   {'amount': '5000000000000000000', 'premium': '819344684'},\n",
       "   {'amount': '1000000000000000000', 'premium': '82796990'},\n",
       "   {'amount': '1000000000000000000', 'premium': '85159819'},\n",
       "   {'amount': '5000000000000000000', 'premium': '463202872'},\n",
       "   {'amount': '1000000000000000000', 'premium': '80821894'},\n",
       "   {'amount': '5000000000000000000', 'premium': '476798780'},\n",
       "   {'amount': '2000000000000000000', 'premium': '148104491'},\n",
       "   {'amount': '5000000000000000000', 'premium': '743479150'},\n",
       "   {'amount': '5000000000000000000', 'premium': '783569359'},\n",
       "   {'amount': '5000000000000000000', 'premium': '848702420'},\n",
       "   {'amount': '1000000000000000000', 'premium': '86173174'},\n",
       "   {'amount': '5000000000000000000', 'premium': '505931893'}],\n",
       "  'optionsSoldTransactions': [],\n",
       "  'expiration_datetime': datetime.datetime(2023, 6, 9, 9, 0),\n",
       "  'strike': 1.9e+21,\n",
       "  'isPut': True},\n",
       " 'contracts': None,\n",
       " 'marginRatio': None,\n",
       " 'liquidationPrice': None,\n",
       " 'lastPrice': None,\n",
       " 'collateral': None,\n",
       " 'marginMode': None,\n",
       " 'initialMargin': None,\n",
       " 'maintenanceMargin': None,\n",
       " 'maintenanceMarginPercentage': None,\n",
       " 'entryPrice': None,\n",
       " 'notional': None,\n",
       " 'leverage': None,\n",
       " 'percentage': None}"
      ]
     },
     "execution_count": 5,
     "metadata": {},
     "output_type": "execute_result"
    }
   ],
   "source": [
    "positions = client.fetch_positions()\n",
    "positions[0]"
   ]
  },
  {
   "attachments": {},
   "cell_type": "markdown",
   "id": "671deb82",
   "metadata": {},
   "source": [
    "# Tests"
   ]
  },
  {
   "cell_type": "code",
   "execution_count": 6,
   "id": "0a3ef446",
   "metadata": {},
   "outputs": [
    {
     "name": "stdout",
     "output_type": "stream",
     "text": [
      "poetry run adev test -v -p tests\n",
      "Testing Open Autonomy Packages\n",
      "\u001b[2K\u001b[2;36m[14:13:41]\u001b[0m\u001b[2;36m \u001b[0m\u001b[34mINFO    \u001b[0m \u001b\u001b[1m[\u001b[0m\u001b[33m1m\u001b[0m============================= test     \u001b]8;id=536186;file:///home/tom/.cache/pypoetry/virtualenvs/rysk-client-O72xupT4-py3.10/lib/python3.10/site-packages/auto_dev/cli_executor.py\u001b\\\u001b[2mcli_executor.py\u001b[0m\u001b]8;;\u001b\\\u001b[2m:\u001b[0m\u001b]8;id=447753;file:///home/tom/.cache/pypoetry/virtualenvs/rysk-client-O72xupT4-py3.10/lib/python3.10/site-packages/auto_dev/cli_executor.py#36\u001b\\\u001b[2m36\u001b[0m\u001b]8;;\u001b\\\n",
      "\u001b[2;36m           \u001b[0m         session starts                            \u001b[2m                  \u001b[0m\n",
      "\u001b[2;36m           \u001b[0m         ==============================\u001b\u001b[1m[\u001b[0m0m         \u001b[2m                  \u001b[0m\n",
      "\u001b[2;36m           \u001b[0m         platform linux -- Python \u001b[1;36m3.10\u001b[0m.\u001b[1;36m4\u001b[0m,          \u001b[2m                  \u001b[0m\n",
      "\u001b[2;36m           \u001b[0m         pytest-\u001b[1;36m7.3\u001b[0m.\u001b[1;36m1\u001b[0m, pluggy-\u001b[1;36m1.0\u001b[0m.\u001b[1;36m0\u001b[0m                \u001b[2m                  \u001b[0m\n",
      "\u001b[2;36m           \u001b[0m         rootdir:                                  \u001b[2m                  \u001b[0m\n",
      "\u001b[2;36m           \u001b[0m         \u001b[35m/home/tom/Desktop/Fun/\u001b[0m\u001b[95mrysk_explorations\u001b[0m   \u001b[2m                  \u001b[0m\n",
      "\u001b[2;36m           \u001b[0m         configfile: pytest.ini                    \u001b[2m                  \u001b[0m\n",
      "\u001b[2;36m           \u001b[0m         plugins: cov-\u001b[1;36m3.0\u001b[0m.\u001b[1;36m0\u001b[0m, pylama-\u001b[1;36m8.4\u001b[0m.\u001b[1;36m1\u001b[0m,         \u001b[2m                  \u001b[0m\n",
      "\u001b[2;36m           \u001b[0m         web3-\u001b[1;36m5.31\u001b[0m.\u001b[1;36m4\u001b[0m, anyio-\u001b[1;36m3.7\u001b[0m.\u001b[1;36m0\u001b[0m                  \u001b[2m                  \u001b[0m\n",
      "\u001b[2;36m           \u001b[0m         collected \u001b[1;36m23\u001b[0m items                        \u001b[2m                  \u001b[0m\n",
      "\u001b[2;36m           \u001b[0m                                                   \u001b[2m                  \u001b[0m\n",
      "\u001b[2;36m           \u001b[0m         tests/test_client.py                      \u001b[2m                  \u001b[0m\n",
      "\u001b[2;36m           \u001b[0m         \u001b\u001b[1m[\u001b[0m32m.\u001b\u001b[1m[\u001b[0m0m\u001b\u001b[1m[\u001b[0m32m.\u001b\u001b[1m[\u001b[0m0m\u001b\u001b[1m[\u001b[0m33ms\u001b\u001b[1m[\u001b[0m0m\u001b\u001b[1m[\u001b[0m32m              \u001b[2m                  \u001b[0m\n",
      "\u001b[2;36m           \u001b[0m         \u001b[1m[\u001b[0m \u001b[1;36m13\u001b[0m%\u001b[1m]\u001b[0m\u001b\u001b[1m[\u001b[0m0m                                 \u001b[2m                  \u001b[0m\n",
      "\u001b[2;36m           \u001b[0m         tests/test_collateral.py                  \u001b[2m                  \u001b[0m\n",
      "\u001b[2;36m           \u001b[0m         \u001b\u001b[1m[\u001b[0m32m.\u001b\u001b[1m[\u001b[0m0m\u001b\u001b[1m[\u001b[0m32m.\u001b\u001b[1m[\u001b[0m0m\u001b\u001b[1m[\u001b[0m32m.\u001b\u001b[1m[\u001b[0m0m\u001b\u001b[1m[\u001b[0m32m.\u001b\u001b[1m[\u001b[0m0m\u001b          \u001b[2m                  \u001b[0m\n",
      "\u001b[2;36m           \u001b[0m         \u001b[1m[\u001b[0m32m.\u001b\u001b[1m[\u001b[0m0m\u001b\u001b[1m[\u001b[0m32m.\u001b\u001b[1m[\u001b[0m0m\u001b\u001b[1m[\u001b[0m32m                      \u001b[2m                  \u001b[0m\n",
      "\u001b[2;36m           \u001b[0m                        \u001b[1m[\u001b[0m \u001b[1;36m39\u001b[0m%\u001b[1m]\u001b[0m\u001b\u001b[1m[\u001b[0m0m                  \u001b[2m                  \u001b[0m\n",
      "\u001b[2;36m           \u001b[0m         tests/test_rysk_option_market.py          \u001b[2m                  \u001b[0m\n",
      "\u001b[2;36m           \u001b[0m         \u001b\u001b[1m[\u001b[0m32m.\u001b\u001b[1m[\u001b[0m0m\u001b\u001b[1m[\u001b[0m32m.\u001b\u001b[1m[\u001b[0m0m\u001b\u001b[1m[\u001b[0m32m                      \u001b[2m                  \u001b[0m\n",
      "\u001b[2;36m           \u001b[0m         \u001b[1m[\u001b[0m \u001b[1;36m47\u001b[0m%\u001b[1m]\u001b[0m\u001b\u001b[1m[\u001b[0m0m                                 \u001b[2m                  \u001b[0m\n",
      "\u001b[2;36m           \u001b[0m         tests/test_rysk_options_market_manager.py \u001b[2m                  \u001b[0m\n",
      "\u001b[2;36m           \u001b[0m         \u001b\u001b[1m[\u001b[0m32m.\u001b\u001b[1m[\u001b[0m0m\u001b\u001b[1m[\u001b[0m32m.\u001b\u001b[1m[\u001b[0m0m\u001b\u001b[1m[\u001b[0m32m                      \u001b[2m                  \u001b[0m\n",
      "\u001b[2;36m           \u001b[0m         \u001b[1m[\u001b[0m \u001b[1;36m56\u001b[0m%\u001b[1m]\u001b[0m\u001b\u001b[1m[\u001b[0m0m                                 \u001b[2m                  \u001b[0m\n",
      "\u001b[2;36m           \u001b[0m         tests/test_subgraph.py \u001b\u001b[1m[\u001b[0m32m.\u001b\u001b[1m[\u001b[0m0m\u001b\u001b[1m[\u001b[0m32m       \u001b[2m                  \u001b[0m\n",
      "\u001b[2;36m           \u001b[0m         \u001b[1m[\u001b[0m \u001b[1;36m60\u001b[0m%\u001b[1m]\u001b[0m\u001b\u001b[1m[\u001b[0m0m                                 \u001b[2m                  \u001b[0m\n",
      "\u001b[2;36m           \u001b[0m         tests/test_utils.py                       \u001b[2m                  \u001b[0m\n",
      "\u001b[2;36m           \u001b[0m         \u001b\u001b[1m[\u001b[0m32m.\u001b\u001b[1m[\u001b[0m0m\u001b\u001b[1m[\u001b[0m32m.\u001b\u001b[1m[\u001b[0m0m\u001b\u001b[1m[\u001b[0m32m.\u001b\u001b[1m[\u001b[0m0m\u001b\u001b[1m[\u001b[0m32m.\u001b\u001b[1m[\u001b[0m0m\u001b          \u001b[2m                  \u001b[0m\n",
      "\u001b[2;36m           \u001b[0m         \u001b[1m[\u001b[0m32m.\u001b\u001b[1m[\u001b[0m0m\u001b\u001b[1m[\u001b[0m32m.\u001b\u001b[1m[\u001b[0m0m\u001b\u001b[1m[\u001b[0m32m.\u001b\u001b[1m[\u001b[0m0m\u001b\u001b[1m[\u001b[0m32m.\u001b\u001b[1m[\u001b[0m0m\u001b\u001b[1m[\u001b[0m32m.\u001b\u001b[1m[\u001b[0m0m\u001b  \u001b[2m                  \u001b[0m\n",
      "\u001b[2;36m           \u001b[0m         \u001b[1m[\u001b[0m32m                                      \u001b[2m                  \u001b[0m\n",
      "\u001b[2;36m           \u001b[0m         \u001b[1m[\u001b[0m\u001b[1;36m100\u001b[0m%\u001b[1m]\u001b[0m\u001b\u001b[1m[\u001b[0m0m                                 \u001b[2m                  \u001b[0m\n",
      "\u001b[2;36m           \u001b[0m                                                   \u001b[2m                  \u001b[0m\n",
      "\u001b[2;36m           \u001b[0m         \u001b\u001b[1m[\u001b[0m\u001b[33m32m\u001b[0m======================== \u001b\u001b[1m[\u001b[0m32m\u001b\u001b[1m[\u001b[0m1m22    \u001b[2m                  \u001b[0m\n",
      "\u001b[2;36m           \u001b[0m         passed\u001b\u001b[1m[\u001b[0m0m, \u001b\u001b[1m[\u001b[0m33m1 skipped\u001b\u001b[1m[\u001b[0m0m\u001b\u001b[1m[\u001b[0m32m in        \u001b[2m                  \u001b[0m\n",
      "\u001b[2;36m           \u001b[0m         \u001b[1;36m25.\u001b[0m17s\u001b\u001b[1m[\u001b[0m0m\u001b\u001b[1m[\u001b[0m32m ========================\u001b\u001b[1m[\u001b[0m0m \u001b[2m                  \u001b[0m\n",
      "\u001b[2;36m           \u001b[0m                                                   \u001b[2m                  \u001b[0m\n",
      "\u001b[2KTesting... \u001b[38;2;114;156;31m━━━━━━━━━━━━━━━━━━━━━━━━━━━━━━━━━━━━━━━━\u001b[0m \u001b[35m100%\u001b[0m \u001b[33m0:00:26\u001b[0m\n",
      "\u001b[?25hTesting completed successfully!\n"
     ]
    }
   ],
   "source": [
    "!make test"
   ]
  },
  {
   "cell_type": "code",
   "execution_count": 7,
   "id": "cbbf54e6",
   "metadata": {},
   "outputs": [
    {
     "name": "stdout",
     "output_type": "stream",
     "text": [
      "poetry run isort tests rysk_client && poetry run black tests rysk_client\n",
      "\u001b[1mAll done! ✨ 🍰 ✨\u001b[0m\n",
      "\u001b[34m19 files \u001b[0mleft unchanged.\n",
      "poetry run adev lint -v -p tests\n",
      "\u001b[2;36m[14:13:44]\u001b[0m\u001b[2;36m \u001b[0m\u001b[34mINFO    \u001b[0m Linting Open Autonomy Packages                     \u001b]8;id=281004;file:///home/tom/.cache/pypoetry/virtualenvs/rysk-client-O72xupT4-py3.10/lib/python3.10/site-packages/auto_dev/cli.py\u001b\\\u001b[2mcli.py\u001b[0m\u001b]8;;\u001b\\\u001b[2m:\u001b[0m\u001b]8;id=265993;file:///home/tom/.cache/pypoetry/virtualenvs/rysk-client-O72xupT4-py3.10/lib/python3.10/site-packages/auto_dev/cli.py#47\u001b\\\u001b[2m47\u001b[0m\u001b]8;;\u001b\\\n",
      "\u001b[2KLinting... \u001b[38;2;114;156;31m━━━━━━━━━━━━━━━━━━━━━━━━━━━━━━━━━━━━━━━━\u001b[0m \u001b[35m100%\u001b[0m \u001b[33m0:00:03\u001b[0m\n",
      "\u001b[?25h\u001b[2;36m[14:13:48]\u001b[0m\u001b[2;36m \u001b[0m\u001b[34mINFO    \u001b[0m Linting completed successfully!                    \u001b]8;id=864081;file:///home/tom/.cache/pypoetry/virtualenvs/rysk-client-O72xupT4-py3.10/lib/python3.10/site-packages/auto_dev/cli.py\u001b\\\u001b[2mcli.py\u001b[0m\u001b]8;;\u001b\\\u001b[2m:\u001b[0m\u001b]8;id=992553;file:///home/tom/.cache/pypoetry/virtualenvs/rysk-client-O72xupT4-py3.10/lib/python3.10/site-packages/auto_dev/cli.py#66\u001b\\\u001b[2m66\u001b[0m\u001b]8;;\u001b\\\n"
     ]
    }
   ],
   "source": [
    "!make fmt lint"
   ]
  },
  {
   "cell_type": "code",
   "execution_count": null,
   "id": "4603b3f8",
   "metadata": {},
   "outputs": [],
   "source": []
  },
  {
   "attachments": {},
   "cell_type": "markdown",
   "id": "3fed21ee",
   "metadata": {},
   "source": [
    "# Releasing\n",
    "Git ops is used to enable automated releases via pypi.\n",
    "\n",
    "```bash\n",
    "export NEW_VERSION=0.2.11\n",
    "git checkout -b v$NEW_VERSION &&\n",
    "    bumpversion  rysk_client/ --new-version $NEW_VERSION && \n",
    "git push && git push --tag\n",
    "\n",
    "```"
   ]
  }
 ],
 "metadata": {
  "kernelspec": {
   "display_name": "Python 3 (ipykernel)",
   "language": "python",
   "name": "python3"
  },
  "language_info": {
   "codemirror_mode": {
    "name": "ipython",
    "version": 3
   },
   "file_extension": ".py",
   "mimetype": "text/x-python",
   "name": "python",
   "nbconvert_exporter": "python",
   "pygments_lexer": "ipython3",
   "version": "3.10.4"
  }
 },
 "nbformat": 4,
 "nbformat_minor": 5
}
