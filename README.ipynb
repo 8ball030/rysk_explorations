{
 "cells": [
  {
   "attachments": {},
   "cell_type": "markdown",
   "id": "1a55daf8",
   "metadata": {},
   "source": [
    "# Rysk Client\n",
    "\n",
    "## Installation\n",
    "\n",
    "### Dev\n",
    "\n",
    "dependencies are managed with poetry. \n",
    "\n",
    "For dev build."
   ]
  },
  {
   "cell_type": "code",
   "execution_count": 21,
   "id": "fbe14430",
   "metadata": {},
   "outputs": [
    {
     "name": "stdout",
     "output_type": "stream",
     "text": [
      "Requirement already satisfied: rysk-client in /home/tom/.pyenv/versions/3.10.4/lib/python3.10/site-packages (0.1.3)\n",
      "Requirement already satisfied: web3<6.0.0,>=5.4.0 in /home/tom/.pyenv/versions/3.10.4/lib/python3.10/site-packages (from rysk-client) (5.25.0)\n",
      "Requirement already satisfied: ccxt<4.0.0,>=3.1.15 in /home/tom/.pyenv/versions/3.10.4/lib/python3.10/site-packages (from rysk-client) (3.1.17)\n",
      "Requirement already satisfied: requests>=2.18.4 in /home/tom/.pyenv/versions/3.10.4/lib/python3.10/site-packages (from ccxt<4.0.0,>=3.1.15->rysk-client) (2.28.1)\n",
      "Requirement already satisfied: cryptography>=2.6.1 in /home/tom/.pyenv/versions/3.10.4/lib/python3.10/site-packages (from ccxt<4.0.0,>=3.1.15->rysk-client) (39.0.1)\n",
      "Requirement already satisfied: setuptools>=60.9.0 in /home/tom/.pyenv/versions/3.10.4/lib/python3.10/site-packages (from ccxt<4.0.0,>=3.1.15->rysk-client) (67.8.0)\n",
      "Requirement already satisfied: aiodns>=1.1.1 in /home/tom/.pyenv/versions/3.10.4/lib/python3.10/site-packages (from ccxt<4.0.0,>=3.1.15->rysk-client) (3.0.0)\n",
      "Requirement already satisfied: certifi>=2018.1.18 in /home/tom/.pyenv/versions/3.10.4/lib/python3.10/site-packages (from ccxt<4.0.0,>=3.1.15->rysk-client) (2022.6.15)\n",
      "Requirement already satisfied: aiohttp>=3.8 in /home/tom/.pyenv/versions/3.10.4/lib/python3.10/site-packages (from ccxt<4.0.0,>=3.1.15->rysk-client) (3.8.4)\n",
      "Requirement already satisfied: yarl>=1.7.2 in /home/tom/.pyenv/versions/3.10.4/lib/python3.10/site-packages (from ccxt<4.0.0,>=3.1.15->rysk-client) (1.7.2)\n",
      "Requirement already satisfied: protobuf<4,>=3.10.0 in /home/tom/.pyenv/versions/3.10.4/lib/python3.10/site-packages (from web3<6.0.0,>=5.4.0->rysk-client) (3.20.3)\n",
      "Requirement already satisfied: eth-typing<3.0.0,>=2.0.0 in /home/tom/.pyenv/versions/3.10.4/lib/python3.10/site-packages (from web3<6.0.0,>=5.4.0->rysk-client) (2.3.0)\n",
      "Requirement already satisfied: hexbytes<1.0.0,>=0.1.0 in /home/tom/.pyenv/versions/3.10.4/lib/python3.10/site-packages (from web3<6.0.0,>=5.4.0->rysk-client) (0.3.0)\n",
      "Requirement already satisfied: eth-utils<2.0.0,>=1.9.5 in /home/tom/.pyenv/versions/3.10.4/lib/python3.10/site-packages (from web3<6.0.0,>=5.4.0->rysk-client) (1.9.5)\n",
      "Requirement already satisfied: websockets<10,>=9.1 in /home/tom/.pyenv/versions/3.10.4/lib/python3.10/site-packages (from web3<6.0.0,>=5.4.0->rysk-client) (9.1)\n",
      "Requirement already satisfied: lru-dict<2.0.0,>=1.1.6 in /home/tom/.pyenv/versions/3.10.4/lib/python3.10/site-packages (from web3<6.0.0,>=5.4.0->rysk-client) (1.1.8)\n",
      "Requirement already satisfied: eth-account<0.6.0,>=0.5.6 in /home/tom/.pyenv/versions/3.10.4/lib/python3.10/site-packages (from web3<6.0.0,>=5.4.0->rysk-client) (0.5.6)\n",
      "Requirement already satisfied: eth-hash[pycryptodome]<1.0.0,>=0.2.0 in /home/tom/.pyenv/versions/3.10.4/lib/python3.10/site-packages (from web3<6.0.0,>=5.4.0->rysk-client) (0.5.0)\n",
      "Requirement already satisfied: ipfshttpclient==0.8.0a2 in /home/tom/.pyenv/versions/3.10.4/lib/python3.10/site-packages (from web3<6.0.0,>=5.4.0->rysk-client) (0.8.0a2)\n",
      "Requirement already satisfied: jsonschema<4.0.0,>=3.2.0 in /home/tom/.pyenv/versions/3.10.4/lib/python3.10/site-packages (from web3<6.0.0,>=5.4.0->rysk-client) (3.2.0)\n",
      "Requirement already satisfied: eth-abi<3.0.0,>=2.0.0b6 in /home/tom/.pyenv/versions/3.10.4/lib/python3.10/site-packages (from web3<6.0.0,>=5.4.0->rysk-client) (2.2.0)\n",
      "Requirement already satisfied: multiaddr>=0.0.7 in /home/tom/.pyenv/versions/3.10.4/lib/python3.10/site-packages (from ipfshttpclient==0.8.0a2->web3<6.0.0,>=5.4.0->rysk-client) (0.0.9)\n",
      "Requirement already satisfied: pycares>=4.0.0 in /home/tom/.pyenv/versions/3.10.4/lib/python3.10/site-packages (from aiodns>=1.1.1->ccxt<4.0.0,>=3.1.15->rysk-client) (4.2.2)\n",
      "Requirement already satisfied: multidict<7.0,>=4.5 in /home/tom/.pyenv/versions/3.10.4/lib/python3.10/site-packages (from aiohttp>=3.8->ccxt<4.0.0,>=3.1.15->rysk-client) (6.0.2)\n",
      "Requirement already satisfied: async-timeout<5.0,>=4.0.0a3 in /home/tom/.pyenv/versions/3.10.4/lib/python3.10/site-packages (from aiohttp>=3.8->ccxt<4.0.0,>=3.1.15->rysk-client) (4.0.2)\n",
      "Requirement already satisfied: attrs>=17.3.0 in /home/tom/.pyenv/versions/3.10.4/lib/python3.10/site-packages (from aiohttp>=3.8->ccxt<4.0.0,>=3.1.15->rysk-client) (22.1.0)\n",
      "Requirement already satisfied: charset-normalizer<4.0,>=2.0 in /home/tom/.pyenv/versions/3.10.4/lib/python3.10/site-packages (from aiohttp>=3.8->ccxt<4.0.0,>=3.1.15->rysk-client) (2.1.1)\n",
      "Requirement already satisfied: frozenlist>=1.1.1 in /home/tom/.pyenv/versions/3.10.4/lib/python3.10/site-packages (from aiohttp>=3.8->ccxt<4.0.0,>=3.1.15->rysk-client) (1.3.1)\n",
      "Requirement already satisfied: aiosignal>=1.1.2 in /home/tom/.pyenv/versions/3.10.4/lib/python3.10/site-packages (from aiohttp>=3.8->ccxt<4.0.0,>=3.1.15->rysk-client) (1.2.0)\n",
      "Requirement already satisfied: cffi>=1.12 in /home/tom/.pyenv/versions/3.10.4/lib/python3.10/site-packages (from cryptography>=2.6.1->ccxt<4.0.0,>=3.1.15->rysk-client) (1.15.1)\n",
      "Requirement already satisfied: parsimonious<0.9.0,>=0.8.0 in /home/tom/.pyenv/versions/3.10.4/lib/python3.10/site-packages (from eth-abi<3.0.0,>=2.0.0b6->web3<6.0.0,>=5.4.0->rysk-client) (0.8.1)\n",
      "Requirement already satisfied: rlp<3,>=1.0.0 in /home/tom/.pyenv/versions/3.10.4/lib/python3.10/site-packages (from eth-account<0.6.0,>=0.5.6->web3<6.0.0,>=5.4.0->rysk-client) (2.0.1)\n",
      "Requirement already satisfied: eth-rlp<2,>=0.1.2 in /home/tom/.pyenv/versions/3.10.4/lib/python3.10/site-packages (from eth-account<0.6.0,>=0.5.6->web3<6.0.0,>=5.4.0->rysk-client) (0.2.1)\n",
      "Requirement already satisfied: bitarray<1.3.0,>=1.2.1 in /home/tom/.pyenv/versions/3.10.4/lib/python3.10/site-packages (from eth-account<0.6.0,>=0.5.6->web3<6.0.0,>=5.4.0->rysk-client) (1.2.2)\n",
      "Requirement already satisfied: eth-keyfile<0.6.0,>=0.5.0 in /home/tom/.pyenv/versions/3.10.4/lib/python3.10/site-packages (from eth-account<0.6.0,>=0.5.6->web3<6.0.0,>=5.4.0->rysk-client) (0.5.1)\n",
      "Requirement already satisfied: eth-keys!=0.3.2,<0.4.0,>=0.2.1 in /home/tom/.pyenv/versions/3.10.4/lib/python3.10/site-packages (from eth-account<0.6.0,>=0.5.6->web3<6.0.0,>=5.4.0->rysk-client) (0.3.4)\n",
      "Requirement already satisfied: pycryptodome<4,>=3.6.6 in /home/tom/.pyenv/versions/3.10.4/lib/python3.10/site-packages (from eth-hash[pycryptodome]<1.0.0,>=0.2.0->web3<6.0.0,>=5.4.0->rysk-client) (3.15.0)\n",
      "Requirement already satisfied: cytoolz<1.0.0,>=0.10.1 in /home/tom/.pyenv/versions/3.10.4/lib/python3.10/site-packages (from eth-utils<2.0.0,>=1.9.5->web3<6.0.0,>=5.4.0->rysk-client) (0.12.0)\n",
      "Requirement already satisfied: pyrsistent>=0.14.0 in /home/tom/.pyenv/versions/3.10.4/lib/python3.10/site-packages (from jsonschema<4.0.0,>=3.2.0->web3<6.0.0,>=5.4.0->rysk-client) (0.18.1)\n",
      "Requirement already satisfied: six>=1.11.0 in /home/tom/.pyenv/versions/3.10.4/lib/python3.10/site-packages (from jsonschema<4.0.0,>=3.2.0->web3<6.0.0,>=5.4.0->rysk-client) (1.16.0)\n",
      "Requirement already satisfied: idna<4,>=2.5 in /home/tom/.pyenv/versions/3.10.4/lib/python3.10/site-packages (from requests>=2.18.4->ccxt<4.0.0,>=3.1.15->rysk-client) (3.3)\n",
      "Requirement already satisfied: urllib3<1.27,>=1.21.1 in /home/tom/.pyenv/versions/3.10.4/lib/python3.10/site-packages (from requests>=2.18.4->ccxt<4.0.0,>=3.1.15->rysk-client) (1.26.12)\n",
      "Requirement already satisfied: pycparser in /home/tom/.pyenv/versions/3.10.4/lib/python3.10/site-packages (from cffi>=1.12->cryptography>=2.6.1->ccxt<4.0.0,>=3.1.15->rysk-client) (2.21)\n",
      "Requirement already satisfied: toolz>=0.8.0 in /home/tom/.pyenv/versions/3.10.4/lib/python3.10/site-packages (from cytoolz<1.0.0,>=0.10.1->eth-utils<2.0.0,>=1.9.5->web3<6.0.0,>=5.4.0->rysk-client) (0.11.2)\n",
      "Requirement already satisfied: netaddr in /home/tom/.pyenv/versions/3.10.4/lib/python3.10/site-packages (from multiaddr>=0.0.7->ipfshttpclient==0.8.0a2->web3<6.0.0,>=5.4.0->rysk-client) (0.8.0)\n",
      "Requirement already satisfied: base58 in /home/tom/.pyenv/versions/3.10.4/lib/python3.10/site-packages (from multiaddr>=0.0.7->ipfshttpclient==0.8.0a2->web3<6.0.0,>=5.4.0->rysk-client) (2.1.1)\n",
      "Requirement already satisfied: varint in /home/tom/.pyenv/versions/3.10.4/lib/python3.10/site-packages (from multiaddr>=0.0.7->ipfshttpclient==0.8.0a2->web3<6.0.0,>=5.4.0->rysk-client) (1.0.2)\n",
      "\u001b[33mWARNING: Error parsing requirements for vulture: [Errno 2] No such file or directory: '/home/tom/.pyenv/versions/3.10.4/lib/python3.10/site-packages/vulture-2.5.dist-info/METADATA'\u001b[0m\u001b[33m\n",
      "\u001b[0m\u001b[33mWARNING: You are using pip version 22.0.4; however, version 23.1.2 is available.\n",
      "You should consider upgrading via the '/home/tom/.pyenv/versions/3.10.4/bin/python3.10 -m pip install --upgrade pip' command.\u001b[0m\u001b[33m\n",
      "\u001b[0m"
     ]
    }
   ],
   "source": [
    "!pip install rysk-client"
   ]
  },
  {
   "attachments": {},
   "cell_type": "markdown",
   "id": "ecadae08",
   "metadata": {},
   "source": [
    "# Usage\n"
   ]
  },
  {
   "cell_type": "code",
   "execution_count": 1,
   "id": "856a0f01",
   "metadata": {},
   "outputs": [
    {
     "data": {
      "text/plain": [
       "True"
      ]
     },
     "execution_count": 1,
     "metadata": {},
     "output_type": "execute_result"
    }
   ],
   "source": [
    "from rysk_client.src.utils import get_web3\n",
    "\n",
    "web3 = get_web3()\n",
    "web3.isConnected()"
   ]
  },
  {
   "attachments": {},
   "cell_type": "markdown",
   "id": "464d2ace",
   "metadata": {},
   "source": [
    "## Creating a Client \n",
    "\n",
    "Clients can be created from the rysk client module."
   ]
  },
  {
   "cell_type": "code",
   "execution_count": 2,
   "id": "625c7b97",
   "metadata": {},
   "outputs": [
    {
     "data": {
      "text/plain": [
       "RyskClient(_markets=[], _tickers=[])"
      ]
     },
     "execution_count": 2,
     "metadata": {},
     "output_type": "execute_result"
    }
   ],
   "source": [
    "from rysk_client.client import RyskClient\n",
    "from tests.conftest import DEFAULT_ADDRESS\n",
    "\n",
    "auth = {\n",
    "    \"address\": DEFAULT_ADDRESS,\n",
    "}\n",
    "\n",
    "client = RyskClient(**auth)\n",
    "client\n"
   ]
  },
  {
   "attachments": {},
   "cell_type": "markdown",
   "id": "0e00c54a",
   "metadata": {},
   "source": [
    "## Fetching Markets\n",
    "\n",
    "The client can fetch markets as so;\n"
   ]
  },
  {
   "cell_type": "code",
   "execution_count": 3,
   "id": "9ede9d6a",
   "metadata": {},
   "outputs": [
    {
     "data": {
      "text/plain": [
       "{'base': 'ETH',\n",
       " 'baseId': 'ETH',\n",
       " 'contract': True,\n",
       " 'contractSize': 1.0,\n",
       " 'spot': False,\n",
       " 'swap': False,\n",
       " 'future': False,\n",
       " 'type': 'option',\n",
       " 'linear': False,\n",
       " 'inverse': True,\n",
       " 'active': True,\n",
       " 'id': 'ETH-30JUN23-1700-P',\n",
       " 'strike': 1700.0,\n",
       " 'optionType': 'put',\n",
       " 'expiry': 1688112000000,\n",
       " 'expiryDatetime': '2023-06-30T09:00:00.000000Z',\n",
       " 'info': {'id': '0x01f460be7389b109cc3599941166ea851d0b7c787badf04b1f276d3ce9269a34',\n",
       "  'expiration': '1688112000',\n",
       "  'netDHVExposure': '-60750000000000000000',\n",
       "  'strike': '1700000000000000000000',\n",
       "  'isPut': True,\n",
       "  'isBuyable': True,\n",
       "  'isSellable': True,\n",
       "  'expiration_datetime': datetime.datetime(2023, 6, 30, 9, 0)},\n",
       " 'symbol': 'ETH-30JUN23-1700-P',\n",
       " 'maker': 0.0003,\n",
       " 'taker': 0.0003}"
      ]
     },
     "execution_count": 3,
     "metadata": {},
     "output_type": "execute_result"
    }
   ],
   "source": [
    "markets = client.fetch_markets()\n",
    "markets[0]"
   ]
  },
  {
   "attachments": {},
   "cell_type": "markdown",
   "id": "b1821e71",
   "metadata": {},
   "source": [
    "## Fetching Tickers\n",
    "\n",
    "Tickers can be fetched from the client as so;"
   ]
  },
  {
   "cell_type": "code",
   "execution_count": 4,
   "id": "109df62d",
   "metadata": {},
   "outputs": [
    {
     "data": {
      "text/plain": [
       "{'ask': 78.983685,\n",
       " 'bid': 75.548413,\n",
       "{'ask': 27.510602,\n",
       " 'bid': 24.958423,\n",
       " 'info': {'base': 'ETH',\n",
       "  'baseId': 'ETH',\n",
       "  'contract': True,\n",
       "  'contractSize': 1.0,\n",
       "  'spot': False,\n",
       "  'swap': False,\n",
       "  'future': False,\n",
       "  'type': 'option',\n",
       "  'linear': False,\n",
       "  'inverse': True,\n",
       "  'active': True,\n",
       "  'id': 'ETH-30JUN23-1700-P',\n",
       "  'strike': 1700.0,\n",
       "  'optionType': 'put',\n",
       "  'expiry': 1688112000000,\n",
       "  'expiryDatetime': '2023-06-30T09:00:00.000000Z',\n",
       "  'info': {'id': '0x01f460be7389b109cc3599941166ea851d0b7c787badf04b1f276d3ce9269a34',\n",
       "   'expiration': '1688112000',\n",
       "   'netDHVExposure': '-60750000000000000000',\n",
       "   'strike': '1700000000000000000000',\n",
       "   'isPut': True,\n",
       "   'isBuyable': True,\n",
       "   'isSellable': True,\n",
       "   'expiration_datetime': datetime.datetime(2023, 6, 30, 9, 0)},\n",
       "  'symbol': 'ETH-30JUN23-1700-P',\n",
       "  'maker': 0.0003,\n",
       "  'taker': 0.0003}}"
      ]
     },
     "execution_count": 4,
     "metadata": {},
     "output_type": "execute_result"
    }
   ],
   "source": [
    "tickers = client.fetch_tickers()\n",
    "tickers[0]"
   ]
  },
  {
   "attachments": {},
   "cell_type": "markdown",
   "id": "c725e501",
   "metadata": {},
   "source": [
    "## Fetching Positions\n",
    "Positions are fetched from the client such that a user can retrieve their positions.\n",
    "\n",
    "Positions are indicated by a vault id.\n",
    "\n",
    "The vaultid iterates when a new position is created. \n",
    "\n",
    "Vaultid can be retrieved from;\n",
    "\n",
    "\n",
    "\n"
   ]
  },
  {
   "cell_type": "code",
   "execution_count": 5,
   "id": "09de84ee",
   "metadata": {},
   "outputs": [
    {
     "data": {
      "text/plain": [
       "{'id': '0x9b8a204636a7aa9c33053d9c3a828720d32212e8-0x1c8b898ada9e994d67d86b1a1a15f5cdbaf6da08-l-0',\n",
       " 'symbol': 'ETH-09JUN23-1900-P',\n",
       " 'timestamp': 1686297600000,\n",
       " 'datetime': datetime.datetime(2023, 6, 9, 9, 0),\n",
       " 'initialMarginPercentage': None,\n",
       " 'realizedPnl': -4.4852716768,\n",
       " 'contractSize': '360000000000000000000',\n",
       " 'side': 'long',\n",
       " 'info': {'id': '0x9b8a204636a7aa9c33053d9c3a828720d32212e8-0x1c8b898ada9e994d67d86b1a1a15f5cdbaf6da08-l-0',\n",
       "  'netAmount': '360000000000000000000',\n",
       "  'buyAmount': '360000000000000000000',\n",
       "  'sellAmount': '0',\n",
       "  'active': True,\n",
       "  'realizedPnl': '-44852716768',\n",
       "  'oToken': {'id': '0x1c8b898ada9e994d67d86b1a1a15f5cdbaf6da08',\n",
       "   'symbol': '',\n",
       "   'expiryTimestamp': '1686297600',\n",
       "   'strikePrice': '190000000000',\n",
       "   'isPut': True,\n",
       "   'underlyingAsset': {'id': '0x3b3a1de07439eeb04492fa64a889ee25a130cdd3'},\n",
       "   'createdAt': '1685191086'},\n",
       "  'redeemActions': [],\n",
       "  'optionsBoughtTransactions': [{'amount': '1000000000000000000',\n",
       "    'premium': '85411979'},\n",
       "   {'amount': '2000000000000000000', 'premium': '148982158'},\n",
       "   {'amount': '5000000000000000000', 'premium': '568595995'},\n",
       "   {'amount': '2000000000000000000', 'premium': '147232776'},\n",
       "   {'amount': '1000000000000000000', 'premium': '80345856'},\n",
       "   {'amount': '5000000000000000000', 'premium': '754623020'},\n",
       "   {'amount': '5000000000000000000', 'premium': '577098533'},\n",
       "   {'amount': '5000000000000000000', 'premium': '456388925'},\n",
       "   {'amount': '5000000000000000000', 'premium': '795314771'},\n",
       "   {'amount': '5000000000000000000', 'premium': '812900950'},\n",
       "   {'amount': '1000000000000000000', 'premium': '75740402'},\n",
       "   {'amount': '5000000000000000000', 'premium': '789065184'},\n",
       "   {'amount': '1000000000000000000', 'premium': '81192329'},\n",
       "   {'amount': '5000000000000000000', 'premium': '498482650'},\n",
       "   {'amount': '5000000000000000000', 'premium': '680790621'},\n",
       "   {'amount': '5000000000000000000', 'premium': '527928890'},\n",
       "   {'amount': '5000000000000000000', 'premium': '449675922'},\n",
       "   {'amount': '5000000000000000000', 'premium': '521162730'},\n",
       "   {'amount': '1000000000000000000', 'premium': '85918506'},\n",
       "   {'amount': '1000000000000000000', 'premium': '86428248'},\n",
       "   {'amount': '5000000000000000000', 'premium': '491147819'},\n",
       "   {'amount': '1000000000000000000', 'premium': '85664952'},\n",
       "   {'amount': '2000000000000000000', 'premium': '149865819'},\n",
       "   {'amount': '5000000000000000000', 'premium': '631534398'},\n",
       "   {'amount': '2000000000000000000', 'premium': '144646675'},\n",
       "   {'amount': '5000000000000000000', 'premium': '732499858'},\n",
       "   {'amount': '5000000000000000000', 'premium': '470114108'},\n",
       "   {'amount': '5000000000000000000', 'premium': '690987987'},\n",
       "   {'amount': '1000000000000000000', 'premium': '84286070'},\n",
       "   {'amount': '5000000000000000000', 'premium': '876032718'},\n",
       "   {'amount': '5000000000000000000', 'premium': '551961448'},\n",
       "   {'amount': '5000000000000000000', 'premium': '771994153'},\n",
       "   {'amount': '1000000000000000000', 'premium': '84535732'},\n",
       "   {'amount': '1000000000000000000', 'premium': '84279477'},\n",
       "   {'amount': '1000000000000000000', 'premium': '82253448'},\n",
       "   {'amount': '2000000000000000000', 'premium': '146365342'},\n",
       "   {'amount': '5000000000000000000', 'premium': '543830397'},\n",
       "   {'amount': '1000000000000000000', 'premium': '80583215'},\n",
       "   {'amount': '4000000000000000000', 'premium': '305184177'},\n",
       "   {'amount': '5000000000000000000', 'premium': '640987152'},\n",
       "   {'amount': '2000000000000000000', 'premium': '145503388'},\n",
       "   {'amount': '5000000000000000000', 'premium': '443062676'},\n",
       "   {'amount': '5000000000000000000', 'premium': '622220354'},\n",
       "   {'amount': '5000000000000000000', 'premium': '741154995'},\n",
       "   {'amount': '5000000000000000000', 'premium': '840881177'},\n",
       "   {'amount': '1000000000000000000', 'premium': '82552807'},\n",
       "   {'amount': '5000000000000000000', 'premium': '535822355'},\n",
       "   {'amount': '5000000000000000000', 'premium': '604018230'},\n",
       "   {'amount': '5000000000000000000', 'premium': '765931819'},\n",
       "   {'amount': '1000000000000000000', 'premium': '80108544'},\n",
       "   {'amount': '5000000000000000000', 'premium': '831627246'},\n",
       "   {'amount': '5000000000000000000', 'premium': '749361360'},\n",
       "   {'amount': '5000000000000000000', 'premium': '777415411'},\n",
       "   {'amount': '1000000000000000000', 'premium': '84037211'},\n",
       "   {'amount': '5000000000000000000', 'premium': '701339627'},\n",
       "   {'amount': '1000000000000000000', 'premium': '83288180'},\n",
       "   {'amount': '5000000000000000000', 'premium': '513492797'},\n",
       "   {'amount': '5000000000000000000', 'premium': '670742921'},\n",
       "   {'amount': '1000000000000000000', 'premium': '80952540'},\n",
       "   {'amount': '5000000000000000000', 'premium': '585733695'},\n",
       "   {'amount': '1000000000000000000', 'premium': '82010604'},\n",
       "   {'amount': '5000000000000000000', 'premium': '863083930'},\n",
       "   {'amount': '5000000000000000000', 'premium': '613043431'},\n",
       "   {'amount': '5000000000000000000', 'premium': '800892781'},\n",
       "   {'amount': '4000000000000000000', 'premium': '315514106'},\n",
       "   {'amount': '2000000000000000000', 'premium': '150754579'},\n",
       "   {'amount': '1000000000000000000', 'premium': '80713635'},\n",
       "   {'amount': '5000000000000000000', 'premium': '660851337'},\n",
       "   {'amount': '5000000000000000000', 'premium': '483918272'},\n",
       "   {'amount': '4000000000000000000', 'premium': '311802564'},\n",
       "   {'amount': '4000000000000000000', 'premium': '308813822'},\n",
       "   {'amount': '5000000000000000000', 'premium': '436553406'},\n",
       "   {'amount': '1000000000000000000', 'premium': '83782490'},\n",
       "   {'amount': '5000000000000000000', 'premium': '807240638'},\n",
       "   {'amount': '5000000000000000000', 'premium': '594497886'},\n",
       "   {'amount': '1000000000000000000', 'premium': '81768992'},\n",
       "   {'amount': '1000000000000000000', 'premium': '84030699'},\n",
       "   {'amount': '5000000000000000000', 'premium': '825093045'},\n",
       "   {'amount': '5000000000000000000', 'premium': '837468476'},\n",
       "   {'amount': '5000000000000000000', 'premium': '853495586'},\n",
       "   {'amount': '5000000000000000000', 'premium': '651099941'},\n",
       "   {'amount': '1000000000000000000', 'premium': '83042247'},\n",
       "   {'amount': '5000000000000000000', 'premium': '889176821'},\n",
       "   {'amount': '1000000000000000000', 'premium': '83534965'},\n",
       "   {'amount': '5000000000000000000', 'premium': '722507695'},\n",
       "   {'amount': '5000000000000000000', 'premium': '711843975'},\n",
       "   {'amount': '5000000000000000000', 'premium': '560217431'},\n",
       "   {'amount': '5000000000000000000', 'premium': '760595165'},\n",
       "   {'amount': '5000000000000000000', 'premium': '819344684'},\n",
       "   {'amount': '1000000000000000000', 'premium': '82796990'},\n",
       "   {'amount': '1000000000000000000', 'premium': '85159819'},\n",
       "   {'amount': '5000000000000000000', 'premium': '463202872'},\n",
       "   {'amount': '1000000000000000000', 'premium': '80821894'},\n",
       "   {'amount': '5000000000000000000', 'premium': '476798780'},\n",
       "   {'amount': '2000000000000000000', 'premium': '148104491'},\n",
       "   {'amount': '5000000000000000000', 'premium': '743479150'},\n",
       "   {'amount': '5000000000000000000', 'premium': '783569359'},\n",
       "   {'amount': '5000000000000000000', 'premium': '848702420'},\n",
       "   {'amount': '1000000000000000000', 'premium': '86173174'},\n",
       "   {'amount': '5000000000000000000', 'premium': '505931893'}],\n",
       "  'optionsSoldTransactions': [],\n",
       "  'expiration_datetime': datetime.datetime(2023, 6, 9, 9, 0),\n",
       "  'strike': 1.9e+21,\n",
       "  'isPut': True},\n",
       " 'contracts': None,\n",
       " 'marginRatio': None,\n",
       " 'liquidationPrice': None,\n",
       " 'lastPrice': None,\n",
       " 'collateral': None,\n",
       " 'marginMode': None,\n",
       " 'initialMargin': None,\n",
       " 'maintenanceMargin': None,\n",
       " 'maintenanceMarginPercentage': None,\n",
       " 'entryPrice': None,\n",
       " 'notional': None,\n",
       " 'leverage': None,\n",
       " 'percentage': None}"
      ]
     },
     "execution_count": 5,
     "metadata": {},
     "output_type": "execute_result"
    }
   ],
   "source": [
    "positions = client.fetch_positions()\n",
    "positions[0]"
   ]
  },
  {
   "attachments": {},
   "cell_type": "markdown",
   "id": "671deb82",
   "metadata": {},
   "source": [
    "# Tests"
   ]
  },
  {
   "cell_type": "code",
   "execution_count": 6,
   "id": "0a3ef446",
   "metadata": {},
   "outputs": [
    {
     "name": "stdout",
     "output_type": "stream",
     "text": [
      "poetry run adev test -v -p tests\n",
      "Testing Open Autonomy Packages\n",
      "\u001b[2K\u001b[2;36m[14:13:41]\u001b[0m\u001b[2;36m \u001b[0m\u001b[34mINFO    \u001b[0m \u001b\u001b[1m[\u001b[0m\u001b[33m1m\u001b[0m============================= test     \u001b]8;id=536186;file:///home/tom/.cache/pypoetry/virtualenvs/rysk-client-O72xupT4-py3.10/lib/python3.10/site-packages/auto_dev/cli_executor.py\u001b\\\u001b[2mcli_executor.py\u001b[0m\u001b]8;;\u001b\\\u001b[2m:\u001b[0m\u001b]8;id=447753;file:///home/tom/.cache/pypoetry/virtualenvs/rysk-client-O72xupT4-py3.10/lib/python3.10/site-packages/auto_dev/cli_executor.py#36\u001b\\\u001b[2m36\u001b[0m\u001b]8;;\u001b\\\n",
      "\u001b[2;36m           \u001b[0m         session starts                            \u001b[2m                  \u001b[0m\n",
      "\u001b[2;36m           \u001b[0m         ==============================\u001b\u001b[1m[\u001b[0m0m         \u001b[2m                  \u001b[0m\n",
      "\u001b[2;36m           \u001b[0m         platform linux -- Python \u001b[1;36m3.10\u001b[0m.\u001b[1;36m4\u001b[0m,          \u001b[2m                  \u001b[0m\n",
      "\u001b[2;36m           \u001b[0m         pytest-\u001b[1;36m7.3\u001b[0m.\u001b[1;36m1\u001b[0m, pluggy-\u001b[1;36m1.0\u001b[0m.\u001b[1;36m0\u001b[0m                \u001b[2m                  \u001b[0m\n",
      "\u001b[2;36m           \u001b[0m         rootdir:                                  \u001b[2m                  \u001b[0m\n",
      "\u001b[2;36m           \u001b[0m         \u001b[35m/home/tom/Desktop/Fun/\u001b[0m\u001b[95mrysk_explorations\u001b[0m   \u001b[2m                  \u001b[0m\n",
      "\u001b[2;36m           \u001b[0m         configfile: pytest.ini                    \u001b[2m                  \u001b[0m\n",
      "\u001b[2;36m           \u001b[0m         plugins: cov-\u001b[1;36m3.0\u001b[0m.\u001b[1;36m0\u001b[0m, pylama-\u001b[1;36m8.4\u001b[0m.\u001b[1;36m1\u001b[0m,         \u001b[2m                  \u001b[0m\n",
      "\u001b[2;36m           \u001b[0m         web3-\u001b[1;36m5.31\u001b[0m.\u001b[1;36m4\u001b[0m, anyio-\u001b[1;36m3.7\u001b[0m.\u001b[1;36m0\u001b[0m                  \u001b[2m                  \u001b[0m\n",
      "\u001b[2;36m           \u001b[0m         collected \u001b[1;36m23\u001b[0m items                        \u001b[2m                  \u001b[0m\n",
      "\u001b[2;36m           \u001b[0m                                                   \u001b[2m                  \u001b[0m\n",
      "\u001b[2;36m           \u001b[0m         tests/test_client.py                      \u001b[2m                  \u001b[0m\n",
      "\u001b[2;36m           \u001b[0m         \u001b\u001b[1m[\u001b[0m32m.\u001b\u001b[1m[\u001b[0m0m\u001b\u001b[1m[\u001b[0m32m.\u001b\u001b[1m[\u001b[0m0m\u001b\u001b[1m[\u001b[0m33ms\u001b\u001b[1m[\u001b[0m0m\u001b\u001b[1m[\u001b[0m32m              \u001b[2m                  \u001b[0m\n",
      "\u001b[2;36m           \u001b[0m         \u001b[1m[\u001b[0m \u001b[1;36m13\u001b[0m%\u001b[1m]\u001b[0m\u001b\u001b[1m[\u001b[0m0m                                 \u001b[2m                  \u001b[0m\n",
      "\u001b[2;36m           \u001b[0m         tests/test_collateral.py                  \u001b[2m                  \u001b[0m\n",
      "\u001b[2;36m           \u001b[0m         \u001b\u001b[1m[\u001b[0m32m.\u001b\u001b[1m[\u001b[0m0m\u001b\u001b[1m[\u001b[0m32m.\u001b\u001b[1m[\u001b[0m0m\u001b\u001b[1m[\u001b[0m32m.\u001b\u001b[1m[\u001b[0m0m\u001b\u001b[1m[\u001b[0m32m.\u001b\u001b[1m[\u001b[0m0m\u001b          \u001b[2m                  \u001b[0m\n",
      "\u001b[2;36m           \u001b[0m         \u001b[1m[\u001b[0m32m.\u001b\u001b[1m[\u001b[0m0m\u001b\u001b[1m[\u001b[0m32m.\u001b\u001b[1m[\u001b[0m0m\u001b\u001b[1m[\u001b[0m32m                      \u001b[2m                  \u001b[0m\n",
      "\u001b[2;36m           \u001b[0m                        \u001b[1m[\u001b[0m \u001b[1;36m39\u001b[0m%\u001b[1m]\u001b[0m\u001b\u001b[1m[\u001b[0m0m                  \u001b[2m                  \u001b[0m\n",
      "\u001b[2;36m           \u001b[0m         tests/test_rysk_option_market.py          \u001b[2m                  \u001b[0m\n",
      "\u001b[2;36m           \u001b[0m         \u001b\u001b[1m[\u001b[0m32m.\u001b\u001b[1m[\u001b[0m0m\u001b\u001b[1m[\u001b[0m32m.\u001b\u001b[1m[\u001b[0m0m\u001b\u001b[1m[\u001b[0m32m                      \u001b[2m                  \u001b[0m\n",
      "\u001b[2;36m           \u001b[0m         \u001b[1m[\u001b[0m \u001b[1;36m47\u001b[0m%\u001b[1m]\u001b[0m\u001b\u001b[1m[\u001b[0m0m                                 \u001b[2m                  \u001b[0m\n",
      "\u001b[2;36m           \u001b[0m         tests/test_rysk_options_market_manager.py \u001b[2m                  \u001b[0m\n",
      "\u001b[2;36m           \u001b[0m         \u001b\u001b[1m[\u001b[0m32m.\u001b\u001b[1m[\u001b[0m0m\u001b\u001b[1m[\u001b[0m32m.\u001b\u001b[1m[\u001b[0m0m\u001b\u001b[1m[\u001b[0m32m                      \u001b[2m                  \u001b[0m\n",
      "\u001b[2;36m           \u001b[0m         \u001b[1m[\u001b[0m \u001b[1;36m56\u001b[0m%\u001b[1m]\u001b[0m\u001b\u001b[1m[\u001b[0m0m                                 \u001b[2m                  \u001b[0m\n",
      "\u001b[2;36m           \u001b[0m         tests/test_subgraph.py \u001b\u001b[1m[\u001b[0m32m.\u001b\u001b[1m[\u001b[0m0m\u001b\u001b[1m[\u001b[0m32m       \u001b[2m                  \u001b[0m\n",
      "\u001b[2;36m           \u001b[0m         \u001b[1m[\u001b[0m \u001b[1;36m60\u001b[0m%\u001b[1m]\u001b[0m\u001b\u001b[1m[\u001b[0m0m                                 \u001b[2m                  \u001b[0m\n",
      "\u001b[2;36m           \u001b[0m         tests/test_utils.py                       \u001b[2m                  \u001b[0m\n",
      "\u001b[2;36m           \u001b[0m         \u001b\u001b[1m[\u001b[0m32m.\u001b\u001b[1m[\u001b[0m0m\u001b\u001b[1m[\u001b[0m32m.\u001b\u001b[1m[\u001b[0m0m\u001b\u001b[1m[\u001b[0m32m.\u001b\u001b[1m[\u001b[0m0m\u001b\u001b[1m[\u001b[0m32m.\u001b\u001b[1m[\u001b[0m0m\u001b          \u001b[2m                  \u001b[0m\n",
      "\u001b[2;36m           \u001b[0m         \u001b[1m[\u001b[0m32m.\u001b\u001b[1m[\u001b[0m0m\u001b\u001b[1m[\u001b[0m32m.\u001b\u001b[1m[\u001b[0m0m\u001b\u001b[1m[\u001b[0m32m.\u001b\u001b[1m[\u001b[0m0m\u001b\u001b[1m[\u001b[0m32m.\u001b\u001b[1m[\u001b[0m0m\u001b\u001b[1m[\u001b[0m32m.\u001b\u001b[1m[\u001b[0m0m\u001b  \u001b[2m                  \u001b[0m\n",
      "\u001b[2;36m           \u001b[0m         \u001b[1m[\u001b[0m32m                                      \u001b[2m                  \u001b[0m\n",
      "\u001b[2;36m           \u001b[0m         \u001b[1m[\u001b[0m\u001b[1;36m100\u001b[0m%\u001b[1m]\u001b[0m\u001b\u001b[1m[\u001b[0m0m                                 \u001b[2m                  \u001b[0m\n",
      "\u001b[2;36m           \u001b[0m                                                   \u001b[2m                  \u001b[0m\n",
      "\u001b[2;36m           \u001b[0m         \u001b\u001b[1m[\u001b[0m\u001b[33m32m\u001b[0m======================== \u001b\u001b[1m[\u001b[0m32m\u001b\u001b[1m[\u001b[0m1m22    \u001b[2m                  \u001b[0m\n",
      "\u001b[2;36m           \u001b[0m         passed\u001b\u001b[1m[\u001b[0m0m, \u001b\u001b[1m[\u001b[0m33m1 skipped\u001b\u001b[1m[\u001b[0m0m\u001b\u001b[1m[\u001b[0m32m in        \u001b[2m                  \u001b[0m\n",
      "\u001b[2;36m           \u001b[0m         \u001b[1;36m25.\u001b[0m17s\u001b\u001b[1m[\u001b[0m0m\u001b\u001b[1m[\u001b[0m32m ========================\u001b\u001b[1m[\u001b[0m0m \u001b[2m                  \u001b[0m\n",
      "\u001b[2;36m           \u001b[0m                                                   \u001b[2m                  \u001b[0m\n",
      "\u001b[2KTesting... \u001b[38;2;114;156;31m━━━━━━━━━━━━━━━━━━━━━━━━━━━━━━━━━━━━━━━━\u001b[0m \u001b[35m100%\u001b[0m \u001b[33m0:00:26\u001b[0m\n",
      "\u001b[?25hTesting completed successfully!\n"
     ]
    }
   ],
   "source": [
    "!make test"
   ]
  },
  {
   "cell_type": "code",
   "execution_count": 7,
   "id": "cbbf54e6",
   "metadata": {},
   "outputs": [
    {
     "name": "stdout",
     "output_type": "stream",
     "text": [
      "poetry run isort tests rysk_client && poetry run black tests rysk_client\n",
      "\u001b[1mAll done! ✨ 🍰 ✨\u001b[0m\n",
      "\u001b[34m19 files \u001b[0mleft unchanged.\n",
      "poetry run adev lint -v -p tests\n",
      "\u001b[2;36m[14:13:44]\u001b[0m\u001b[2;36m \u001b[0m\u001b[34mINFO    \u001b[0m Linting Open Autonomy Packages                     \u001b]8;id=281004;file:///home/tom/.cache/pypoetry/virtualenvs/rysk-client-O72xupT4-py3.10/lib/python3.10/site-packages/auto_dev/cli.py\u001b\\\u001b[2mcli.py\u001b[0m\u001b]8;;\u001b\\\u001b[2m:\u001b[0m\u001b]8;id=265993;file:///home/tom/.cache/pypoetry/virtualenvs/rysk-client-O72xupT4-py3.10/lib/python3.10/site-packages/auto_dev/cli.py#47\u001b\\\u001b[2m47\u001b[0m\u001b]8;;\u001b\\\n",
      "\u001b[2KLinting... \u001b[38;2;114;156;31m━━━━━━━━━━━━━━━━━━━━━━━━━━━━━━━━━━━━━━━━\u001b[0m \u001b[35m100%\u001b[0m \u001b[33m0:00:03\u001b[0m\n",
      "\u001b[?25h\u001b[2;36m[14:13:48]\u001b[0m\u001b[2;36m \u001b[0m\u001b[34mINFO    \u001b[0m Linting completed successfully!                    \u001b]8;id=864081;file:///home/tom/.cache/pypoetry/virtualenvs/rysk-client-O72xupT4-py3.10/lib/python3.10/site-packages/auto_dev/cli.py\u001b\\\u001b[2mcli.py\u001b[0m\u001b]8;;\u001b\\\u001b[2m:\u001b[0m\u001b]8;id=992553;file:///home/tom/.cache/pypoetry/virtualenvs/rysk-client-O72xupT4-py3.10/lib/python3.10/site-packages/auto_dev/cli.py#66\u001b\\\u001b[2m66\u001b[0m\u001b]8;;\u001b\\\n"
     ]
    }
   ],
   "source": [
    "!make fmt lint"
   ]
  }
 ],
 "metadata": {
  "kernelspec": {
   "display_name": "Python 3 (ipykernel)",
   "language": "python",
   "name": "python3"
  },
  "language_info": {
   "codemirror_mode": {
    "name": "ipython",
    "version": 3
   },
   "file_extension": ".py",
   "mimetype": "text/x-python",
   "name": "python",
   "nbconvert_exporter": "python",
   "pygments_lexer": "ipython3",
   "version": "3.10.4"
  }
 },
 "nbformat": 4,
 "nbformat_minor": 5
}
