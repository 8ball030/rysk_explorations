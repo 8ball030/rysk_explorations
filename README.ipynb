{
 "cells": [
  {
   "attachments": {},
   "cell_type": "markdown",
   "id": "1a55daf8",
   "metadata": {},
   "source": [
    "# Rysk Client\n",
    "\n",
    "## Installation\n",
    "\n",
    "### Dev\n",
    "\n",
    "dependencies are managed with poetry. \n",
    "\n",
    "For dev build."
   ]
  },
  {
   "cell_type": "code",
   "execution_count": 2,
   "id": "fbe14430",
   "metadata": {},
   "outputs": [
    {
     "name": "stdout",
     "output_type": "stream",
     "text": [
      "\u001b[34mInstalling dependencies from lock file\u001b[39m\n",
      "\n",
      "No dependencies to install or update\n",
      "\n",
      "\u001b[39;1mInstalling\u001b[39;22m the current project: \u001b[36mrysk_client\u001b[39m (\u001b[39;1m0.1.0\u001b[39;22m)\u001b[1G\u001b[2K\u001b[39;1mInstalling\u001b[39;22m the current project: \u001b[36mrysk_client\u001b[39m (\u001b[32m0.1.0\u001b[39m)\n",
      "Obtaining file:///home/tom/Desktop/Fun/rysk_examples\n",
      "  Installing build dependencies ... \u001b[?25ldone\n",
      "\u001b[?25h  Checking if build backend supports build_editable ... \u001b[?25ldone\n",
      "\u001b[?25h  Getting requirements to build editable ... \u001b[?25ldone\n",
      "\u001b[?25h  Preparing editable metadata (pyproject.toml) ... \u001b[?25ldone\n",
      "\u001b[?25hRequirement already satisfied: web3<6.0.0,>=5.4.0 in /home/tom/.cache/pypoetry/virtualenvs/rysk-client-O5czFfvY-py3.10/lib/python3.10/site-packages (from rysk-client==0.1.0) (5.31.4)\n",
      "Requirement already satisfied: ccxt<4.0.0,>=3.1.15 in /home/tom/.cache/pypoetry/virtualenvs/rysk-client-O5czFfvY-py3.10/lib/python3.10/site-packages (from rysk-client==0.1.0) (3.1.15)\n",
      "Requirement already satisfied: certifi>=2018.1.18 in /home/tom/.cache/pypoetry/virtualenvs/rysk-client-O5czFfvY-py3.10/lib/python3.10/site-packages (from ccxt<4.0.0,>=3.1.15->rysk-client==0.1.0) (2023.5.7)\n",
      "Requirement already satisfied: aiohttp>=3.8 in /home/tom/.cache/pypoetry/virtualenvs/rysk-client-O5czFfvY-py3.10/lib/python3.10/site-packages (from ccxt<4.0.0,>=3.1.15->rysk-client==0.1.0) (3.8.4)\n",
      "Requirement already satisfied: yarl>=1.7.2 in /home/tom/.cache/pypoetry/virtualenvs/rysk-client-O5czFfvY-py3.10/lib/python3.10/site-packages (from ccxt<4.0.0,>=3.1.15->rysk-client==0.1.0) (1.9.2)\n",
      "Requirement already satisfied: aiodns>=1.1.1 in /home/tom/.cache/pypoetry/virtualenvs/rysk-client-O5czFfvY-py3.10/lib/python3.10/site-packages (from ccxt<4.0.0,>=3.1.15->rysk-client==0.1.0) (3.0.0)\n",
      "Requirement already satisfied: requests>=2.18.4 in /home/tom/.cache/pypoetry/virtualenvs/rysk-client-O5czFfvY-py3.10/lib/python3.10/site-packages (from ccxt<4.0.0,>=3.1.15->rysk-client==0.1.0) (2.31.0)\n",
      "Requirement already satisfied: cryptography>=2.6.1 in /home/tom/.cache/pypoetry/virtualenvs/rysk-client-O5czFfvY-py3.10/lib/python3.10/site-packages (from ccxt<4.0.0,>=3.1.15->rysk-client==0.1.0) (40.0.2)\n",
      "Requirement already satisfied: setuptools>=60.9.0 in /home/tom/.cache/pypoetry/virtualenvs/rysk-client-O5czFfvY-py3.10/lib/python3.10/site-packages (from ccxt<4.0.0,>=3.1.15->rysk-client==0.1.0) (67.8.0)\n",
      "Requirement already satisfied: lru-dict<2.0.0,>=1.1.6 in /home/tom/.cache/pypoetry/virtualenvs/rysk-client-O5czFfvY-py3.10/lib/python3.10/site-packages (from web3<6.0.0,>=5.4.0->rysk-client==0.1.0) (1.2.0)\n",
      "Requirement already satisfied: eth-utils<2.0.0,>=1.9.5 in /home/tom/.cache/pypoetry/virtualenvs/rysk-client-O5czFfvY-py3.10/lib/python3.10/site-packages (from web3<6.0.0,>=5.4.0->rysk-client==0.1.0) (1.10.0)\n",
      "Requirement already satisfied: jsonschema<5,>=3.2.0 in /home/tom/.cache/pypoetry/virtualenvs/rysk-client-O5czFfvY-py3.10/lib/python3.10/site-packages (from web3<6.0.0,>=5.4.0->rysk-client==0.1.0) (4.17.3)\n",
      "Requirement already satisfied: protobuf==3.19.5 in /home/tom/.cache/pypoetry/virtualenvs/rysk-client-O5czFfvY-py3.10/lib/python3.10/site-packages (from web3<6.0.0,>=5.4.0->rysk-client==0.1.0) (3.19.5)\n",
      "Requirement already satisfied: websockets<10,>=9.1 in /home/tom/.cache/pypoetry/virtualenvs/rysk-client-O5czFfvY-py3.10/lib/python3.10/site-packages (from web3<6.0.0,>=5.4.0->rysk-client==0.1.0) (9.1)\n",
      "Requirement already satisfied: ipfshttpclient==0.8.0a2 in /home/tom/.cache/pypoetry/virtualenvs/rysk-client-O5czFfvY-py3.10/lib/python3.10/site-packages (from web3<6.0.0,>=5.4.0->rysk-client==0.1.0) (0.8.0a2)\n",
      "Requirement already satisfied: hexbytes<1.0.0,>=0.1.0 in /home/tom/.cache/pypoetry/virtualenvs/rysk-client-O5czFfvY-py3.10/lib/python3.10/site-packages (from web3<6.0.0,>=5.4.0->rysk-client==0.1.0) (0.3.0)\n",
      "Requirement already satisfied: eth-typing<3.0.0,>=2.0.0 in /home/tom/.cache/pypoetry/virtualenvs/rysk-client-O5czFfvY-py3.10/lib/python3.10/site-packages (from web3<6.0.0,>=5.4.0->rysk-client==0.1.0) (2.3.0)\n",
      "Requirement already satisfied: eth-abi<3.0.0,>=2.2.0 in /home/tom/.cache/pypoetry/virtualenvs/rysk-client-O5czFfvY-py3.10/lib/python3.10/site-packages (from web3<6.0.0,>=5.4.0->rysk-client==0.1.0) (2.2.0)\n",
      "Requirement already satisfied: eth-hash[pycryptodome]<1.0.0,>=0.2.0 in /home/tom/.cache/pypoetry/virtualenvs/rysk-client-O5czFfvY-py3.10/lib/python3.10/site-packages (from web3<6.0.0,>=5.4.0->rysk-client==0.1.0) (0.3.3)\n",
      "Requirement already satisfied: eth-rlp<0.3 in /home/tom/.cache/pypoetry/virtualenvs/rysk-client-O5czFfvY-py3.10/lib/python3.10/site-packages (from web3<6.0.0,>=5.4.0->rysk-client==0.1.0) (0.2.1)\n",
      "Requirement already satisfied: eth-account<0.6.0,>=0.5.9 in /home/tom/.cache/pypoetry/virtualenvs/rysk-client-O5czFfvY-py3.10/lib/python3.10/site-packages (from web3<6.0.0,>=5.4.0->rysk-client==0.1.0) (0.5.9)\n",
      "Requirement already satisfied: multiaddr>=0.0.7 in /home/tom/.cache/pypoetry/virtualenvs/rysk-client-O5czFfvY-py3.10/lib/python3.10/site-packages (from ipfshttpclient==0.8.0a2->web3<6.0.0,>=5.4.0->rysk-client==0.1.0) (0.0.9)\n",
      "Requirement already satisfied: pycares>=4.0.0 in /home/tom/.cache/pypoetry/virtualenvs/rysk-client-O5czFfvY-py3.10/lib/python3.10/site-packages (from aiodns>=1.1.1->ccxt<4.0.0,>=3.1.15->rysk-client==0.1.0) (4.3.0)\n",
      "Requirement already satisfied: async-timeout<5.0,>=4.0.0a3 in /home/tom/.cache/pypoetry/virtualenvs/rysk-client-O5czFfvY-py3.10/lib/python3.10/site-packages (from aiohttp>=3.8->ccxt<4.0.0,>=3.1.15->rysk-client==0.1.0) (4.0.2)\n",
      "Requirement already satisfied: attrs>=17.3.0 in /home/tom/.cache/pypoetry/virtualenvs/rysk-client-O5czFfvY-py3.10/lib/python3.10/site-packages (from aiohttp>=3.8->ccxt<4.0.0,>=3.1.15->rysk-client==0.1.0) (23.1.0)\n",
      "Requirement already satisfied: aiosignal>=1.1.2 in /home/tom/.cache/pypoetry/virtualenvs/rysk-client-O5czFfvY-py3.10/lib/python3.10/site-packages (from aiohttp>=3.8->ccxt<4.0.0,>=3.1.15->rysk-client==0.1.0) (1.3.1)\n",
      "Requirement already satisfied: frozenlist>=1.1.1 in /home/tom/.cache/pypoetry/virtualenvs/rysk-client-O5czFfvY-py3.10/lib/python3.10/site-packages (from aiohttp>=3.8->ccxt<4.0.0,>=3.1.15->rysk-client==0.1.0) (1.3.3)\n",
      "Requirement already satisfied: charset-normalizer<4.0,>=2.0 in /home/tom/.cache/pypoetry/virtualenvs/rysk-client-O5czFfvY-py3.10/lib/python3.10/site-packages (from aiohttp>=3.8->ccxt<4.0.0,>=3.1.15->rysk-client==0.1.0) (3.1.0)\n",
      "Requirement already satisfied: multidict<7.0,>=4.5 in /home/tom/.cache/pypoetry/virtualenvs/rysk-client-O5czFfvY-py3.10/lib/python3.10/site-packages (from aiohttp>=3.8->ccxt<4.0.0,>=3.1.15->rysk-client==0.1.0) (6.0.4)\n",
      "Requirement already satisfied: cffi>=1.12 in /home/tom/.cache/pypoetry/virtualenvs/rysk-client-O5czFfvY-py3.10/lib/python3.10/site-packages (from cryptography>=2.6.1->ccxt<4.0.0,>=3.1.15->rysk-client==0.1.0) (1.15.1)\n",
      "Requirement already satisfied: parsimonious<0.9.0,>=0.8.0 in /home/tom/.cache/pypoetry/virtualenvs/rysk-client-O5czFfvY-py3.10/lib/python3.10/site-packages (from eth-abi<3.0.0,>=2.2.0->web3<6.0.0,>=5.4.0->rysk-client==0.1.0) (0.8.1)\n",
      "Requirement already satisfied: rlp<3,>=1.0.0 in /home/tom/.cache/pypoetry/virtualenvs/rysk-client-O5czFfvY-py3.10/lib/python3.10/site-packages (from eth-account<0.6.0,>=0.5.9->web3<6.0.0,>=5.4.0->rysk-client==0.1.0) (2.0.1)\n",
      "Requirement already satisfied: eth-keys<0.4.0,>=0.3.4 in /home/tom/.cache/pypoetry/virtualenvs/rysk-client-O5czFfvY-py3.10/lib/python3.10/site-packages (from eth-account<0.6.0,>=0.5.9->web3<6.0.0,>=5.4.0->rysk-client==0.1.0) (0.3.4)\n",
      "Requirement already satisfied: eth-keyfile<0.6.0,>=0.5.0 in /home/tom/.cache/pypoetry/virtualenvs/rysk-client-O5czFfvY-py3.10/lib/python3.10/site-packages (from eth-account<0.6.0,>=0.5.9->web3<6.0.0,>=5.4.0->rysk-client==0.1.0) (0.5.1)\n",
      "Requirement already satisfied: bitarray<3,>=1.2.1 in /home/tom/.cache/pypoetry/virtualenvs/rysk-client-O5czFfvY-py3.10/lib/python3.10/site-packages (from eth-account<0.6.0,>=0.5.9->web3<6.0.0,>=5.4.0->rysk-client==0.1.0) (2.7.3)\n",
      "Requirement already satisfied: pycryptodome<4,>=3.6.6 in /home/tom/.cache/pypoetry/virtualenvs/rysk-client-O5czFfvY-py3.10/lib/python3.10/site-packages (from eth-hash[pycryptodome]<1.0.0,>=0.2.0->web3<6.0.0,>=5.4.0->rysk-client==0.1.0) (3.18.0)\n"
     ]
    },
    {
     "name": "stdout",
     "output_type": "stream",
     "text": [
      "Requirement already satisfied: cytoolz<1.0.0,>=0.10.1 in /home/tom/.cache/pypoetry/virtualenvs/rysk-client-O5czFfvY-py3.10/lib/python3.10/site-packages (from eth-utils<2.0.0,>=1.9.5->web3<6.0.0,>=5.4.0->rysk-client==0.1.0) (0.12.1)\n",
      "Requirement already satisfied: pyrsistent!=0.17.0,!=0.17.1,!=0.17.2,>=0.14.0 in /home/tom/.cache/pypoetry/virtualenvs/rysk-client-O5czFfvY-py3.10/lib/python3.10/site-packages (from jsonschema<5,>=3.2.0->web3<6.0.0,>=5.4.0->rysk-client==0.1.0) (0.19.3)\n",
      "Requirement already satisfied: urllib3<3,>=1.21.1 in /home/tom/.cache/pypoetry/virtualenvs/rysk-client-O5czFfvY-py3.10/lib/python3.10/site-packages (from requests>=2.18.4->ccxt<4.0.0,>=3.1.15->rysk-client==0.1.0) (2.0.2)\n",
      "Requirement already satisfied: idna<4,>=2.5 in /home/tom/.cache/pypoetry/virtualenvs/rysk-client-O5czFfvY-py3.10/lib/python3.10/site-packages (from requests>=2.18.4->ccxt<4.0.0,>=3.1.15->rysk-client==0.1.0) (3.4)\n",
      "Requirement already satisfied: pycparser in /home/tom/.cache/pypoetry/virtualenvs/rysk-client-O5czFfvY-py3.10/lib/python3.10/site-packages (from cffi>=1.12->cryptography>=2.6.1->ccxt<4.0.0,>=3.1.15->rysk-client==0.1.0) (2.21)\n",
      "Requirement already satisfied: toolz>=0.8.0 in /home/tom/.cache/pypoetry/virtualenvs/rysk-client-O5czFfvY-py3.10/lib/python3.10/site-packages (from cytoolz<1.0.0,>=0.10.1->eth-utils<2.0.0,>=1.9.5->web3<6.0.0,>=5.4.0->rysk-client==0.1.0) (0.12.0)\n",
      "Requirement already satisfied: netaddr in /home/tom/.cache/pypoetry/virtualenvs/rysk-client-O5czFfvY-py3.10/lib/python3.10/site-packages (from multiaddr>=0.0.7->ipfshttpclient==0.8.0a2->web3<6.0.0,>=5.4.0->rysk-client==0.1.0) (0.8.0)\n",
      "Requirement already satisfied: six in /home/tom/.cache/pypoetry/virtualenvs/rysk-client-O5czFfvY-py3.10/lib/python3.10/site-packages (from multiaddr>=0.0.7->ipfshttpclient==0.8.0a2->web3<6.0.0,>=5.4.0->rysk-client==0.1.0) (1.16.0)\n",
      "Requirement already satisfied: base58 in /home/tom/.cache/pypoetry/virtualenvs/rysk-client-O5czFfvY-py3.10/lib/python3.10/site-packages (from multiaddr>=0.0.7->ipfshttpclient==0.8.0a2->web3<6.0.0,>=5.4.0->rysk-client==0.1.0) (2.1.1)\n",
      "Requirement already satisfied: varint in /home/tom/.cache/pypoetry/virtualenvs/rysk-client-O5czFfvY-py3.10/lib/python3.10/site-packages (from multiaddr>=0.0.7->ipfshttpclient==0.8.0a2->web3<6.0.0,>=5.4.0->rysk-client==0.1.0) (1.0.2)\n",
      "Building wheels for collected packages: rysk-client\n",
      "  Building editable for rysk-client (pyproject.toml) ... \u001b[?25ldone\n",
      "\u001b[?25h  Created wheel for rysk-client: filename=rysk_client-0.1.0-py3-none-any.whl size=1115 sha256=302ea12484ef8ca6e503f752bea324ec0937cfed1189ddf795bd971f6ea5953e\n",
      "  Stored in directory: /tmp/pip-ephem-wheel-cache-iidmqn1u/wheels/d0/5d/c5/06071ec2d9be7dfabf83e13d497e7bd4b06d0041d896c67705\n",
      "Successfully built rysk-client\n",
      "Installing collected packages: rysk-client\n",
      "  Attempting uninstall: rysk-client\n",
      "    Found existing installation: rysk-client 0.1.0\n",
      "    Uninstalling rysk-client-0.1.0:\n",
      "      Successfully uninstalled rysk-client-0.1.0\n",
      "Successfully installed rysk-client-0.1.0\n",
      "\n",
      "\u001b[1m[\u001b[0m\u001b[34;49mnotice\u001b[0m\u001b[1;39;49m]\u001b[0m\u001b[39;49m A new release of pip available: \u001b[0m\u001b[31;49m22.2.2\u001b[0m\u001b[39;49m -> \u001b[0m\u001b[32;49m23.1.2\u001b[0m\n",
      "\u001b[1m[\u001b[0m\u001b[34;49mnotice\u001b[0m\u001b[1;39;49m]\u001b[0m\u001b[39;49m To update, run: \u001b[0m\u001b[32;49mpip install --upgrade pip\u001b[0m\n"
     ]
    }
   ],
   "source": [
    "!poetry install && poetry run pip install -e ."
   ]
  },
  {
   "attachments": {},
   "cell_type": "markdown",
   "id": "ecadae08",
   "metadata": {},
   "source": [
    "# Usage\n"
   ]
  },
  {
   "cell_type": "code",
   "execution_count": 5,
   "id": "856a0f01",
   "metadata": {},
   "outputs": [
    {
     "data": {
      "text/plain": [
       "True"
      ]
     },
     "execution_count": 5,
     "metadata": {},
     "output_type": "execute_result"
    }
   ],
   "source": [
    "from rysk_client.src.utils import get_web3\n",
    "\n",
    "web3 = get_web3()\n",
    "web3.isConnected()"
   ]
  },
  {
   "attachments": {},
   "cell_type": "markdown",
   "id": "464d2ace",
   "metadata": {},
   "source": [
    "## Creating a Client \n",
    "\n",
    "Clients can be created from the rysk client module."
   ]
  },
  {
   "cell_type": "code",
   "execution_count": 3,
   "id": "625c7b97",
   "metadata": {},
   "outputs": [
    {
     "data": {
      "text/plain": [
       "RyskClient(_markets=[])"
      ]
     },
     "execution_count": 3,
     "metadata": {},
     "output_type": "execute_result"
    }
   ],
   "source": [
    "from rysk_client.client import RyskClient\n",
    "\n",
    "client = RyskClient()\n",
    "client\n"
   ]
  },
  {
   "attachments": {},
   "cell_type": "markdown",
   "id": "0e00c54a",
   "metadata": {},
   "source": [
    "## Fetching Markets\n",
    "\n",
    "The client can fetch markets as so;\n"
   ]
  },
  {
   "cell_type": "code",
   "execution_count": 5,
   "id": "9ede9d6a",
   "metadata": {},
   "outputs": [
    {
     "data": {
      "text/plain": [
       "{'base': 'ETH',\n",
       " 'baseId': 'ETH',\n",
       " 'contract': True,\n",
       " 'contractSize': 0.1,\n",
       " 'spot': False,\n",
       " 'swap': False,\n",
       " 'future': False,\n",
       " 'type': 'option',\n",
       " 'linear': False,\n",
       " 'inverse': True,\n",
       " 'active': True,\n",
       " 'id': 'ETH-30JUN23-1700-P',\n",
       " 'strike': 1700.0,\n",
       " 'optionType': 'put',\n",
       " 'expiry': 1688112000000,\n",
       " 'expiryDatetime': '2023-06-30T09:00:00.000000Z',\n",
       " 'info': {'id': '0x01f460be7389b109cc3599941166ea851d0b7c787badf04b1f276d3ce9269a34',\n",
       "  'expiration': '1688112000',\n",
       "  'netDHVExposure': '-302750000000000000000',\n",
       "  'strike': '1700000000000000000000',\n",
       "  'isPut': True,\n",
       "  'isBuyable': True,\n",
       "  'isSellable': True,\n",
       "  'expiration_datetime': datetime.datetime(2023, 6, 30, 9, 0)},\n",
       " 'symbol': 'ETH-30JUN23-1700-P',\n",
       " 'maker': 0.0003,\n",
       " 'taker': 0.0003}"
      ]
     },
     "execution_count": 5,
     "metadata": {},
     "output_type": "execute_result"
    }
   ],
   "source": [
    "markets = client.fetch_markets()\n",
    "markets[0]"
   ]
  },
  {
   "attachments": {},
   "cell_type": "markdown",
   "id": "b1821e71",
   "metadata": {},
   "source": [
    "## Fetching Tickers\n",
    "\n",
    "Tickers can be fetched from the client as so;"
   ]
  },
  {
   "cell_type": "code",
   "execution_count": 6,
   "id": "109df62d",
   "metadata": {},
   "outputs": [
    {
     "data": {
      "text/plain": [
       "{'ask': 79.375856,\n",
       " 'bid': 75.910889,\n",
       " 'info': {'base': 'ETH',\n",
       "  'baseId': 'ETH',\n",
       "  'contract': True,\n",
       "  'contractSize': 0.1,\n",
       "  'spot': False,\n",
       "  'swap': False,\n",
       "  'future': False,\n",
       "  'type': 'option',\n",
       "  'linear': False,\n",
       "  'inverse': True,\n",
       "  'active': True,\n",
       "  'id': 'ETH-30JUN23-1700-P',\n",
       "  'strike': 1700.0,\n",
       "  'optionType': 'put',\n",
       "  'expiry': 1688112000000,\n",
       "  'expiryDatetime': '2023-06-30T09:00:00.000000Z',\n",
       "  'info': {'id': '0x01f460be7389b109cc3599941166ea851d0b7c787badf04b1f276d3ce9269a34',\n",
       "   'expiration': '1688112000',\n",
       "   'netDHVExposure': '-302750000000000000000',\n",
       "   'strike': '1700000000000000000000',\n",
       "   'isPut': True,\n",
       "   'isBuyable': True,\n",
       "   'isSellable': True,\n",
       "   'expiration_datetime': datetime.datetime(2023, 6, 30, 9, 0)},\n",
       "  'symbol': 'ETH-30JUN23-1700-P',\n",
       "  'maker': 0.0003,\n",
       "  'taker': 0.0003}}"
      ]
     },
     "execution_count": 6,
     "metadata": {},
     "output_type": "execute_result"
    }
   ],
   "source": [
    "tickers = client.fetch_tickers()\n",
    "tickers[0]"
   ]
  },
  {
   "attachments": {},
   "cell_type": "markdown",
   "id": "c725e501",
   "metadata": {},
   "source": [
    "## Fetching Positions\n",
    "Positions are fetched from the client such that a user can retrieve their positions.\n",
    "\n",
    "Positions are indicated by a vault id.\n",
    "\n",
    "The vaultid iterates when a new position is created. \n",
    "\n",
    "Vaultid can be retrieved from;\n",
    "\n",
    "#TODO\n",
    "\n",
    "\n"
   ]
  },
  {
   "cell_type": "code",
   "execution_count": 7,
   "id": "09de84ee",
   "metadata": {},
   "outputs": [
    {
     "data": {
      "text/plain": [
       "[]"
      ]
     },
     "execution_count": 7,
     "metadata": {},
     "output_type": "execute_result"
    }
   ],
   "source": [
    "positions = client.fetch_positions()\n",
    "positions"
   ]
  },
  {
   "attachments": {},
   "cell_type": "markdown",
   "id": "671deb82",
   "metadata": {},
   "source": [
    "# Tests"
   ]
  },
  {
   "cell_type": "code",
   "execution_count": 8,
   "id": "0a3ef446",
   "metadata": {},
   "outputs": [
    {
     "name": "stdout",
     "output_type": "stream",
     "text": [
      "poetry run adev test -v -p tests\n",
      "Testing Open Autonomy Packages\n",
      "\u001b[2K\u001b[2;36m[10:34:59]\u001b[0m\u001b[2;36m \u001b[0m\u001b[34mINFO    \u001b[0m \u001b\u001b[1m[\u001b[0m\u001b[33m1m\u001b[0m============================= test     \u001b]8;id=171191;file:///home/tom/.cache/pypoetry/virtualenvs/rysk-client-O72xupT4-py3.10/lib/python3.10/site-packages/auto_dev/cli_executor.py\u001b\\\u001b[2mcli_executor.py\u001b[0m\u001b]8;;\u001b\\\u001b[2m:\u001b[0m\u001b]8;id=497266;file:///home/tom/.cache/pypoetry/virtualenvs/rysk-client-O72xupT4-py3.10/lib/python3.10/site-packages/auto_dev/cli_executor.py#36\u001b\\\u001b[2m36\u001b[0m\u001b]8;;\u001b\\\n",
      "\u001b[2;36m           \u001b[0m         session starts                            \u001b[2m                  \u001b[0m\n",
      "\u001b[2;36m           \u001b[0m         ==============================\u001b\u001b[1m[\u001b[0m0m         \u001b[2m                  \u001b[0m\n",
      "\u001b[2;36m           \u001b[0m         platform linux -- Python \u001b[1;36m3.10\u001b[0m.\u001b[1;36m4\u001b[0m,          \u001b[2m                  \u001b[0m\n",
      "\u001b[2;36m           \u001b[0m         pytest-\u001b[1;36m7.3\u001b[0m.\u001b[1;36m1\u001b[0m, pluggy-\u001b[1;36m1.0\u001b[0m.\u001b[1;36m0\u001b[0m                \u001b[2m                  \u001b[0m\n",
      "\u001b[2;36m           \u001b[0m         rootdir:                                  \u001b[2m                  \u001b[0m\n",
      "\u001b[2;36m           \u001b[0m         \u001b[35m/home/tom/Desktop/Fun/\u001b[0m\u001b[95mrysk_explorations\u001b[0m   \u001b[2m                  \u001b[0m\n",
      "\u001b[2;36m           \u001b[0m         configfile: pytest.ini                    \u001b[2m                  \u001b[0m\n",
      "\u001b[2;36m           \u001b[0m         plugins: cov-\u001b[1;36m3.0\u001b[0m.\u001b[1;36m0\u001b[0m, pylama-\u001b[1;36m8.4\u001b[0m.\u001b[1;36m1\u001b[0m,         \u001b[2m                  \u001b[0m\n",
      "\u001b[2;36m           \u001b[0m         web3-\u001b[1;36m5.31\u001b[0m.\u001b[1;36m4\u001b[0m, anyio-\u001b[1;36m3.7\u001b[0m.\u001b[1;36m0\u001b[0m                  \u001b[2m                  \u001b[0m\n",
      "\u001b[2;36m           \u001b[0m         collected \u001b[1;36m21\u001b[0m items                        \u001b[2m                  \u001b[0m\n",
      "\u001b[2;36m           \u001b[0m                                                   \u001b[2m                  \u001b[0m\n",
      "\u001b[2;36m           \u001b[0m         tests/test_client.py                      \u001b[2m                  \u001b[0m\n",
      "\u001b[2;36m           \u001b[0m         \u001b\u001b[1m[\u001b[0m32m.\u001b\u001b[1m[\u001b[0m0m\u001b\u001b[1m[\u001b[0m32m.\u001b\u001b[1m[\u001b[0m0m\u001b\u001b[1m[\u001b[0m31mF\u001b\u001b[1m[\u001b[0m0m\u001b\u001b[1m[\u001b[0m31m              \u001b[2m                  \u001b[0m\n",
      "\u001b[2;36m           \u001b[0m         \u001b[1m[\u001b[0m \u001b[1;36m14\u001b[0m%\u001b[1m]\u001b[0m\u001b\u001b[1m[\u001b[0m0m                                 \u001b[2m                  \u001b[0m\n",
      "\u001b[2;36m           \u001b[0m         tests/test_collateral.py                  \u001b[2m                  \u001b[0m\n",
      "\u001b[2;36m           \u001b[0m         \u001b\u001b[1m[\u001b[0m32m.\u001b\u001b[1m[\u001b[0m0m\u001b\u001b[1m[\u001b[0m32m.\u001b\u001b[1m[\u001b[0m0m\u001b\u001b[1m[\u001b[0m32m.\u001b\u001b[1m[\u001b[0m0m\u001b\u001b[1m[\u001b[0m32m.\u001b\u001b[1m[\u001b[0m0m\u001b          \u001b[2m                  \u001b[0m\n",
      "\u001b[2;36m           \u001b[0m         \u001b[1m[\u001b[0m32m.\u001b\u001b[1m[\u001b[0m0m\u001b\u001b[1m[\u001b[0m32m.\u001b\u001b[1m[\u001b[0m0m\u001b\u001b[1m[\u001b[0m31m                      \u001b[2m                  \u001b[0m\n",
      "\u001b[2;36m           \u001b[0m                        \u001b[1m[\u001b[0m \u001b[1;36m42\u001b[0m%\u001b[1m]\u001b[0m\u001b\u001b[1m[\u001b[0m0m                  \u001b[2m                  \u001b[0m\n",
      "\u001b[2;36m           \u001b[0m         tests/test_rysk_option_market.py          \u001b[2m                  \u001b[0m\n",
      "\u001b[2;36m           \u001b[0m         \u001b\u001b[1m[\u001b[0m32m.\u001b\u001b[1m[\u001b[0m0m\u001b\u001b[1m[\u001b[0m32m.\u001b\u001b[1m[\u001b[0m0m\u001b\u001b[1m[\u001b[0m31m                      \u001b[2m                  \u001b[0m\n",
      "\u001b[2;36m           \u001b[0m         \u001b[1m[\u001b[0m \u001b[1;36m52\u001b[0m%\u001b[1m]\u001b[0m\u001b\u001b[1m[\u001b[0m0m                                 \u001b[2m                  \u001b[0m\n",
      "\u001b[2;36m           \u001b[0m         tests/test_subgraph.py \u001b\u001b[1m[\u001b[0m32m.\u001b\u001b[1m[\u001b[0m0m\u001b\u001b[1m[\u001b[0m31m       \u001b[2m                  \u001b[0m\n",
      "\u001b[2;36m           \u001b[0m         \u001b[1m[\u001b[0m \u001b[1;36m57\u001b[0m%\u001b[1m]\u001b[0m\u001b\u001b[1m[\u001b[0m0m                                 \u001b[2m                  \u001b[0m\n",
      "\u001b[2;36m           \u001b[0m         tests/test_utils.py                       \u001b[2m                  \u001b[0m\n",
      "\u001b[2;36m           \u001b[0m         \u001b\u001b[1m[\u001b[0m31mF\u001b\u001b[1m[\u001b[0m0m\u001b\u001b[1m[\u001b[0m32m.\u001b\u001b[1m[\u001b[0m0m\u001b\u001b[1m[\u001b[0m32m.\u001b\u001b[1m[\u001b[0m0m\u001b\u001b[1m[\u001b[0m31mF\u001b\u001b[1m[\u001b[0m0m\u001b          \u001b[2m                  \u001b[0m\n",
      "\u001b[2;36m           \u001b[0m         \u001b[1m[\u001b[0m32m.\u001b\u001b[1m[\u001b[0m0m\u001b\u001b[1m[\u001b[0m32m.\u001b\u001b[1m[\u001b[0m0m\u001b\u001b[1m[\u001b[0m32m.\u001b\u001b[1m[\u001b[0m0m\u001b\u001b[1m[\u001b[0m32m.\u001b\u001b[1m[\u001b[0m0m\u001b\u001b[1m[\u001b[0m32m.\u001b\u001b[1m[\u001b[0m0m\u001b  \u001b[2m                  \u001b[0m\n",
      "\u001b[2;36m           \u001b[0m         \u001b[1m[\u001b[0m31m                                      \u001b[2m                  \u001b[0m\n",
      "\u001b[2;36m           \u001b[0m         \u001b[1m[\u001b[0m\u001b[1;36m100\u001b[0m%\u001b[1m]\u001b[0m\u001b\u001b[1m[\u001b[0m0m                                 \u001b[2m                  \u001b[0m\n",
      "\u001b[2;36m           \u001b[0m                                                   \u001b[2m                  \u001b[0m\n",
      "\u001b[2;36m           \u001b[0m         ===================================       \u001b[2m                  \u001b[0m\n",
      "\u001b[2;36m           \u001b[0m         FAILURES                                  \u001b[2m                  \u001b[0m\n",
      "\u001b[2;36m           \u001b[0m         ===================================       \u001b[2m                  \u001b[0m\n",
      "\u001b[2;36m           \u001b[0m         \u001b\u001b[1m[\u001b[0m31m\u001b\u001b[1m[\u001b[0m1m_____________________________      \u001b[2m                  \u001b[0m\n",
      "\u001b[2;36m           \u001b[0m         test_fetch_positions                      \u001b[2m                  \u001b[0m\n",
      "\u001b[2;36m           \u001b[0m         _____________________________\u001b\u001b[1m[\u001b[0m0m          \u001b[2m                  \u001b[0m\n",
      "\u001b[2;36m           \u001b[0m                                                   \u001b[2m                  \u001b[0m\n",
      "\u001b[2;36m           \u001b[0m         client = \u001b[1;35mRyskClient\u001b[0m\u001b[1m(\u001b[0m\u001b[33m_markets\u001b[0m=\u001b[1m[\u001b[0m\u001b[1m]\u001b[0m\u001b[1m)\u001b[0m          \u001b[2m                  \u001b[0m\n",
      "\u001b[2;36m           \u001b[0m                                                   \u001b[2m                  \u001b[0m\n",
      "\u001b[2;36m           \u001b[0m             \u001b\u001b[1m[\u001b[0m94mdef\u001b\u001b[1m[\u001b[0m\u001b[1;36m39\u001b[0m;\u001b[1;36m49\u001b[0m;00m                     \u001b[2m                  \u001b[0m\n",
      "\u001b[2;36m           \u001b[0m         \u001b\u001b[1m[\u001b[0m92mtest_fetch_positions\u001b\u001b[1m[\u001b[0m\u001b[1;36m39\u001b[0m;\u001b[1;36m49\u001b[0m;\u001b[1;35m00m\u001b[0m\u001b[1m(\u001b[0mclient \u001b[2m                  \u001b[0m\n",
      "\u001b[2;36m           \u001b[0m         :\u001b\u001b[1m[\u001b[0m90m\u001b\u001b[1m[\u001b[0m\u001b[1;36m39\u001b[0m;\u001b[1;36m49\u001b[0m;00m                           \u001b[2m                  \u001b[0m\n",
      "\u001b[2;36m           \u001b[0m             \u001b\u001b[1m[\u001b[0m90m    \u001b\u001b[1m[\u001b[0m\u001b[1;36m39\u001b[0m;\u001b[1;36m49\u001b[0m;00m\u001b\u001b[1m[\u001b[0m33m\"\u001b[32m\"\"\u001b[0mTest         \u001b[2m                  \u001b[0m\n",
      "\u001b[2;36m           \u001b[0m         fetching                                  \u001b[2m                  \u001b[0m\n",
      "\u001b[2;36m           \u001b[0m         positions.\u001b[32m\"\"\u001b[0m\"\u001b\u001b[1m[\u001b[0m\u001b[1;36m39\u001b[0m;\u001b[1;36m49\u001b[0m;00m\u001b\u001b[1m[\u001b[0m90m\u001b\u001b[1m[\u001b[0m\u001b[1;36m39\u001b[0m;\u001b[1;36m49\u001b[0m;00m     \u001b[2m                  \u001b[0m\n",
      "\u001b[2;36m           \u001b[0m                 positions =                       \u001b[2m                  \u001b[0m\n",
      "\u001b[2;36m           \u001b[0m         \u001b[1;35mclient.fetch_positions\u001b[0m\u001b[1m(\u001b[0m\u001b[1m)\u001b[0m\u001b\u001b[1m[\u001b[0m90m\u001b\u001b[1m[\u001b[0m\u001b[1;36m39\u001b[0m;\u001b[1;36m49\u001b[0m;00m    \u001b[2m                  \u001b[0m\n",
      "\u001b[2;36m           \u001b[0m         >       \u001b\u001b[1m[\u001b[0m94massert\u001b\u001b[1m[\u001b[0m\u001b[1;36m39\u001b[0m;\u001b[1;36m49\u001b[0m;00m              \u001b[2m                  \u001b[0m\n",
      "\u001b[2;36m           \u001b[0m         \u001b\u001b[1m[\u001b[0m96mlen\u001b\u001b[1m[\u001b[0m\u001b[1;36m39\u001b[0m;\u001b[1;36m49\u001b[0m;\u001b[1;35m00m\u001b[0m\u001b[1m(\u001b[0mpositions\u001b[1m)\u001b[0m >            \u001b[2m                  \u001b[0m\n",
      "\u001b[2;36m           \u001b[0m         \u001b\u001b[1m[\u001b[0m94m0\u001b\u001b[1m[\u001b[0m\u001b[1;36m39\u001b[0m;\u001b[1;36m49\u001b[0m;00m\u001b\u001b[1m[\u001b[0m90m\u001b\u001b[1m[\u001b[0m\u001b[1;36m39\u001b[0m;\u001b[1;36m49\u001b[0m;00m             \u001b[2m                  \u001b[0m\n",
      "\u001b[2;36m           \u001b[0m         \u001b\u001b[1m[\u001b[0m1m\u001b\u001b[1m[\u001b[0m31mE       assert \u001b[1;36m0\u001b[0m > \u001b[1;36m0\u001b[0m\u001b\u001b[1m[\u001b[0m0m            \u001b[2m                  \u001b[0m\n",
      "\u001b[2;36m           \u001b[0m         \u001b\u001b[1m[\u001b[0m1m\u001b\u001b[1m[\u001b[0m31mE        +  where \u001b[1;36m0\u001b[0m = \u001b[1;35mlen\u001b[0m\u001b[1m(\u001b[0m\u001b[1m[\u001b[0m\u001b[1m]\u001b[0m\u001b[1m)\u001b[0m\u001b\u001b[1m[\u001b[0m0m   \u001b[2m                  \u001b[0m\n",
      "\u001b[2;36m           \u001b[0m                                                   \u001b[2m                  \u001b[0m\n",
      "\u001b[2;36m           \u001b[0m         \u001b\u001b[1m[\u001b[0m1m\u001b\u001b[1m[\u001b[0m31mtests/test_client.py\u001b\u001b[1m[\u001b[0m0m:\u001b[1;36m34\u001b[0m:        \u001b[2m                  \u001b[0m\n",
      "\u001b[2;36m           \u001b[0m         AssertionError                            \u001b[2m                  \u001b[0m\n",
      "\u001b[2;36m           \u001b[0m         \u001b\u001b[1m[\u001b[0m31m\u001b\u001b[1m[\u001b[0m1m______________________________     \u001b[2m                  \u001b[0m\n",
      "\u001b[2;36m           \u001b[0m         test_get_contract                         \u001b[2m                  \u001b[0m\n",
      "\u001b[2;36m           \u001b[0m         _______________________________\u001b\u001b[1m[\u001b[0m0m        \u001b[2m                  \u001b[0m\n",
      "\u001b[2;36m           \u001b[0m                                                   \u001b[2m                  \u001b[0m\n",
      "\u001b[2;36m           \u001b[0m         web3 = \u001b[1m<\u001b[0m\u001b[1;95mweb3.main.Web3\u001b[0m\u001b[39m object at \u001b[0m         \u001b[2m                  \u001b[0m\n",
      "\u001b[2;36m           \u001b[0m         \u001b[1;36m0x7f189d5c16f0\u001b[0m\u001b[39m>\u001b[0m                           \u001b[2m                  \u001b[0m\n",
      "\u001b[2;36m           \u001b[0m                                                   \u001b[2m                  \u001b[0m\n",
      "\u001b[2;36m           \u001b[0m         \u001b[39m    \u001b\u001b[0m\u001b[1;39m[\u001b[0m\u001b[39m94mdef\u001b\u001b[0m\u001b[1;39m[\u001b[0m\u001b[1;36m39\u001b[0m\u001b[39m;\u001b[0m\u001b[1;36m49\u001b[0m\u001b[39m;00m \u001b[0m                    \u001b[2m                  \u001b[0m\n",
      "\u001b[2;36m           \u001b[0m         \u001b[39m\u001b\u001b[0m\u001b[1;39m[\u001b[0m\u001b[39m92mtest_get_contract\u001b\u001b[0m\u001b[1;39m[\u001b[0m\u001b[1;36m39\u001b[0m\u001b[39m;\u001b[0m\u001b[1;36m49\u001b[0m\u001b[39m;\u001b[0m\u001b[1;35m00m\u001b[0m\u001b[1;39m(\u001b[0m\u001b[39mweb3\u001b[0m\u001b[1;39m)\u001b[0m\u001b[39m:\u001b\u001b[0m\u001b[1;39m[\u001b[0m\u001b[39m90\u001b[0m \u001b[2m                  \u001b[0m\n",
      "\u001b[2;36m           \u001b[0m         \u001b[39mm\u001b\u001b[0m\u001b[1;39m[\u001b[0m\u001b[1;36m39\u001b[0m\u001b[39m;\u001b[0m\u001b[1;36m49\u001b[0m\u001b[39m;00m\u001b[0m                               \u001b[2m                  \u001b[0m\n",
      "\u001b[2;36m           \u001b[0m         \u001b[39m    \u001b\u001b[0m\u001b[1;39m[\u001b[0m\u001b[39m90m    \u001b\u001b[0m\u001b[1;39m[\u001b[0m\u001b[1;36m39\u001b[0m\u001b[39m;\u001b[0m\u001b[1;36m49\u001b[0m\u001b[39m;00m\u001b\u001b[0m\u001b[1;39m[\u001b[0m\u001b[39m33m\"\u001b[0m\u001b[32m\"\"\u001b[0m\u001b[39mTest whether\u001b[0m \u001b[2m                  \u001b[0m\n",
      "\u001b[2;36m           \u001b[0m         \u001b[39mwe can get a contract \u001b[0m                    \u001b[2m                  \u001b[0m\n",
      "\u001b[2;36m           \u001b[0m         \u001b[39minstance.\u001b[0m\u001b[32m\"\"\u001b[0m\u001b[39m\"\u001b\u001b[0m\u001b[1;39m[\u001b[0m\u001b[1;36m39\u001b[0m\u001b[39m;\u001b[0m\u001b[1;36m49\u001b[0m\u001b[39m;00m\u001b\u001b[0m\u001b[1;39m[\u001b[0m\u001b[39m90m\u001b\u001b[0m\u001b[1;39m[\u001b[0m\u001b[1;36m39\u001b[0m\u001b[39m;\u001b[0m\u001b[1;36m49\u001b[0m\u001b[39m;00m\u001b[0m      \u001b[2m                  \u001b[0m\n",
      "\u001b[2;36m           \u001b[0m         \u001b[39m>       contract = \u001b[0m                       \u001b[2m                  \u001b[0m\n",
      "\u001b[2;36m           \u001b[0m         \u001b[1;35mget_contract\u001b[0m\u001b[1;39m(\u001b[0m\u001b[39m\u001b\u001b[0m\u001b[1;39m[\u001b[0m\u001b[39m33m\"\u001b\u001b[0m\u001b[1;39m[\u001b[0m\u001b[1;36m39\u001b[0m\u001b[39m;\u001b[0m\u001b[1;36m49\u001b[0m\u001b[39m;00m\u001b\u001b[0m\u001b[1;39m[\u001b[0m\u001b[39m33mopyn_cont\u001b[0m \u001b[2m                  \u001b[0m\n",
      "\u001b[2;36m           \u001b[0m         \u001b[39mroller\u001b\u001b[0m\u001b[1;39m[\u001b[0m\u001b[1;36m39\u001b[0m\u001b[39m;\u001b[0m\u001b[1;36m49\u001b[0m\u001b[39m;00m\u001b\u001b[0m\u001b[1;39m[\u001b[0m\u001b[39m33m\"\u001b\u001b[0m\u001b[1;39m[\u001b[0m\u001b[1;36m39\u001b[0m\u001b[39m;\u001b[0m\u001b[1;36m49\u001b[0m\u001b[39m;00m, \u001b[0m         \u001b[2m                  \u001b[0m\n",
      "\u001b[2;36m           \u001b[0m         \u001b[39mweb3\u001b[0m\u001b[1;39m)\u001b[0m\u001b[39m\u001b\u001b[0m\u001b[1;39m[\u001b[0m\u001b[39m90m\u001b\u001b[0m\u001b[1;39m[\u001b[0m\u001b[1;36m39\u001b[0m\u001b[39m;\u001b[0m\u001b[1;36m49\u001b[0m\u001b[39m;00m\u001b[0m                       \u001b[2m                  \u001b[0m\n",
      "\u001b[2;36m           \u001b[0m                                                   \u001b[2m                  \u001b[0m\n",
      "\u001b[2;36m           \u001b[0m         \u001b[39m\u001b\u001b[0m\u001b[1;39m[\u001b[0m\u001b[39m1m\u001b\u001b[0m\u001b[1;39m[\u001b[0m\u001b[39m31mtests/test_utils.py\u001b\u001b[0m\u001b[1;39m[\u001b[0m\u001b[39m0m:\u001b[0m\u001b[1;36m19\u001b[0m\u001b[39m: \u001b[0m        \u001b[2m                  \u001b[0m\n",
      "\u001b[2;36m           \u001b[0m         \u001b[39m_ _ _ _ _ _ _ _ _ _ _ _ _ _ _ _ _ _ _ _ _\u001b[0m \u001b[2m                  \u001b[0m\n",
      "\u001b[2;36m           \u001b[0m         \u001b[39m_ _ _ _ _ _ _ _ _ _ _ _ _ _ _ _ _ _ _ \u001b[0m    \u001b[2m                  \u001b[0m\n",
      "\u001b[2;36m           \u001b[0m                                                   \u001b[2m                  \u001b[0m\n",
      "\u001b[2;36m           \u001b[0m         \u001b[39mname = \u001b[0m\u001b[32m'opyn_controller'\u001b[0m\u001b[39m, w3 = \u001b[0m           \u001b[2m                  \u001b[0m\n",
      "\u001b[2;36m           \u001b[0m         \u001b[39m<web3.main.Web3 object at \u001b[0m\u001b[1;36m0x7f189d5c16f0\u001b[0m\u001b[39m>\u001b[0m \u001b[2m                  \u001b[0m\n",
      "\u001b[2;36m           \u001b[0m                                                   \u001b[2m                  \u001b[0m\n",
      "\u001b[2;36m           \u001b[0m         \u001b[39m    \u001b\u001b[0m\u001b[1;39m[\u001b[0m\u001b[39m94mdef\u001b\u001b[0m\u001b[1;39m[\u001b[0m\u001b[1;36m39\u001b[0m\u001b[39m;\u001b[0m\u001b[1;36m49\u001b[0m\u001b[39m;00m \u001b[0m                    \u001b[2m                  \u001b[0m\n",
      "\u001b[2;36m           \u001b[0m         \u001b[39m\u001b\u001b[0m\u001b[1;39m[\u001b[0m\u001b[39m92mget_contract\u001b\u001b[0m\u001b[1;39m[\u001b[0m\u001b[1;36m39\u001b[0m\u001b[39m;\u001b[0m\u001b[1;36m49\u001b[0m\u001b[39m;\u001b[0m\u001b[1;35m00m\u001b[0m\u001b[1;39m(\u001b[0m\u001b[39mname, \u001b[0m         \u001b[2m                  \u001b[0m\n",
      "\u001b[2;36m           \u001b[0m         \u001b[39mw3\u001b[0m\u001b[1;39m)\u001b[0m\u001b[39m:\u001b\u001b[0m\u001b[1;39m[\u001b[0m\u001b[39m90m\u001b\u001b[0m\u001b[1;39m[\u001b[0m\u001b[1;36m39\u001b[0m\u001b[39m;\u001b[0m\u001b[1;36m49\u001b[0m\u001b[39m;00m\u001b[0m                        \u001b[2m                  \u001b[0m\n",
      "\u001b[2;36m           \u001b[0m         \u001b[39m    \u001b\u001b[0m\u001b[1;39m[\u001b[0m\u001b[39m90m    \u001b\u001b[0m\u001b[1;39m[\u001b[0m\u001b[1;36m39\u001b[0m\u001b[39m;\u001b[0m\u001b[1;36m49\u001b[0m\u001b[39m;00m\u001b\u001b[0m\u001b[1;39m[\u001b[0m\u001b[39m33m\"\u001b[0m\u001b[32m\"\"\u001b[0m\u001b[39mReturns a\u001b[0m    \u001b[2m                  \u001b[0m\n",
      "\u001b[2;36m           \u001b[0m         \u001b[39mweb3 contract instance for the given \u001b[0m     \u001b[2m                  \u001b[0m\n",
      "\u001b[2;36m           \u001b[0m         \u001b[39mcontract name\"\u001b[0m\u001b[32m\"\"\u001b[0m\u001b[39m\u001b\u001b[0m\u001b[1;39m[\u001b[0m\u001b[1;36m39\u001b[0m\u001b[39m;\u001b[0m\u001b[1;36m49\u001b[0m\u001b[39m;00m\u001b\u001b[0m\u001b[1;39m[\u001b[0m\u001b[39m90m\u001b\u001b[0m\u001b[1;39m[\u001b[0m\u001b[1;36m39\u001b[0m\u001b[39m;\u001b[0m\u001b[1;36m49\u001b[0m\u001b[39m;00m\u001b[0m  \u001b[2m                  \u001b[0m\n",
      "\u001b[2;36m           \u001b[0m         \u001b[39m        spec = ADDRESSES\u001b[0m\u001b[39m\u001b\u001b[0m\u001b[1;39m[\u001b[0m\u001b[39m90m\u001b\u001b[0m\u001b[1;39m[\u001b[0m\u001b[1;36m39\u001b[0m\u001b[39m;\u001b[0m\u001b[1;36m49\u001b[0m\u001b[39m;00m\u001b[0m    \u001b[2m                  \u001b[0m\n",
      "\u001b[2;36m           \u001b[0m         \u001b[39m>       \u001b\u001b[0m\u001b[1;39m[\u001b[0m\u001b[39m94mwith\u001b\u001b[0m\u001b[1;39m[\u001b[0m\u001b[1;36m39\u001b[0m\u001b[39m;\u001b[0m\u001b[1;36m49\u001b[0m\u001b[39m;00m \u001b[0m               \u001b[2m                  \u001b[0m\n",
      "\u001b[2;36m           \u001b[0m         \u001b[39m\u001b\u001b[0m\u001b[1;39m[\u001b[0m\u001b[39m96mopen\u001b\u001b[0m\u001b[1;39m[\u001b[0m\u001b[1;36m39\u001b[0m\u001b[39m;\u001b[0m\u001b[1;36m49\u001b[0m\u001b[39m;\u001b[0m\u001b[1;35m00m\u001b[0m\u001b[1;39m(\u001b[0m\u001b[39mspec\u001b[0m\u001b[1;39m[\u001b[0m\u001b[39m\u001b\u001b[0m\u001b[1;39m[\u001b[0m\u001b[39m33m\"\u001b\u001b[0m\u001b[1;39m[\u001b[0m\u001b[1;36m39\u001b[0m\u001b[39m;\u001b[0m\u001b[1;36m49\u001b[0m\u001b[39m;00m\u001b\u001b[0m\u001b[1;39m[\u001b[0m  \u001b[2m                  \u001b[0m\n",
      "\u001b[2;36m           \u001b[0m         \u001b[39m33mpath\u001b\u001b[0m\u001b[1;39m[\u001b[0m\u001b[1;36m39\u001b[0m\u001b[39m;\u001b[0m\u001b[1;36m49\u001b[0m\u001b[39m;00m\u001b\u001b[0m\u001b[1;39m[\u001b[0m\u001b[39m33m\"\u001b\u001b[0m\u001b[1;39m[\u001b[0m\u001b[1;36m39\u001b[0m\u001b[39m;\u001b[0m\u001b[1;36m49\u001b[0m\u001b[39m;00m\u001b[0m\u001b[1;39m]\u001b[0m\u001b[39m, \u001b[0m       \u001b[2m                  \u001b[0m\n",
      "\u001b[2;36m           \u001b[0m         \u001b[39m\u001b\u001b[0m\u001b[1;39m[\u001b[0m\u001b[39m33m\"\u001b\u001b[0m\u001b[1;39m[\u001b[0m\u001b[1;36m39\u001b[0m\u001b[39m;\u001b[0m\u001b[1;36m49\u001b[0m\u001b[39m;00m\u001b\u001b[0m\u001b[1;39m[\u001b[0m\u001b[39m33mr\u001b\u001b[0m\u001b[1;39m[\u001b[0m\u001b[1;36m39\u001b[0m\u001b[39m;\u001b[0m\u001b[1;36m49\u001b[0m\u001b[39m;00m\u001b\u001b[0m\u001b[1;39m[\u001b[0m\u001b[39m33m\"\u001b\u001b[0m\u001b[1;39m[\u001b[0m\u001b[1;36m39\u001b[0m\u001b[39m;\u001b[0m   \u001b[2m                  \u001b[0m\n",
      "\u001b[2;36m           \u001b[0m         \u001b[1;36m49\u001b[0m\u001b[39m;00m\u001b[0m\u001b[1;39m)\u001b[0m\u001b[39m \u001b\u001b[0m\u001b[1;39m[\u001b[0m\u001b[39m94mas\u001b\u001b[0m\u001b[1;39m[\u001b[0m\u001b[1;36m39\u001b[0m\u001b[39m;\u001b[0m\u001b[1;36m49\u001b[0m\u001b[39m;00m abi:\u001b\u001b[0m\u001b[1;39m[\u001b[0m\u001b[39m90m\u001b\u001b[0m\u001b[1;39m[\u001b[0m\u001b[1;36m39\u001b[0m\u001b[39m;\u001b[0m\u001b[1;36m49\u001b[0m\u001b[39m;0\u001b[0m \u001b[2m                  \u001b[0m\n",
      "\u001b[2;36m           \u001b[0m         \u001b[39m\u001b\u001b[0m\u001b[1;39m[\u001b[0m\u001b[39m1m\u001b\u001b[0m\u001b[1;39m[\u001b[0m\u001b[39m31mE       FileNotFoundError: \u001b[0m\u001b[1;39m[\u001b[0m\u001b[39mErrno\u001b[0m  \u001b[2m                  \u001b[0m\n",
      "\u001b[2;36m           \u001b[0m         \u001b[1;36m2\u001b[0m\u001b[1;39m]\u001b[0m\u001b[39m No such file or directory: \u001b[0m            \u001b[2m                  \u001b[0m\n",
      "\u001b[2;36m           \u001b[0m         \u001b[32m'contracts/tmp_controller.json'\u001b[0m\u001b[39m\u001b\u001b[0m\u001b[1;39m[\u001b[0m\u001b[39m0m\u001b[0m        \u001b[2m                  \u001b[0m\n",
      "\u001b[2;36m           \u001b[0m                                                   \u001b[2m                  \u001b[0m\n",
      "\u001b[2;36m           \u001b[0m         \u001b[39m\u001b\u001b[0m\u001b[1;39m[\u001b[0m\u001b[39m1m\u001b\u001b[0m\u001b[1;39m[\u001b[0m\u001b[39m31mrysk_client/src/utils.py\u001b\u001b[0m\u001b[1;39m[\u001b[0m\u001b[39m0m:\u001b[0m\u001b[1;36m12\u001b[0m\u001b[39m:\u001b[0m    \u001b[2m                  \u001b[0m\n",
      "\u001b[2;36m           \u001b[0m         \u001b[39mFileNotFoundError\u001b[0m                         \u001b[2m                  \u001b[0m\n",
      "\u001b[2;36m           \u001b[0m         \u001b[39m\u001b\u001b[0m\u001b[1;39m[\u001b[0m\u001b[39m31m\u001b\u001b[0m\u001b[1;39m[\u001b[0m\u001b[39m1m__________________ \u001b[0m                \u001b[2m                  \u001b[0m\n",
      "\u001b[2;36m           \u001b[0m         \u001b[39mtest_get_contract_address\u001b[0m\u001b[39m \u001b[0m                \u001b[2m                  \u001b[0m\n",
      "\u001b[2;36m           \u001b[0m         \u001b[39m__________________\u001b\u001b[0m\u001b[1;39m[\u001b[0m\u001b[39m0m\u001b[0m                     \u001b[2m                  \u001b[0m\n",
      "\u001b[2;36m           \u001b[0m                                                   \u001b[2m                  \u001b[0m\n",
      "\u001b[2;36m           \u001b[0m         \u001b[39maddress = \u001b[0m\u001b[32m'opyn_controller'\u001b[0m\u001b[39m, web3 = \u001b[0m      \u001b[2m                  \u001b[0m\n",
      "\u001b[2;36m           \u001b[0m         \u001b[39m<web3.main.Web3 object at \u001b[0m\u001b[1;36m0x7f189d5c16f0\u001b[0m\u001b[39m>\u001b[0m \u001b[2m                  \u001b[0m\n",
      "\u001b[2;36m           \u001b[0m                                                   \u001b[2m                  \u001b[0m\n",
      "\u001b[2;36m           \u001b[0m         \u001b[39m    \u001b\u001b[0m\u001b[1;39m[\u001b[0m\u001b[39m37m@pytest\u001b\u001b[0m\u001b[1;39m[\u001b[0m\u001b[1;36m39\u001b[0m\u001b[39m;\u001b[0m\u001b[1;36m49\u001b[0m\u001b[39m;\u001b[0m\u001b[1;35m00m.mark.parametriz\u001b[0m \u001b[2m                  \u001b[0m\n",
      "\u001b[2;36m           \u001b[0m         \u001b[39m\u001b\u001b[0m\u001b[1;39m[\u001b[0m\u001b[39m33m\"\u001b\u001b[0m\u001b[1;39m[\u001b[0m\u001b[1;36m39\u001b[0m\u001b[39m;\u001b[0m\u001b[1;36m49\u001b[0m\u001b[39m;00m\u001b\u001b[0m\u001b[1;39m[\u001b[0m\u001b[39m33maddress\u001b\u001b[0m\u001b[1;39m[\u001b[0m\u001b[1;36m39\u001b[0m\u001b[39m;\u001b[0m\u001b[1;36m49\u001b[0m\u001b[39m;00m\u001b\u001b[0m\u001b[1;39m[\u001b[0m\u001b[39m33\u001b[0m   \u001b[2m                  \u001b[0m\n",
      "\u001b[2;36m           \u001b[0m         \u001b[39mm\"\u001b\u001b[0m\u001b[1;39m[\u001b[0m\u001b[1;36m39\u001b[0m\u001b[39m;\u001b[0m\u001b[1;36m49\u001b[0m\u001b[39m;00m, \u001b[0m                            \u001b[2m                  \u001b[0m\n",
      "\u001b[2;36m           \u001b[0m         \u001b[1;35mADDRESSES.keys\u001b[0m\u001b[1;39m(\u001b[0m\u001b[1;39m)\u001b[0m\u001b[1;39m)\u001b[0m\u001b[39m\u001b\u001b[0m\u001b[1;39m[\u001b[0m\u001b[39m90m\u001b\u001b[0m\u001b[1;39m[\u001b[0m\u001b[1;36m39\u001b[0m\u001b[39m;\u001b[0m\u001b[1;36m49\u001b[0m\u001b[39m;00m\u001b[0m           \u001b[2m                  \u001b[0m\n",
      "\u001b[2;36m           \u001b[0m         \u001b[39m    \u001b\u001b[0m\u001b[1;39m[\u001b[0m\u001b[39m94mdef\u001b\u001b[0m\u001b[1;39m[\u001b[0m\u001b[1;36m39\u001b[0m\u001b[39m;\u001b[0m\u001b[1;36m49\u001b[0m\u001b[39m;00m \u001b[0m                    \u001b[2m                  \u001b[0m\n",
      "\u001b[2;36m           \u001b[0m         \u001b[39m\u001b\u001b[0m\u001b[1;39m[\u001b[0m\u001b[39m92mtest_get_contract_address\u001b\u001b[0m\u001b[1;39m[\u001b[0m\u001b[1;36m39\u001b[0m\u001b[39m;\u001b[0m\u001b[1;36m49\u001b[0m\u001b[39m;\u001b[0m\u001b[1;35m00m\u001b[0m\u001b[1;39m(\u001b[0m  \u001b[2m                  \u001b[0m\n",
      "\u001b[2;36m           \u001b[0m         \u001b[39maddress, web3\u001b[0m\u001b[1;39m)\u001b[0m\u001b[39m:\u001b\u001b[0m\u001b[1;39m[\u001b[0m\u001b[39m90m\u001b\u001b[0m\u001b[1;39m[\u001b[0m\u001b[1;36m39\u001b[0m\u001b[39m;\u001b[0m\u001b[1;36m49\u001b[0m\u001b[39m;00m\u001b[0m             \u001b[2m                  \u001b[0m\n",
      "\u001b[2;36m           \u001b[0m         \u001b[39m    \u001b\u001b[0m\u001b[1;39m[\u001b[0m\u001b[39m90m    \u001b\u001b[0m\u001b[1;39m[\u001b[0m\u001b[1;36m39\u001b[0m\u001b[39m;\u001b[0m\u001b[1;36m49\u001b[0m\u001b[39m;00m\u001b\u001b[0m\u001b[1;39m[\u001b[0m\u001b[39m33m\"\u001b[0m\u001b[32m\"\"\u001b[0m\u001b[39mTest whether\u001b[0m \u001b[2m                  \u001b[0m\n",
      "\u001b[2;36m           \u001b[0m         \u001b[39mwe can get the contract address for a \u001b[0m    \u001b[2m                  \u001b[0m\n",
      "\u001b[2;36m           \u001b[0m         \u001b[39mgiven contract \u001b[0m                           \u001b[2m                  \u001b[0m\n",
      "\u001b[2;36m           \u001b[0m         \u001b[39mname\"\u001b[0m\u001b[32m\"\"\u001b[0m\u001b[39m\u001b\u001b[0m\u001b[1;39m[\u001b[0m\u001b[1;36m39\u001b[0m\u001b[39m;\u001b[0m\u001b[1;36m49\u001b[0m\u001b[39m;00m\u001b\u001b[0m\u001b[1;39m[\u001b[0m\u001b[39m90m\u001b\u001b[0m\u001b[1;39m[\u001b[0m\u001b[1;36m39\u001b[0m\u001b[39m;\u001b[0m\u001b[1;36m49\u001b[0m\u001b[39m;00m\u001b[0m           \u001b[2m                  \u001b[0m\n",
      "\u001b[2;36m           \u001b[0m         \u001b[39m>       contract = \u001b[0m\u001b[1;35mget_contract\u001b[0m\u001b[1;39m(\u001b[0m\u001b[39maddress, \u001b[0m \u001b[2m                  \u001b[0m\n",
      "\u001b[2;36m           \u001b[0m         \u001b[39mweb3\u001b[0m\u001b[1;39m)\u001b[0m\u001b[39m\u001b\u001b[0m\u001b[1;39m[\u001b[0m\u001b[39m90m\u001b\u001b[0m\u001b[1;39m[\u001b[0m\u001b[1;36m39\u001b[0m\u001b[39m;\u001b[0m\u001b[1;36m49\u001b[0m\u001b[39m;00m\u001b[0m                       \u001b[2m                  \u001b[0m\n",
      "\u001b[2;36m           \u001b[0m                                                   \u001b[2m                  \u001b[0m\n",
      "\u001b[2;36m           \u001b[0m         \u001b[39m\u001b\u001b[0m\u001b[1;39m[\u001b[0m\u001b[39m1m\u001b\u001b[0m\u001b[1;39m[\u001b[0m\u001b[39m31mtests/test_utils.py\u001b\u001b[0m\u001b[1;39m[\u001b[0m\u001b[39m0m:\u001b[0m\u001b[1;36m31\u001b[0m\u001b[39m: \u001b[0m        \u001b[2m                  \u001b[0m\n",
      "\u001b[2;36m           \u001b[0m         \u001b[39m_ _ _ _ _ _ _ _ _ _ _ _ _ _ _ _ _ _ _ _ _\u001b[0m \u001b[2m                  \u001b[0m\n",
      "\u001b[2;36m           \u001b[0m         \u001b[39m_ _ _ _ _ _ _ _ _ _ _ _ _ _ _ _ _ _ _ \u001b[0m    \u001b[2m                  \u001b[0m\n",
      "\u001b[2;36m           \u001b[0m                                                   \u001b[2m                  \u001b[0m\n",
      "\u001b[2;36m           \u001b[0m         \u001b[39mname = \u001b[0m\u001b[32m'opyn_controller'\u001b[0m\u001b[39m, w3 = \u001b[0m           \u001b[2m                  \u001b[0m\n",
      "\u001b[2;36m           \u001b[0m         \u001b[39m<web3.main.Web3 object at \u001b[0m\u001b[1;36m0x7f189d5c16f0\u001b[0m\u001b[39m>\u001b[0m \u001b[2m                  \u001b[0m\n",
      "\u001b[2;36m           \u001b[0m                                                   \u001b[2m                  \u001b[0m\n",
      "\u001b[2;36m           \u001b[0m         \u001b[39m    \u001b\u001b[0m\u001b[1;39m[\u001b[0m\u001b[39m94mdef\u001b\u001b[0m\u001b[1;39m[\u001b[0m\u001b[1;36m39\u001b[0m\u001b[39m;\u001b[0m\u001b[1;36m49\u001b[0m\u001b[39m;00m \u001b[0m                    \u001b[2m                  \u001b[0m\n",
      "\u001b[2;36m           \u001b[0m         \u001b[39m\u001b\u001b[0m\u001b[1;39m[\u001b[0m\u001b[39m92mget_contract\u001b\u001b[0m\u001b[1;39m[\u001b[0m\u001b[1;36m39\u001b[0m\u001b[39m;\u001b[0m\u001b[1;36m49\u001b[0m\u001b[39m;\u001b[0m\u001b[1;35m00m\u001b[0m\u001b[1;39m(\u001b[0m\u001b[39mname, \u001b[0m         \u001b[2m                  \u001b[0m\n",
      "\u001b[2;36m           \u001b[0m         \u001b[39mw3\u001b[0m\u001b[1;39m)\u001b[0m\u001b[39m:\u001b\u001b[0m\u001b[1;39m[\u001b[0m\u001b[39m90m\u001b\u001b[0m\u001b[1;39m[\u001b[0m\u001b[1;36m39\u001b[0m\u001b[39m;\u001b[0m\u001b[1;36m49\u001b[0m\u001b[39m;00m\u001b[0m                        \u001b[2m                  \u001b[0m\n",
      "\u001b[2;36m           \u001b[0m         \u001b[39m    \u001b\u001b[0m\u001b[1;39m[\u001b[0m\u001b[39m90m    \u001b\u001b[0m\u001b[1;39m[\u001b[0m\u001b[1;36m39\u001b[0m\u001b[39m;\u001b[0m\u001b[1;36m49\u001b[0m\u001b[39m;00m\u001b\u001b[0m\u001b[1;39m[\u001b[0m\u001b[39m33m\"\u001b[0m\u001b[32m\"\"\u001b[0m\u001b[39mReturns a\u001b[0m    \u001b[2m                  \u001b[0m\n",
      "\u001b[2;36m           \u001b[0m         \u001b[39mweb3 contract instance for the given \u001b[0m     \u001b[2m                  \u001b[0m\n",
      "\u001b[2;36m           \u001b[0m         \u001b[39mcontract name\"\u001b[0m\u001b[32m\"\"\u001b[0m\u001b[39m\u001b\u001b[0m\u001b[1;39m[\u001b[0m\u001b[1;36m39\u001b[0m\u001b[39m;\u001b[0m\u001b[1;36m49\u001b[0m\u001b[39m;00m\u001b\u001b[0m\u001b[1;39m[\u001b[0m\u001b[39m90m\u001b\u001b[0m\u001b[1;39m[\u001b[0m\u001b[1;36m39\u001b[0m\u001b[39m;\u001b[0m\u001b[1;36m49\u001b[0m\u001b[39m;00m\u001b[0m  \u001b[2m                  \u001b[0m\n",
      "\u001b[2;36m           \u001b[0m         \u001b[39m        spec = ADDRESSES\u001b[0m\u001b[39m\u001b\u001b[0m\u001b[1;39m[\u001b[0m\u001b[39m90m\u001b\u001b[0m\u001b[1;39m[\u001b[0m\u001b[1;36m39\u001b[0m\u001b[39m;\u001b[0m\u001b[1;36m49\u001b[0m\u001b[39m;00m\u001b[0m    \u001b[2m                  \u001b[0m\n",
      "\u001b[2;36m           \u001b[0m         \u001b[39m>       \u001b\u001b[0m\u001b[1;39m[\u001b[0m\u001b[39m94mwith\u001b\u001b[0m\u001b[1;39m[\u001b[0m\u001b[1;36m39\u001b[0m\u001b[39m;\u001b[0m\u001b[1;36m49\u001b[0m\u001b[39m;00m \u001b[0m               \u001b[2m                  \u001b[0m\n",
      "\u001b[2;36m           \u001b[0m         \u001b[39m\u001b\u001b[0m\u001b[1;39m[\u001b[0m\u001b[39m96mopen\u001b\u001b[0m\u001b[1;39m[\u001b[0m\u001b[1;36m39\u001b[0m\u001b[39m;\u001b[0m\u001b[1;36m49\u001b[0m\u001b[39m;\u001b[0m\u001b[1;35m00m\u001b[0m\u001b[1;39m(\u001b[0m\u001b[39mspec\u001b[0m\u001b[1;39m[\u001b[0m\u001b[39m\u001b\u001b[0m\u001b[1;39m[\u001b[0m\u001b[39m33m\"\u001b\u001b[0m\u001b[1;39m[\u001b[0m\u001b[1;36m39\u001b[0m\u001b[39m;\u001b[0m\u001b[1;36m49\u001b[0m\u001b[39m;00m\u001b\u001b[0m\u001b[1;39m[\u001b[0m  \u001b[2m                  \u001b[0m\n",
      "\u001b[2;36m           \u001b[0m         \u001b[39m33mpath\u001b\u001b[0m\u001b[1;39m[\u001b[0m\u001b[1;36m39\u001b[0m\u001b[39m;\u001b[0m\u001b[1;36m49\u001b[0m\u001b[39m;00m\u001b\u001b[0m\u001b[1;39m[\u001b[0m\u001b[39m33m\"\u001b\u001b[0m\u001b[1;39m[\u001b[0m\u001b[1;36m39\u001b[0m\u001b[39m;\u001b[0m\u001b[1;36m49\u001b[0m\u001b[39m;00m\u001b[0m\u001b[1;39m]\u001b[0m\u001b[39m, \u001b[0m       \u001b[2m                  \u001b[0m\n",
      "\u001b[2;36m           \u001b[0m         \u001b[39m\u001b\u001b[0m\u001b[1;39m[\u001b[0m\u001b[39m33m\"\u001b\u001b[0m\u001b[1;39m[\u001b[0m\u001b[1;36m39\u001b[0m\u001b[39m;\u001b[0m\u001b[1;36m49\u001b[0m\u001b[39m;00m\u001b\u001b[0m\u001b[1;39m[\u001b[0m\u001b[39m33mr\u001b\u001b[0m\u001b[1;39m[\u001b[0m\u001b[1;36m39\u001b[0m\u001b[39m;\u001b[0m\u001b[1;36m49\u001b[0m\u001b[39m;00m\u001b\u001b[0m\u001b[1;39m[\u001b[0m\u001b[39m33m\"\u001b\u001b[0m\u001b[1;39m[\u001b[0m\u001b[1;36m39\u001b[0m\u001b[39m;\u001b[0m   \u001b[2m                  \u001b[0m\n",
      "\u001b[2;36m           \u001b[0m         \u001b[1;36m49\u001b[0m\u001b[39m;00m\u001b[0m\u001b[1;39m)\u001b[0m\u001b[39m \u001b\u001b[0m\u001b[1;39m[\u001b[0m\u001b[39m94mas\u001b\u001b[0m\u001b[1;39m[\u001b[0m\u001b[1;36m39\u001b[0m\u001b[39m;\u001b[0m\u001b[1;36m49\u001b[0m\u001b[39m;00m abi:\u001b\u001b[0m\u001b[1;39m[\u001b[0m\u001b[39m90m\u001b\u001b[0m\u001b[1;39m[\u001b[0m\u001b[1;36m39\u001b[0m\u001b[39m;\u001b[0m\u001b[1;36m49\u001b[0m\u001b[39m;0\u001b[0m \u001b[2m                  \u001b[0m\n",
      "\u001b[2;36m           \u001b[0m         \u001b[39m\u001b\u001b[0m\u001b[1;39m[\u001b[0m\u001b[39m1m\u001b\u001b[0m\u001b[1;39m[\u001b[0m\u001b[39m31mE       FileNotFoundError: \u001b[0m\u001b[1;39m[\u001b[0m\u001b[39mErrno\u001b[0m  \u001b[2m                  \u001b[0m\n",
      "\u001b[2;36m           \u001b[0m         \u001b[1;36m2\u001b[0m\u001b[1;39m]\u001b[0m\u001b[39m No such file or directory: \u001b[0m            \u001b[2m                  \u001b[0m\n",
      "\u001b[2;36m           \u001b[0m         \u001b[32m'contracts/tmp_controller.json'\u001b[0m\u001b[39m\u001b\u001b[0m\u001b[1;39m[\u001b[0m\u001b[39m0m\u001b[0m        \u001b[2m                  \u001b[0m\n",
      "\u001b[2;36m           \u001b[0m                                                   \u001b[2m                  \u001b[0m\n",
      "\u001b[2;36m           \u001b[0m         \u001b[39m\u001b\u001b[0m\u001b[1;39m[\u001b[0m\u001b[39m1m\u001b\u001b[0m\u001b[1;39m[\u001b[0m\u001b[39m31mrysk_client/src/utils.py\u001b\u001b[0m\u001b[1;39m[\u001b[0m\u001b[39m0m:\u001b[0m\u001b[1;36m12\u001b[0m\u001b[39m:\u001b[0m    \u001b[2m                  \u001b[0m\n",
      "\u001b[2;36m           \u001b[0m         \u001b[39mFileNotFoundError\u001b[0m                         \u001b[2m                  \u001b[0m\n",
      "\u001b[2;36m           \u001b[0m         \u001b[39m\u001b\u001b[0m\u001b[1;39m[\u001b[0m\u001b[39m36m\u001b\u001b[0m\u001b[1;39m[\u001b[0m\u001b[33m1m\u001b[0m\u001b[39m=========================== short\u001b[0m  \u001b[2m                  \u001b[0m\n",
      "\u001b[2;36m           \u001b[0m         \u001b[39mtest summary info \u001b[0m                        \u001b[2m                  \u001b[0m\n",
      "\u001b[2;36m           \u001b[0m         \u001b[39m============================\u001b\u001b[0m\u001b[1;39m[\u001b[0m\u001b[39m0m\u001b[0m           \u001b[2m                  \u001b[0m\n",
      "\u001b[2;36m           \u001b[0m         \u001b[39m\u001b\u001b[0m\u001b[1;39m[\u001b[0m\u001b[39m31mFAILED\u001b\u001b[0m\u001b[1;39m[\u001b[0m\u001b[39m0m \u001b[0m                            \u001b[2m                  \u001b[0m\n",
      "\u001b[2;36m           \u001b[0m         \u001b[39mtests/test_client.py::\u001b\u001b[0m\u001b[1;39m[\u001b[0m\u001b[39m1mtest_fetch_posit\u001b[0m \u001b[2m                  \u001b[0m\n",
      "\u001b[2;36m           \u001b[0m         \u001b[39mons\u001b\u001b[0m\u001b[1;39m[\u001b[0m\u001b[39m0m - assert \u001b[0m\u001b[1;36m0\u001b[0m\u001b[39m \u001b[0m\u001b[1m>\u001b[0m \u001b[1;36m0\u001b[0m                     \u001b[2m                  \u001b[0m\n",
      "\u001b[2;36m           \u001b[0m         \u001b\u001b[1m[\u001b[0m31mFAILED\u001b\u001b[1m[\u001b[0m0m                             \u001b[2m                  \u001b[0m\n",
      "\u001b[2;36m           \u001b[0m         tests/test_utils.py::\u001b\u001b[1m[\u001b[0m1mtest_get_contract\u001b \u001b[2m                  \u001b[0m\n",
      "\u001b[2;36m           \u001b[0m         \u001b[1m[\u001b[0m0m - FileNotFoundError: \u001b[1m[\u001b[0mErrno \u001b[1;36m2\u001b[0m\u001b[1m]\u001b[0m No     \u001b[2m                  \u001b[0m\n",
      "\u001b[2;36m           \u001b[0m         such file or directory:                   \u001b[2m                  \u001b[0m\n",
      "\u001b[2;36m           \u001b[0m         'contracts/tmp_cont\u001b[33m...\u001b[0m                    \u001b[2m                  \u001b[0m\n",
      "\u001b[2;36m           \u001b[0m         \u001b\u001b[1m[\u001b[0m31mFAILED\u001b\u001b[1m[\u001b[0m0m                             \u001b[2m                  \u001b[0m\n",
      "\u001b[2;36m           \u001b[0m         tests/test_utils.py::\u001b\u001b[1m[\u001b[0m1mtest_get_contract \u001b[2m                  \u001b[0m\n",
      "\u001b[2;36m           \u001b[0m         address\u001b\u001b[1m[\u001b[0m0m - FileNotFoundError: \u001b[1m[\u001b[0mErrno    \u001b[2m                  \u001b[0m\n",
      "\u001b[2;36m           \u001b[0m         \u001b[1;36m2\u001b[0m\u001b[1m]\u001b[0m No such file or directory:             \u001b[2m                  \u001b[0m\n",
      "\u001b[2;36m           \u001b[0m         'contracts/tmp_cont\u001b[33m...\u001b[0m                    \u001b[2m                  \u001b[0m\n",
      "\u001b[2;36m           \u001b[0m         \u001b\u001b[1m[\u001b[0m\u001b[33m31m\u001b[0m======================== \u001b\u001b[1m[\u001b[0m31m\u001b\u001b[1m[\u001b[0m1m3     \u001b[2m                  \u001b[0m\n",
      "\u001b[2;36m           \u001b[0m         failed\u001b\u001b[1m[\u001b[0m0m, \u001b\u001b[1m[\u001b[0m32m18 passed\u001b\u001b[1m[\u001b[0m0m\u001b\u001b[1m[\u001b[0m31m in        \u001b[2m                  \u001b[0m\n",
      "\u001b[2;36m           \u001b[0m         \u001b[1;36m12.\u001b[0m59s\u001b\u001b[1m[\u001b[0m0m\u001b\u001b[1m[\u001b[0m31m                             \u001b[2m                  \u001b[0m\n",
      "\u001b[2;36m           \u001b[0m         =========================\u001b\u001b[1m[\u001b[0m0m              \u001b[2m                  \u001b[0m\n",
      "\u001b[2;36m           \u001b[0m                                                   \u001b[2m                  \u001b[0m\n",
      "\u001b[2K\u001b[2;36m          \u001b[0m\u001b[2;36m \u001b[0m\u001b[1;31mERROR   \u001b[0m Command failed with return code: \u001b[1;36m1\u001b[0m        \u001b]8;id=829203;file:///home/tom/.cache/pypoetry/virtualenvs/rysk-client-O72xupT4-py3.10/lib/python3.10/site-packages/auto_dev/cli_executor.py\u001b\\\u001b[2mcli_executor.py\u001b[0m\u001b]8;;\u001b\\\u001b[2m:\u001b[0m\u001b]8;id=73972;file:///home/tom/.cache/pypoetry/virtualenvs/rysk-client-O72xupT4-py3.10/lib/python3.10/site-packages/auto_dev/cli_executor.py#42\u001b\\\u001b[2m42\u001b[0m\u001b]8;;\u001b\\\n",
      "\u001b[2KTesting... \u001b[38;2;114;156;31m━━━━━━━━━━━━━━━━━━━━━━━━━━━━━━━━━━━━━━━━\u001b[0m \u001b[35m100%\u001b[0m \u001b[33m0:00:14\u001b[0m\n",
      "\u001b[?25h\u001b[31m╭─\u001b[0m\u001b[31m Error \u001b[0m\u001b[31m─────────────────────────────────────────────────────────────────────\u001b[0m\u001b[31m─╮\u001b[0m\n",
      "\u001b[31m│\u001b[0m Testing failed!                                                              \u001b[31m│\u001b[0m\n",
      "\u001b[31m╰──────────────────────────────────────────────────────────────────────────────╯\u001b[0m\n",
      "                                                                                \n",
      "make: *** [Makefile:48: test] Error 1\n"
     ]
    }
   ],
   "source": [
    "!make test"
   ]
  },
  {
   "cell_type": "code",
   "execution_count": 5,
   "id": "cbbf54e6",
   "metadata": {},
   "outputs": [
    {
     "name": "stdout",
     "output_type": "stream",
     "text": [
      "poetry run isort tests rysk_client && poetry run black tests rysk_client\n",
      "Fixing /home/tom/Desktop/Fun/rysk_examples/rysk_client/src/rysk_option_market.py\n",
      "\u001b[1mreformatted rysk_client/src/rysk_option_market.py\u001b[0m\n",
      "\n",
      "\u001b[1mAll done! ✨ 🍰 ✨\u001b[0m\n",
      "\u001b[34m\u001b[1m1 file \u001b[0m\u001b[1mreformatted\u001b[0m, \u001b[34m15 files \u001b[0mleft unchanged.\n",
      "poetry run adev lint -v -p tests\n",
      "\u001b[2;36m[23:54:34]\u001b[0m\u001b[2;36m \u001b[0m\u001b[34mINFO    \u001b[0m Linting Open Autonomy Packages                     \u001b]8;id=796249;file:///home/tom/.cache/pypoetry/virtualenvs/rysk-client-O5czFfvY-py3.10/lib/python3.10/site-packages/auto_dev/cli.py\u001b\\\u001b[2mcli.py\u001b[0m\u001b]8;;\u001b\\\u001b[2m:\u001b[0m\u001b]8;id=193368;file:///home/tom/.cache/pypoetry/virtualenvs/rysk-client-O5czFfvY-py3.10/lib/python3.10/site-packages/auto_dev/cli.py#47\u001b\\\u001b[2m47\u001b[0m\u001b]8;;\u001b\\\n",
      "\u001b[2KLinting... \u001b[38;2;114;156;31m━━━━━━━━━━━━━━━━━━━━━━━━━━━━━━━━━━━━━━━━\u001b[0m \u001b[35m100%\u001b[0m \u001b[33m0:00:14\u001b[0m\n",
      "\u001b[?25h\u001b[2;36m[23:54:48]\u001b[0m\u001b[2;36m \u001b[0m\u001b[34mINFO    \u001b[0m Linting completed successfully!                    \u001b]8;id=997455;file:///home/tom/.cache/pypoetry/virtualenvs/rysk-client-O5czFfvY-py3.10/lib/python3.10/site-packages/auto_dev/cli.py\u001b\\\u001b[2mcli.py\u001b[0m\u001b]8;;\u001b\\\u001b[2m:\u001b[0m\u001b]8;id=911636;file:///home/tom/.cache/pypoetry/virtualenvs/rysk-client-O5czFfvY-py3.10/lib/python3.10/site-packages/auto_dev/cli.py#66\u001b\\\u001b[2m66\u001b[0m\u001b]8;;\u001b\\\n"
     ]
    }
   ],
   "source": [
    "!make fmt lint"
   ]
  },
  {
   "cell_type": "code",
   "execution_count": 4,
   "id": "0c5613f2",
   "metadata": {},
   "outputs": [
    {
     "name": "stdout",
     "output_type": "stream",
     "text": [
      "poetry run isort tests rysk_client && poetry run black tests rysk_client\n",
      "Fixing /home/tom/Desktop/Fun/rysk_examples/rysk_client/src/rysk_option_market.py\n",
      "\u001b[1mreformatted rysk_client/src/rysk_option_market.py\u001b[0m\n",
      "\n",
      "\u001b[1mAll done! ✨ 🍰 ✨\u001b[0m\n",
      "\u001b[34m\u001b[1m1 file \u001b[0m\u001b[1mreformatted\u001b[0m, \u001b[34m15 files \u001b[0mleft unchanged.\n",
      "poetry run jupyter-nbconvert README.ipynb --to markdown && poetry run jupyter-nbconvert README.ipynb --to python\n",
      "[NbConvertApp] Converting notebook README.ipynb to markdown\n",
      "[NbConvertApp] Writing 53191 bytes to README.md\n",
      "[NbConvertApp] Converting notebook README.ipynb to python\n",
      "[NbConvertApp] Writing 1179 bytes to README.py\n"
     ]
    }
   ],
   "source": [
    "!make build"
   ]
  },
  {
   "cell_type": "code",
   "execution_count": null,
   "id": "ad12940c",
   "metadata": {},
   "outputs": [],
   "source": []
  }
 ],
 "metadata": {
  "kernelspec": {
   "display_name": "Python 3 (ipykernel)",
   "language": "python",
   "name": "python3"
  },
  "language_info": {
   "codemirror_mode": {
    "name": "ipython",
    "version": 3
   },
   "file_extension": ".py",
   "mimetype": "text/x-python",
   "name": "python",
   "nbconvert_exporter": "python",
   "pygments_lexer": "ipython3",
   "version": "3.10.4"
  }
 },
 "nbformat": 4,
 "nbformat_minor": 5
}
