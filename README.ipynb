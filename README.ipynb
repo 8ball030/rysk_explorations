{
 "cells": [
  {
   "cell_type": "markdown",
   "id": "1a55daf8",
   "metadata": {},
   "source": [
    "# Rysk Client\n",
    "\n",
    "The rysk python client offers a programatic means by which to interact with the (Rysk Finance Protocol).\n",
    "\n",
    "The DHV is a hybrid AMM and RFQ options protocol, generating uncorrelated returns for its liquidity providers whilst enabling anyone to trade (buy and sell) options with a wide range of strike prices and expiry dates. The DHV uses a dynamic approach in hedging risk to generate market-neutral uncorrelated returns for liquidity providers.\n",
    "\n",
    "The Rysk client is a python client that allows users to interact with the [Rysk protocol](https://app.rysk.finance). The client is built on top of the web3.py and the [Open-Aea](https://github.com/valory-xyz/open-aea) python libraries. The client allows users to interact with the Rysk protocol in a programatic manner.\n",
    "\n",
    "\n",
    "\n",
    "## Installation\n",
    "\n",
    "The application is available on pypi and can be installed as so\n",
    "\n",
    "```bash\n",
    "pip install rysk-client\n",
    "```"
   ]
  },
  {
   "cell_type": "markdown",
   "id": "3f7f0490",
   "metadata": {},
   "source": [
    "## Cli Tool\n",
    "\n",
    "The application is also bundled as cli tool to allow users to interact with the protocol from the cli.\n"
   ]
  },
  {
   "cell_type": "markdown",
   "id": "02cefa86",
   "metadata": {},
   "source": [
    "\n",
    "\n",
    "![alt text](demo.gif \"Title\")\n"
   ]
  },
  {
   "cell_type": "markdown",
   "id": "464d2ace",
   "metadata": {},
   "source": [
    "## Creating a Client \n",
    "\n",
    "Clients can be created from the rysk client module using python code."
   ]
  },
  {
   "cell_type": "code",
   "execution_count": 3,
   "id": "2ac313be",
   "metadata": {
    "scrolled": true
   },
   "outputs": [
    {
     "name": "stdout",
     "output_type": "stream",
     "text": [
      "{'address': '0x9B8a204636a7aa9c33053d9C3A828720d32212e8'}\n",
      "Rysk client initialized and connected to the blockchain at RPC connection https://arbitrum-goerli.rpc.thirdweb.com\n"
     ]
    },
    {
     "data": {
      "text/plain": [
       "RyskClient(_markets=[], _tickers=[], _otokens={}, web3_client=<rysk_client.web3_client.Web3Client object at 0x7f1df5ff0670>)"
      ]
     },
     "execution_count": 3,
     "metadata": {},
     "output_type": "execute_result"
    }
   ],
   "source": [
    "from rysk_client.client import RyskClient\n",
    "from tests.conftest import DEFAULT_ADDRESS\n",
    "\n",
    "auth = {\n",
    "    \"address\": DEFAULT_ADDRESS,\n",
    "}\n",
    "\n",
    "client = RyskClient(**auth)\n",
    "client\n"
   ]
  },
  {
   "cell_type": "markdown",
   "id": "14cdf2f0",
   "metadata": {},
   "source": [
    "### Markets\n",
    "We can fetch data about the markets as so;"
   ]
  },
  {
   "cell_type": "code",
   "execution_count": 4,
   "id": "6f59be75",
   "metadata": {},
   "outputs": [
    {
     "data": {
      "text/plain": [
       "{'id': 'ETH-29SEP23-1800-C',\n",
       " 'strike': 1800.0,\n",
       " 'expiration': 1695974400,\n",
       " 'optionType': 'call',\n",
       " 'active': True,\n",
       " 'delta': 0.6189098962288028,\n",
       " 'bid': 121.382234,\n",
       " 'ask': 130.231078,\n",
       " 'dhv': 0.1}"
      ]
     },
     "execution_count": 4,
     "metadata": {},
     "output_type": "execute_result"
    }
   ],
   "source": [
    "markets = client.fetch_markets()\n",
    "markets[0]"
   ]
  },
  {
   "cell_type": "markdown",
   "id": "b1821e71",
   "metadata": {},
   "source": [
    "## Fetching Tickers\n",
    "\n",
    "Tickers can be fetched from the client as so;"
   ]
  },
  {
   "cell_type": "code",
   "execution_count": 5,
   "id": "109df62d",
   "metadata": {},
   "outputs": [
    {
     "data": {
      "text/plain": [
       "{'id': 'ETH-29SEP23-1800-C',\n",
       " 'strike': 1800.0,\n",
       " 'expiration': 1695974400,\n",
       " 'optionType': 'call',\n",
       " 'active': True,\n",
       " 'delta': 0.6189098962288028,\n",
       " 'bid': 121.382234,\n",
       " 'ask': 130.231078,\n",
       " 'dhv': 0.1}"
      ]
     },
     "execution_count": 5,
     "metadata": {},
     "output_type": "execute_result"
    }
   ],
   "source": [
    "tickers = client.fetch_tickers()\n",
    "tickers[0]"
   ]
  },
  {
   "cell_type": "markdown",
   "id": "c725e501",
   "metadata": {},
   "source": [
    "## Fetching Positions\n",
    "Positions are fetched from the client such that a user can retrieve their positions.\n",
    "\n",
    "Positions are indicated by a vault id.\n",
    "\n",
    "The vaultid iterates when a new position is created. \n",
    "\n",
    "Vaultid can be retrieved from;\n",
    "\n",
    "\n",
    "\n"
   ]
  },
  {
   "cell_type": "code",
   "execution_count": 6,
   "id": "09de84ee",
   "metadata": {},
   "outputs": [
    {
     "data": {
      "text/plain": [
       "{'id': '0x9b8a204636a7aa9c33053d9c3a828720d32212e8-0x5c82b8d5a5306c48e9ac5fc07559a6961bd1ad1e-l-0',\n",
       " 'symbol': 'ETH-29SEP23-1800-C',\n",
       " 'timestamp': 1695974400000,\n",
       " 'datetime': datetime.datetime(2023, 9, 29, 9, 0),\n",
       " 'initialMarginPercentage': None,\n",
       " 'realizedPnl': -0.9503399999999971,\n",
       " 'unrealizedPnl': 0.0,\n",
       " 'contractSize': 0.0,\n",
       " 'side': 'long',\n",
       " 'size': 0.0,\n",
       " 'info': {'id': '0x9b8a204636a7aa9c33053d9c3a828720d32212e8-0x5c82b8d5a5306c48e9ac5fc07559a6961bd1ad1e-l-0',\n",
       "  'netAmount': '0',\n",
       "  'buyAmount': '200000000000000000',\n",
       "  'sellAmount': '200000000000000000',\n",
       "  'active': False,\n",
       "  'realizedPnl': '-1150340',\n",
       "  'oToken': {'id': '0x5c82b8d5a5306c48e9ac5fc07559a6961bd1ad1e',\n",
       "   'symbol': 'oWETHUSDC/USDC-29SEP23-1800C',\n",
       "   'expiryTimestamp': '1695974400',\n",
       "   'strikePrice': '180000000000',\n",
       "   'isPut': False,\n",
       "   'underlyingAsset': {'id': '0x3b3a1de07439eeb04492fa64a889ee25a130cdd3'},\n",
       "   'createdAt': '1689849479'},\n",
       "  'redeemActions': [],\n",
       "  'optionsBoughtTransactions': [{'amount': '100000000000000000',\n",
       "    'premium': '12841201'},\n",
       "   {'amount': '100000000000000000', 'premium': '13438848'}],\n",
       "  'optionsSoldTransactions': [{'amount': '200000000000000000',\n",
       "    'premium': '25329709'}],\n",
       "  'expiration_datetime': datetime.datetime(2023, 9, 29, 9, 0),\n",
       "  'strike': 1.8e+21,\n",
       "  'isPut': False},\n",
       " 'entryPrice': 0}"
      ]
     },
     "execution_count": 6,
     "metadata": {},
     "output_type": "execute_result"
    }
   ],
   "source": [
    "positions = client.fetch_positions()\n",
    "positions[0]"
   ]
  },
  {
   "cell_type": "markdown",
   "id": "ebc3f925",
   "metadata": {},
   "source": [
    "## Dev & Contributing\n",
    "\n",
    "Dependencies are managed with poetry.\n",
    "\n",
    "For dev build.\n",
    "\n",
    "```bash\n",
    "poetry install \n",
    "poetry shell \n",
    "```"
   ]
  },
  {
   "cell_type": "markdown",
   "id": "671deb82",
   "metadata": {},
   "source": [
    "# Tests"
   ]
  },
  {
   "cell_type": "code",
   "execution_count": 7,
   "id": "0a3ef446",
   "metadata": {},
   "outputs": [
    {
     "name": "stdout",
     "output_type": "stream",
     "text": [
      "\u001b[1m============================= test session starts ==============================\u001b[0m\n",
      "platform linux -- Python 3.10.4, pytest-7.2.1, pluggy-1.2.0\n",
      "rootdir: /home/tom/Desktop/Fun/rysk/rysk_explorations, configfile: pytest.ini\n",
      "plugins: cov-3.0.0, web3-5.31.0, anyio-3.7.1, pylama-8.4.1, rerunfailures-11.1.2\n",
      "collected 78 items                                                             \u001b[0m\n",
      "\n",
      "tests/test_client.py::test_fetch_markets \u001b[32mPASSED\u001b[0m\u001b[32m                          [  1%]\u001b[0m\n",
      "tests/test_client.py::test_fetch_tickers \u001b[32mPASSED\u001b[0m\u001b[32m                          [  2%]\u001b[0m\n",
      "tests/test_client.py::test_fetch_positions \u001b[32mPASSED\u001b[0m\u001b[32m                        [  3%]\u001b[0m\n",
      "tests/test_client.py::test_create_buy_order[ETH-28JUL23-1900-C] \u001b[32mPASSED\u001b[0m\u001b[32m   [  5%]\u001b[0m\n",
      "tests/test_client.py::test_create_buy_order[ETH-28JUL23-1900-P] \u001b[32mPASSED\u001b[0m\u001b[32m   [  6%]\u001b[0m\n",
      "tests/test_client.py::test_create_sell_order \u001b[32mPASSED\u001b[0m\u001b[32m                      [  7%]\u001b[0m\n",
      "tests/test_collateral.py::test_get_collateral[usdc] \u001b[32mPASSED\u001b[0m\u001b[32m               [  8%]\u001b[0m\n",
      "tests/test_collateral.py::test_get_collateral[weth] \u001b[32mPASSED\u001b[0m\u001b[32m               [ 10%]\u001b[0m\n",
      "tests/test_collateral.py::test_supported_collateral[usdc] \u001b[32mPASSED\u001b[0m\u001b[32m         [ 11%]\u001b[0m\n",
      "tests/test_collateral.py::test_supported_collateral[weth] \u001b[32mPASSED\u001b[0m\u001b[32m         [ 12%]\u001b[0m\n",
      "tests/test_collateral.py::test_unsupported_collateral[btc] \u001b[32mPASSED\u001b[0m\u001b[32m        [ 14%]\u001b[0m\n",
      "tests/test_collateral.py::test_unsupported_collateral[doge] \u001b[32mPASSED\u001b[0m\u001b[32m       [ 15%]\u001b[0m\n",
      "tests/test_contract_calls.py::test_local_fork \u001b[32mPASSED\u001b[0m\u001b[32m                     [ 16%]\u001b[0m\n",
      "tests/test_contract_calls.py::test_get_block_number \u001b[32mPASSED\u001b[0m\u001b[32m               [ 17%]\u001b[0m\n",
      "tests/test_contract_calls.py::test_settle_vault[6] \u001b[33mSKIPPED\u001b[0m (Pending ...)\u001b[32m [ 19%]\u001b[0m\n",
      "tests/test_contract_calls.py::test_settle_vault[9] \u001b[33mSKIPPED\u001b[0m (Pending ...)\u001b[32m [ 20%]\u001b[0m\n",
      "tests/test_contract_calls.py::test_settle_vault[15] \u001b[33mSKIPPED\u001b[0m (Pending...)\u001b[32m [ 21%]\u001b[0m\n",
      "tests/test_contract_calls.py::test_fails_to_settle_vault \u001b[32mPASSED\u001b[0m\u001b[32m          [ 23%]\u001b[0m\n",
      "tests/test_contract_calls.py::test_redeems_o_token \u001b[33mSKIPPED\u001b[0m (Pending ...)\u001b[32m [ 24%]\u001b[0m\n",
      "tests/test_contract_calls.py::test_retieve_and_redeem[ETH-02JUN23-1900-P-30] \u001b[33mSKIPPED\u001b[0m\u001b[32m [ 25%]\u001b[0m\n",
      "tests/test_contract_calls.py::test_retieve_and_redeem[ETH-09JUN23-1900-P-360] \u001b[33mSKIPPED\u001b[0m\u001b[32m [ 26%]\u001b[0m\n",
      "tests/test_contract_calls.py::test_redeem_market_from_str[ETH-02JUN23-1900-P] \u001b[33mSKIPPED\u001b[0m\u001b[32m [ 28%]\u001b[0m\n",
      "tests/test_contract_calls.py::test_client_can_buy[ETH-28JUL23-1900-C-5] \u001b[32mPASSED\u001b[0m\u001b[32m [ 29%]\u001b[0m\n",
      "tests/test_contract_calls.py::test_client_can_buy[ETH-28JUL23-2000-C-5] \u001b[32mPASSED\u001b[0m\u001b[32m [ 30%]\u001b[0m\n",
      "tests/test_contract_calls.py::test_client_can_buy[ETH-28JUL23-1800-P-5] \u001b[32mPASSED\u001b[0m\u001b[32m [ 32%]\u001b[0m\n",
      "tests/test_contract_calls.py::test_client_can_buy[ETH-28JUL23-1900-P-5] \u001b[32mPASSED\u001b[0m\u001b[32m [ 33%]\u001b[0m\n",
      "tests/test_contract_calls.py::test_client_can_buy_differing_amounts[ETH-28JUL23-2000-C-1] \u001b[32mPASSED\u001b[0m\u001b[32m [ 34%]\u001b[0m\n",
      "tests/test_contract_calls.py::test_client_can_buy_differing_amounts[ETH-28JUL23-1900-C-2] \u001b[32mPASSED\u001b[0m\u001b[32m [ 35%]\u001b[0m\n",
      "tests/test_contract_calls.py::test_client_can_buy_differing_amounts[ETH-28JUL23-1800-P-3] \u001b[32mPASSED\u001b[0m\u001b[32m [ 37%]\u001b[0m\n",
      "tests/test_contract_calls.py::test_client_can_buy_differing_amounts[ETH-28JUL23-2000-C-4] \u001b[32mPASSED\u001b[0m\u001b[32m [ 38%]\u001b[0m\n",
      "tests/test_contract_calls.py::test_client_can_buy_differing_amounts[ETH-28JUL23-1900-C-5] \u001b[32mPASSED\u001b[0m\u001b[32m [ 39%]\u001b[0m\n",
      "tests/test_contract_calls.py::test_client_can_buy_differing_amounts[ETH-28JUL23-1800-P-6] \u001b[32mPASSED\u001b[0m\u001b[32m [ 41%]\u001b[0m\n",
      "tests/test_contract_calls.py::test_client_can_buy_differing_amounts[ETH-28JUL23-2000-C-7] \u001b[32mPASSED\u001b[0m\u001b[32m [ 42%]\u001b[0m"
     ]
    }
   ],
   "source": [
    "!poetry run pytest tests"
   ]
  },
  {
   "cell_type": "markdown",
   "id": "caa3233b",
   "metadata": {},
   "source": [
    "## Formating and linting"
   ]
  },
  {
   "cell_type": "code",
   "execution_count": 8,
   "id": "cbbf54e6",
   "metadata": {},
   "outputs": [
    {
     "name": "stdout",
     "output_type": "stream",
     "text": [
      "poetry run black tests rysk_client && poetry run isort tests rysk_client \n",
      "\u001b[1mreformatted tests/conftest.py\u001b[0m\n",
      "\u001b[1mreformatted tests/test_rysk_option_market.py\u001b[0m\n",
      "\u001b[1mreformatted rysk_client/packages/eightballer/contracts/user_position_lens/contract.py\u001b[0m\n",
      "\u001b[1mreformatted rysk_client/src/utils.py\u001b[0m\n",
      "\u001b[1mreformatted rysk_client/src/operation_factory.py\u001b[0m\n",
      "\u001b[1mreformatted rysk_client/packages/eightballer/contracts/option_exchange/contract.py\u001b[0m\n",
      "\u001b[1mreformatted rysk_client/packages/eightballer/contracts/opyn_controller/contract.py\u001b[0m\n",
      "\u001b[1mreformatted rysk_client/packages/eightballer/contracts/opyn_option_registry/contract.py\u001b[0m\n",
      "\u001b[1mreformatted rysk_client/web3_client.py\u001b[0m\n",
      "\u001b[1mreformatted rysk_client/client.py\u001b[0m\n",
      "\n",
      "\u001b[1mAll done! ✨ 🍰 ✨\u001b[0m\n",
      "\u001b[34m\u001b[1m10 files \u001b[0m\u001b[1mreformatted\u001b[0m, \u001b[34m39 files \u001b[0mleft unchanged.\n",
      "Fixing /home/tom/Desktop/Fun/rysk/rysk_explorations/tests/test_rysk_option_market.py\n",
      "Fixing /home/tom/Desktop/Fun/rysk/rysk_explorations/tests/conftest.py\n",
      "Fixing /home/tom/Desktop/Fun/rysk/rysk_explorations/rysk_client/client.py\n",
      "Fixing /home/tom/Desktop/Fun/rysk/rysk_explorations/rysk_client/web3_client.py\n",
      "Fixing /home/tom/Desktop/Fun/rysk/rysk_explorations/rysk_client/packages/eightballer/contracts/user_position_lens/contract.py\n",
      "Fixing /home/tom/Desktop/Fun/rysk/rysk_explorations/rysk_client/packages/eightballer/contracts/opyn_option_registry/contract.py\n",
      "Fixing /home/tom/Desktop/Fun/rysk/rysk_explorations/rysk_client/packages/eightballer/contracts/option_exchange/contract.py\n",
      "Fixing /home/tom/Desktop/Fun/rysk/rysk_explorations/rysk_client/packages/eightballer/contracts/opyn_controller/contract.py\n",
      "Fixing /home/tom/Desktop/Fun/rysk/rysk_explorations/rysk_client/src/operation_factory.py\n",
      "Fixing /home/tom/Desktop/Fun/rysk/rysk_explorations/rysk_client/src/utils.py\n",
      "Skipped 9 files\n",
      "poetry run adev -v -n 0 lint -p tests\n",
      "\u001b[2;36m[19:16:04]\u001b[0m\u001b[2;36m \u001b[0m\u001b[32mDEBUG   \u001b[0m Consider installing rusty-rlp to improve pyrlp   \u001b]8;id=871982;file:///home/tom/.cache/pypoetry/virtualenvs/rysk-client-Q6-gVAE8-py3.10/lib/python3.10/site-packages/rlp/codec.py\u001b\\\u001b[2mcodec.py\u001b[0m\u001b]8;;\u001b\\\u001b[2m:\u001b[0m\u001b]8;id=423867;file:///home/tom/.cache/pypoetry/virtualenvs/rysk-client-Q6-gVAE8-py3.10/lib/python3.10/site-packages/rlp/codec.py#26\u001b\\\u001b[2m26\u001b[0m\u001b]8;;\u001b\\\n",
      "\u001b[2;36m           \u001b[0m         performance with a rust based backend            \u001b[2m           \u001b[0m\n",
      "\u001b[2;36m          \u001b[0m\u001b[2;36m \u001b[0m\u001b[34mINFO    \u001b[0m Starting Auto Dev v0.\u001b[1;36m2.6\u001b[0m \u001b[33m...\u001b[0m                      \u001b]8;id=777441;file:///home/tom/.cache/pypoetry/virtualenvs/rysk-client-Q6-gVAE8-py3.10/lib/python3.10/site-packages/auto_dev/base.py\u001b\\\u001b[2mbase.py\u001b[0m\u001b]8;;\u001b\\\u001b[2m:\u001b[0m\u001b]8;id=390191;file:///home/tom/.cache/pypoetry/virtualenvs/rysk-client-Q6-gVAE8-py3.10/lib/python3.10/site-packages/auto_dev/base.py#72\u001b\\\u001b[2m72\u001b[0m\u001b]8;;\u001b\\\n",
      "\u001b[2;36m          \u001b[0m\u001b[2;36m \u001b[0m\u001b[34mINFO    \u001b[0m Verbose mode enabled                              \u001b]8;id=656669;file:///home/tom/.cache/pypoetry/virtualenvs/rysk-client-Q6-gVAE8-py3.10/lib/python3.10/site-packages/auto_dev/base.py\u001b\\\u001b[2mbase.py\u001b[0m\u001b]8;;\u001b\\\u001b[2m:\u001b[0m\u001b]8;id=690015;file:///home/tom/.cache/pypoetry/virtualenvs/rysk-client-Q6-gVAE8-py3.10/lib/python3.10/site-packages/auto_dev/base.py#75\u001b\\\u001b[2m75\u001b[0m\u001b]8;;\u001b\\\n",
      "\u001b[2;36m          \u001b[0m\u001b[2;36m \u001b[0m\u001b[34mINFO    \u001b[0m Using \u001b[1;36m32\u001b[0m processes for processing                 \u001b]8;id=300635;file:///home/tom/.cache/pypoetry/virtualenvs/rysk-client-Q6-gVAE8-py3.10/lib/python3.10/site-packages/auto_dev/base.py\u001b\\\u001b[2mbase.py\u001b[0m\u001b]8;;\u001b\\\u001b[2m:\u001b[0m\u001b]8;id=723439;file:///home/tom/.cache/pypoetry/virtualenvs/rysk-client-Q6-gVAE8-py3.10/lib/python3.10/site-packages/auto_dev/base.py#77\u001b\\\u001b[2m77\u001b[0m\u001b]8;;\u001b\\\n",
      "\u001b[2;36m          \u001b[0m\u001b[2;36m \u001b[0m\u001b[34mINFO    \u001b[0m Setting log level to INFO                         \u001b]8;id=59445;file:///home/tom/.cache/pypoetry/virtualenvs/rysk-client-Q6-gVAE8-py3.10/lib/python3.10/site-packages/auto_dev/base.py\u001b\\\u001b[2mbase.py\u001b[0m\u001b]8;;\u001b\\\u001b[2m:\u001b[0m\u001b]8;id=408112;file:///home/tom/.cache/pypoetry/virtualenvs/rysk-client-Q6-gVAE8-py3.10/lib/python3.10/site-packages/auto_dev/base.py#79\u001b\\\u001b[2m79\u001b[0m\u001b]8;;\u001b\\\n",
      "\u001b[2;36m          \u001b[0m\u001b[2;36m \u001b[0m\u001b[34mINFO    \u001b[0m Linting Open Autonomy Packages                    \u001b]8;id=656444;file:///home/tom/.cache/pypoetry/virtualenvs/rysk-client-Q6-gVAE8-py3.10/lib/python3.10/site-packages/auto_dev/commands/lint.py\u001b\\\u001b[2mlint.py\u001b[0m\u001b]8;;\u001b\\\u001b[2m:\u001b[0m\u001b]8;id=861569;file:///home/tom/.cache/pypoetry/virtualenvs/rysk-client-Q6-gVAE8-py3.10/lib/python3.10/site-packages/auto_dev/commands/lint.py#37\u001b\\\u001b[2m37\u001b[0m\u001b]8;;\u001b\\\n",
      "\u001b[2;36m          \u001b[0m\u001b[2;36m \u001b[0m\u001b[34mINFO    \u001b[0m Linting \u001b[1;36m12\u001b[0m files\u001b[33m...\u001b[0m                               \u001b]8;id=422140;file:///home/tom/.cache/pypoetry/virtualenvs/rysk-client-Q6-gVAE8-py3.10/lib/python3.10/site-packages/auto_dev/commands/lint.py\u001b\\\u001b[2mlint.py\u001b[0m\u001b]8;;\u001b\\\u001b[2m:\u001b[0m\u001b]8;id=648455;file:///home/tom/.cache/pypoetry/virtualenvs/rysk-client-Q6-gVAE8-py3.10/lib/python3.10/site-packages/auto_dev/commands/lint.py#39\u001b\\\u001b[2m39\u001b[0m\u001b]8;;\u001b\\\n",
      "\u001b[2;36m[19:16:09]\u001b[0m\u001b[2;36m \u001b[0m\u001b[34mINFO    \u001b[0m Linting completed with \u001b[1;36m12\u001b[0m passed and \u001b[1;36m0\u001b[0m failed     \u001b]8;id=16054;file:///home/tom/.cache/pypoetry/virtualenvs/rysk-client-Q6-gVAE8-py3.10/lib/python3.10/site-packages/auto_dev/commands/lint.py\u001b\\\u001b[2mlint.py\u001b[0m\u001b]8;;\u001b\\\u001b[2m:\u001b[0m\u001b]8;id=321483;file:///home/tom/.cache/pypoetry/virtualenvs/rysk-client-Q6-gVAE8-py3.10/lib/python3.10/site-packages/auto_dev/commands/lint.py#46\u001b\\\u001b[2m46\u001b[0m\u001b]8;;\u001b\\\n",
      "poetry run adev -v -n 0 lint -p rysk_client\n",
      "\u001b[2;36m[19:16:10]\u001b[0m\u001b[2;36m \u001b[0m\u001b[32mDEBUG   \u001b[0m Consider installing rusty-rlp to improve pyrlp   \u001b]8;id=924141;file:///home/tom/.cache/pypoetry/virtualenvs/rysk-client-Q6-gVAE8-py3.10/lib/python3.10/site-packages/rlp/codec.py\u001b\\\u001b[2mcodec.py\u001b[0m\u001b]8;;\u001b\\\u001b[2m:\u001b[0m\u001b]8;id=620693;file:///home/tom/.cache/pypoetry/virtualenvs/rysk-client-Q6-gVAE8-py3.10/lib/python3.10/site-packages/rlp/codec.py#26\u001b\\\u001b[2m26\u001b[0m\u001b]8;;\u001b\\\n",
      "\u001b[2;36m           \u001b[0m         performance with a rust based backend            \u001b[2m           \u001b[0m\n",
      "\u001b[2;36m[19:16:11]\u001b[0m\u001b[2;36m \u001b[0m\u001b[34mINFO    \u001b[0m Starting Auto Dev v0.\u001b[1;36m2.6\u001b[0m \u001b[33m...\u001b[0m                      \u001b]8;id=109749;file:///home/tom/.cache/pypoetry/virtualenvs/rysk-client-Q6-gVAE8-py3.10/lib/python3.10/site-packages/auto_dev/base.py\u001b\\\u001b[2mbase.py\u001b[0m\u001b]8;;\u001b\\\u001b[2m:\u001b[0m\u001b]8;id=900199;file:///home/tom/.cache/pypoetry/virtualenvs/rysk-client-Q6-gVAE8-py3.10/lib/python3.10/site-packages/auto_dev/base.py#72\u001b\\\u001b[2m72\u001b[0m\u001b]8;;\u001b\\\n",
      "\u001b[2;36m          \u001b[0m\u001b[2;36m \u001b[0m\u001b[34mINFO    \u001b[0m Verbose mode enabled                              \u001b]8;id=607608;file:///home/tom/.cache/pypoetry/virtualenvs/rysk-client-Q6-gVAE8-py3.10/lib/python3.10/site-packages/auto_dev/base.py\u001b\\\u001b[2mbase.py\u001b[0m\u001b]8;;\u001b\\\u001b[2m:\u001b[0m\u001b]8;id=519072;file:///home/tom/.cache/pypoetry/virtualenvs/rysk-client-Q6-gVAE8-py3.10/lib/python3.10/site-packages/auto_dev/base.py#75\u001b\\\u001b[2m75\u001b[0m\u001b]8;;\u001b\\\n",
      "\u001b[2;36m          \u001b[0m\u001b[2;36m \u001b[0m\u001b[34mINFO    \u001b[0m Using \u001b[1;36m32\u001b[0m processes for processing                 \u001b]8;id=302243;file:///home/tom/.cache/pypoetry/virtualenvs/rysk-client-Q6-gVAE8-py3.10/lib/python3.10/site-packages/auto_dev/base.py\u001b\\\u001b[2mbase.py\u001b[0m\u001b]8;;\u001b\\\u001b[2m:\u001b[0m\u001b]8;id=356880;file:///home/tom/.cache/pypoetry/virtualenvs/rysk-client-Q6-gVAE8-py3.10/lib/python3.10/site-packages/auto_dev/base.py#77\u001b\\\u001b[2m77\u001b[0m\u001b]8;;\u001b\\\n",
      "\u001b[2;36m          \u001b[0m\u001b[2;36m \u001b[0m\u001b[34mINFO    \u001b[0m Setting log level to INFO                         \u001b]8;id=822518;file:///home/tom/.cache/pypoetry/virtualenvs/rysk-client-Q6-gVAE8-py3.10/lib/python3.10/site-packages/auto_dev/base.py\u001b\\\u001b[2mbase.py\u001b[0m\u001b]8;;\u001b\\\u001b[2m:\u001b[0m\u001b]8;id=634619;file:///home/tom/.cache/pypoetry/virtualenvs/rysk-client-Q6-gVAE8-py3.10/lib/python3.10/site-packages/auto_dev/base.py#79\u001b\\\u001b[2m79\u001b[0m\u001b]8;;\u001b\\\n",
      "\u001b[2;36m          \u001b[0m\u001b[2;36m \u001b[0m\u001b[34mINFO    \u001b[0m Linting Open Autonomy Packages                    \u001b]8;id=550306;file:///home/tom/.cache/pypoetry/virtualenvs/rysk-client-Q6-gVAE8-py3.10/lib/python3.10/site-packages/auto_dev/commands/lint.py\u001b\\\u001b[2mlint.py\u001b[0m\u001b]8;;\u001b\\\u001b[2m:\u001b[0m\u001b]8;id=189039;file:///home/tom/.cache/pypoetry/virtualenvs/rysk-client-Q6-gVAE8-py3.10/lib/python3.10/site-packages/auto_dev/commands/lint.py#37\u001b\\\u001b[2m37\u001b[0m\u001b]8;;\u001b\\\n",
      "\u001b[2;36m          \u001b[0m\u001b[2;36m \u001b[0m\u001b[34mINFO    \u001b[0m Linting \u001b[1;36m37\u001b[0m files\u001b[33m...\u001b[0m                               \u001b]8;id=733237;file:///home/tom/.cache/pypoetry/virtualenvs/rysk-client-Q6-gVAE8-py3.10/lib/python3.10/site-packages/auto_dev/commands/lint.py\u001b\\\u001b[2mlint.py\u001b[0m\u001b]8;;\u001b\\\u001b[2m:\u001b[0m\u001b]8;id=406955;file:///home/tom/.cache/pypoetry/virtualenvs/rysk-client-Q6-gVAE8-py3.10/lib/python3.10/site-packages/auto_dev/commands/lint.py#39\u001b\\\u001b[2m39\u001b[0m\u001b]8;;\u001b\\\n",
      "\u001b[2;36m[19:16:19]\u001b[0m\u001b[2;36m \u001b[0m\u001b[34mINFO    \u001b[0m Linting completed with \u001b[1;36m37\u001b[0m passed and \u001b[1;36m0\u001b[0m failed     \u001b]8;id=571940;file:///home/tom/.cache/pypoetry/virtualenvs/rysk-client-Q6-gVAE8-py3.10/lib/python3.10/site-packages/auto_dev/commands/lint.py\u001b\\\u001b[2mlint.py\u001b[0m\u001b]8;;\u001b\\\u001b[2m:\u001b[0m\u001b]8;id=671018;file:///home/tom/.cache/pypoetry/virtualenvs/rysk-client-Q6-gVAE8-py3.10/lib/python3.10/site-packages/auto_dev/commands/lint.py#46\u001b\\\u001b[2m46\u001b[0m\u001b]8;;\u001b\\\n"
     ]
    }
   ],
   "source": [
    "!make fmt lint"
   ]
  },
  {
   "cell_type": "markdown",
   "id": "3fed21ee",
   "metadata": {},
   "source": [
    "# Releasing\n",
    "Git ops is used to enable automated releases via pypi.\n",
    "\n",
    "```bash\n",
    "export NEW_VERSION=0.2.11\n",
    "git checkout -b v$NEW_VERSION &&\n",
    "    bumpversion  rysk_client/ --new-version $NEW_VERSION && \n",
    "git push --set-upstream origin (git rev-parse --abbrev-ref HEAD) && git push --tag\n",
    "\n",
    "```"
   ]
  }
 ],
 "metadata": {
  "kernelspec": {
   "display_name": "Python 3 (ipykernel)",
   "language": "python",
   "name": "python3"
  },
  "language_info": {
   "codemirror_mode": {
    "name": "ipython",
    "version": 3
   },
   "file_extension": ".py",
   "mimetype": "text/x-python",
   "name": "python",
   "nbconvert_exporter": "python",
   "pygments_lexer": "ipython3",
   "version": "3.10.4"
  }
 },
 "nbformat": 4,
 "nbformat_minor": 5
}
