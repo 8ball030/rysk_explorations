{
 "cells": [
  {
   "attachments": {},
   "cell_type": "markdown",
   "id": "1a55daf8",
   "metadata": {},
   "source": [
    "# Rysk Client\n",
    "\n",
    "## Installation\n",
    "\n",
    "### Dev\n",
    "\n",
    "dependencies are managed with poetry. \n",
    "\n",
    "For dev build."
   ]
  },
  {
   "cell_type": "code",
   "execution_count": 21,
   "id": "fbe14430",
   "metadata": {},
   "outputs": [
    {
     "name": "stdout",
     "output_type": "stream",
     "text": [
      "Requirement already satisfied: rysk-client in /home/tom/.pyenv/versions/3.10.4/lib/python3.10/site-packages (0.1.3)\n",
      "Requirement already satisfied: web3<6.0.0,>=5.4.0 in /home/tom/.pyenv/versions/3.10.4/lib/python3.10/site-packages (from rysk-client) (5.25.0)\n",
      "Requirement already satisfied: ccxt<4.0.0,>=3.1.15 in /home/tom/.pyenv/versions/3.10.4/lib/python3.10/site-packages (from rysk-client) (3.1.17)\n",
      "Requirement already satisfied: requests>=2.18.4 in /home/tom/.pyenv/versions/3.10.4/lib/python3.10/site-packages (from ccxt<4.0.0,>=3.1.15->rysk-client) (2.28.1)\n",
      "Requirement already satisfied: cryptography>=2.6.1 in /home/tom/.pyenv/versions/3.10.4/lib/python3.10/site-packages (from ccxt<4.0.0,>=3.1.15->rysk-client) (39.0.1)\n",
      "Requirement already satisfied: setuptools>=60.9.0 in /home/tom/.pyenv/versions/3.10.4/lib/python3.10/site-packages (from ccxt<4.0.0,>=3.1.15->rysk-client) (67.8.0)\n",
      "Requirement already satisfied: aiodns>=1.1.1 in /home/tom/.pyenv/versions/3.10.4/lib/python3.10/site-packages (from ccxt<4.0.0,>=3.1.15->rysk-client) (3.0.0)\n",
      "Requirement already satisfied: certifi>=2018.1.18 in /home/tom/.pyenv/versions/3.10.4/lib/python3.10/site-packages (from ccxt<4.0.0,>=3.1.15->rysk-client) (2022.6.15)\n",
      "Requirement already satisfied: aiohttp>=3.8 in /home/tom/.pyenv/versions/3.10.4/lib/python3.10/site-packages (from ccxt<4.0.0,>=3.1.15->rysk-client) (3.8.4)\n",
      "Requirement already satisfied: yarl>=1.7.2 in /home/tom/.pyenv/versions/3.10.4/lib/python3.10/site-packages (from ccxt<4.0.0,>=3.1.15->rysk-client) (1.7.2)\n",
      "Requirement already satisfied: protobuf<4,>=3.10.0 in /home/tom/.pyenv/versions/3.10.4/lib/python3.10/site-packages (from web3<6.0.0,>=5.4.0->rysk-client) (3.20.3)\n",
      "Requirement already satisfied: eth-typing<3.0.0,>=2.0.0 in /home/tom/.pyenv/versions/3.10.4/lib/python3.10/site-packages (from web3<6.0.0,>=5.4.0->rysk-client) (2.3.0)\n",
      "Requirement already satisfied: hexbytes<1.0.0,>=0.1.0 in /home/tom/.pyenv/versions/3.10.4/lib/python3.10/site-packages (from web3<6.0.0,>=5.4.0->rysk-client) (0.3.0)\n",
      "Requirement already satisfied: eth-utils<2.0.0,>=1.9.5 in /home/tom/.pyenv/versions/3.10.4/lib/python3.10/site-packages (from web3<6.0.0,>=5.4.0->rysk-client) (1.9.5)\n",
      "Requirement already satisfied: websockets<10,>=9.1 in /home/tom/.pyenv/versions/3.10.4/lib/python3.10/site-packages (from web3<6.0.0,>=5.4.0->rysk-client) (9.1)\n",
      "Requirement already satisfied: lru-dict<2.0.0,>=1.1.6 in /home/tom/.pyenv/versions/3.10.4/lib/python3.10/site-packages (from web3<6.0.0,>=5.4.0->rysk-client) (1.1.8)\n",
      "Requirement already satisfied: eth-account<0.6.0,>=0.5.6 in /home/tom/.pyenv/versions/3.10.4/lib/python3.10/site-packages (from web3<6.0.0,>=5.4.0->rysk-client) (0.5.6)\n",
      "Requirement already satisfied: eth-hash[pycryptodome]<1.0.0,>=0.2.0 in /home/tom/.pyenv/versions/3.10.4/lib/python3.10/site-packages (from web3<6.0.0,>=5.4.0->rysk-client) (0.5.0)\n",
      "Requirement already satisfied: ipfshttpclient==0.8.0a2 in /home/tom/.pyenv/versions/3.10.4/lib/python3.10/site-packages (from web3<6.0.0,>=5.4.0->rysk-client) (0.8.0a2)\n",
      "Requirement already satisfied: jsonschema<4.0.0,>=3.2.0 in /home/tom/.pyenv/versions/3.10.4/lib/python3.10/site-packages (from web3<6.0.0,>=5.4.0->rysk-client) (3.2.0)\n",
      "Requirement already satisfied: eth-abi<3.0.0,>=2.0.0b6 in /home/tom/.pyenv/versions/3.10.4/lib/python3.10/site-packages (from web3<6.0.0,>=5.4.0->rysk-client) (2.2.0)\n",
      "Requirement already satisfied: multiaddr>=0.0.7 in /home/tom/.pyenv/versions/3.10.4/lib/python3.10/site-packages (from ipfshttpclient==0.8.0a2->web3<6.0.0,>=5.4.0->rysk-client) (0.0.9)\n",
      "Requirement already satisfied: pycares>=4.0.0 in /home/tom/.pyenv/versions/3.10.4/lib/python3.10/site-packages (from aiodns>=1.1.1->ccxt<4.0.0,>=3.1.15->rysk-client) (4.2.2)\n",
      "Requirement already satisfied: multidict<7.0,>=4.5 in /home/tom/.pyenv/versions/3.10.4/lib/python3.10/site-packages (from aiohttp>=3.8->ccxt<4.0.0,>=3.1.15->rysk-client) (6.0.2)\n",
      "Requirement already satisfied: async-timeout<5.0,>=4.0.0a3 in /home/tom/.pyenv/versions/3.10.4/lib/python3.10/site-packages (from aiohttp>=3.8->ccxt<4.0.0,>=3.1.15->rysk-client) (4.0.2)\n",
      "Requirement already satisfied: attrs>=17.3.0 in /home/tom/.pyenv/versions/3.10.4/lib/python3.10/site-packages (from aiohttp>=3.8->ccxt<4.0.0,>=3.1.15->rysk-client) (22.1.0)\n",
      "Requirement already satisfied: charset-normalizer<4.0,>=2.0 in /home/tom/.pyenv/versions/3.10.4/lib/python3.10/site-packages (from aiohttp>=3.8->ccxt<4.0.0,>=3.1.15->rysk-client) (2.1.1)\n",
      "Requirement already satisfied: frozenlist>=1.1.1 in /home/tom/.pyenv/versions/3.10.4/lib/python3.10/site-packages (from aiohttp>=3.8->ccxt<4.0.0,>=3.1.15->rysk-client) (1.3.1)\n",
      "Requirement already satisfied: aiosignal>=1.1.2 in /home/tom/.pyenv/versions/3.10.4/lib/python3.10/site-packages (from aiohttp>=3.8->ccxt<4.0.0,>=3.1.15->rysk-client) (1.2.0)\n",
      "Requirement already satisfied: cffi>=1.12 in /home/tom/.pyenv/versions/3.10.4/lib/python3.10/site-packages (from cryptography>=2.6.1->ccxt<4.0.0,>=3.1.15->rysk-client) (1.15.1)\n",
      "Requirement already satisfied: parsimonious<0.9.0,>=0.8.0 in /home/tom/.pyenv/versions/3.10.4/lib/python3.10/site-packages (from eth-abi<3.0.0,>=2.0.0b6->web3<6.0.0,>=5.4.0->rysk-client) (0.8.1)\n",
      "Requirement already satisfied: rlp<3,>=1.0.0 in /home/tom/.pyenv/versions/3.10.4/lib/python3.10/site-packages (from eth-account<0.6.0,>=0.5.6->web3<6.0.0,>=5.4.0->rysk-client) (2.0.1)\n",
      "Requirement already satisfied: eth-rlp<2,>=0.1.2 in /home/tom/.pyenv/versions/3.10.4/lib/python3.10/site-packages (from eth-account<0.6.0,>=0.5.6->web3<6.0.0,>=5.4.0->rysk-client) (0.2.1)\n",
      "Requirement already satisfied: bitarray<1.3.0,>=1.2.1 in /home/tom/.pyenv/versions/3.10.4/lib/python3.10/site-packages (from eth-account<0.6.0,>=0.5.6->web3<6.0.0,>=5.4.0->rysk-client) (1.2.2)\n",
      "Requirement already satisfied: eth-keyfile<0.6.0,>=0.5.0 in /home/tom/.pyenv/versions/3.10.4/lib/python3.10/site-packages (from eth-account<0.6.0,>=0.5.6->web3<6.0.0,>=5.4.0->rysk-client) (0.5.1)\n",
      "Requirement already satisfied: eth-keys!=0.3.2,<0.4.0,>=0.2.1 in /home/tom/.pyenv/versions/3.10.4/lib/python3.10/site-packages (from eth-account<0.6.0,>=0.5.6->web3<6.0.0,>=5.4.0->rysk-client) (0.3.4)\n",
      "Requirement already satisfied: pycryptodome<4,>=3.6.6 in /home/tom/.pyenv/versions/3.10.4/lib/python3.10/site-packages (from eth-hash[pycryptodome]<1.0.0,>=0.2.0->web3<6.0.0,>=5.4.0->rysk-client) (3.15.0)\n",
      "Requirement already satisfied: cytoolz<1.0.0,>=0.10.1 in /home/tom/.pyenv/versions/3.10.4/lib/python3.10/site-packages (from eth-utils<2.0.0,>=1.9.5->web3<6.0.0,>=5.4.0->rysk-client) (0.12.0)\n",
      "Requirement already satisfied: pyrsistent>=0.14.0 in /home/tom/.pyenv/versions/3.10.4/lib/python3.10/site-packages (from jsonschema<4.0.0,>=3.2.0->web3<6.0.0,>=5.4.0->rysk-client) (0.18.1)\n",
      "Requirement already satisfied: six>=1.11.0 in /home/tom/.pyenv/versions/3.10.4/lib/python3.10/site-packages (from jsonschema<4.0.0,>=3.2.0->web3<6.0.0,>=5.4.0->rysk-client) (1.16.0)\n",
      "Requirement already satisfied: idna<4,>=2.5 in /home/tom/.pyenv/versions/3.10.4/lib/python3.10/site-packages (from requests>=2.18.4->ccxt<4.0.0,>=3.1.15->rysk-client) (3.3)\n",
      "Requirement already satisfied: urllib3<1.27,>=1.21.1 in /home/tom/.pyenv/versions/3.10.4/lib/python3.10/site-packages (from requests>=2.18.4->ccxt<4.0.0,>=3.1.15->rysk-client) (1.26.12)\n",
      "Requirement already satisfied: pycparser in /home/tom/.pyenv/versions/3.10.4/lib/python3.10/site-packages (from cffi>=1.12->cryptography>=2.6.1->ccxt<4.0.0,>=3.1.15->rysk-client) (2.21)\n",
      "Requirement already satisfied: toolz>=0.8.0 in /home/tom/.pyenv/versions/3.10.4/lib/python3.10/site-packages (from cytoolz<1.0.0,>=0.10.1->eth-utils<2.0.0,>=1.9.5->web3<6.0.0,>=5.4.0->rysk-client) (0.11.2)\n",
      "Requirement already satisfied: netaddr in /home/tom/.pyenv/versions/3.10.4/lib/python3.10/site-packages (from multiaddr>=0.0.7->ipfshttpclient==0.8.0a2->web3<6.0.0,>=5.4.0->rysk-client) (0.8.0)\n",
      "Requirement already satisfied: base58 in /home/tom/.pyenv/versions/3.10.4/lib/python3.10/site-packages (from multiaddr>=0.0.7->ipfshttpclient==0.8.0a2->web3<6.0.0,>=5.4.0->rysk-client) (2.1.1)\n",
      "Requirement already satisfied: varint in /home/tom/.pyenv/versions/3.10.4/lib/python3.10/site-packages (from multiaddr>=0.0.7->ipfshttpclient==0.8.0a2->web3<6.0.0,>=5.4.0->rysk-client) (1.0.2)\n",
      "\u001b[33mWARNING: Error parsing requirements for vulture: [Errno 2] No such file or directory: '/home/tom/.pyenv/versions/3.10.4/lib/python3.10/site-packages/vulture-2.5.dist-info/METADATA'\u001b[0m\u001b[33m\n",
      "\u001b[0m\u001b[33mWARNING: You are using pip version 22.0.4; however, version 23.1.2 is available.\n",
      "You should consider upgrading via the '/home/tom/.pyenv/versions/3.10.4/bin/python3.10 -m pip install --upgrade pip' command.\u001b[0m\u001b[33m\n",
      "\u001b[0m"
     ]
    }
   ],
   "source": [
    "!pip install rysk-client"
   ]
  },
  {
   "attachments": {},
   "cell_type": "markdown",
   "id": "ecadae08",
   "metadata": {},
   "source": [
    "# Usage\n"
   ]
  },
  {
   "cell_type": "code",
   "execution_count": 1,
   "id": "856a0f01",
   "metadata": {},
   "outputs": [
    {
     "data": {
      "text/plain": [
       "True"
      ]
     },
     "execution_count": 1,
     "metadata": {},
     "output_type": "execute_result"
    }
   ],
   "source": [
    "from rysk_client.src.utils import get_web3\n",
    "\n",
    "web3 = get_web3()\n",
    "web3.isConnected()"
   ]
  },
  {
   "attachments": {},
   "cell_type": "markdown",
   "id": "464d2ace",
   "metadata": {},
   "source": [
    "## Creating a Client \n",
    "\n",
    "Clients can be created from the rysk client module."
   ]
  },
  {
   "cell_type": "code",
   "execution_count": 2,
   "id": "625c7b97",
   "metadata": {},
   "outputs": [
    {
     "data": {
      "text/plain": [
       "RyskClient(_markets=[], _tickers=[])"
      ]
     },
     "execution_count": 2,
     "metadata": {},
     "output_type": "execute_result"
    }
   ],
   "source": [
    "from rysk_client.client import RyskClient\n",
    "from tests.conftest import DEFAULT_ADDRESS\n",
    "\n",
    "auth = {\n",
    "    \"address\": DEFAULT_ADDRESS,\n",
    "}\n",
    "\n",
    "client = RyskClient(**auth)\n",
    "client\n"
   ]
  },
  {
   "attachments": {},
   "cell_type": "markdown",
   "id": "0e00c54a",
   "metadata": {},
   "source": [
    "## Fetching Markets\n",
    "\n",
    "The client can fetch markets as so;\n"
   ]
  },
  {
   "cell_type": "code",
   "execution_count": 29,
   "id": "9ede9d6a",
   "metadata": {},
   "outputs": [
    {
     "data": {
      "text/plain": [
       "{'base': 'ETH',\n",
       " 'baseId': 'ETH',\n",
       " 'contract': True,\n",
       " 'contractSize': 1.0,\n",
       " 'spot': False,\n",
       " 'swap': False,\n",
       " 'future': False,\n",
       " 'type': 'option',\n",
       " 'linear': False,\n",
       " 'inverse': True,\n",
       " 'active': True,\n",
       " 'id': 'ETH-30JUN23-1700-P',\n",
       " 'strike': 1700.0,\n",
       " 'optionType': 'put',\n",
       " 'expiry': 1688112000000,\n",
       " 'expiryDatetime': '2023-06-30T09:00:00.000000Z',\n",
       " 'info': {'id': '0x01f460be7389b109cc3599941166ea851d0b7c787badf04b1f276d3ce9269a34',\n",
       "  'expiration': '1688112000',\n",
       "  'netDHVExposure': '-250750000000000000000',\n",
       "  'strike': '1700000000000000000000',\n",
       "  'isPut': True,\n",
       "  'isBuyable': True,\n",
       "  'isSellable': True,\n",
       "  'expiration_datetime': datetime.datetime(2023, 6, 30, 9, 0)},\n",
       " 'symbol': 'ETH-30JUN23-1700-P',\n",
       " 'maker': 0.0003,\n",
       " 'taker': 0.0003}"
      ]
     },
     "execution_count": 29,
     "metadata": {},
     "output_type": "execute_result"
    }
   ],
   "source": [
    "markets = client.fetch_markets()\n",
    "markets[0]"
   ]
  },
  {
   "attachments": {},
   "cell_type": "markdown",
   "id": "b1821e71",
   "metadata": {},
   "source": [
    "## Fetching Tickers\n",
    "\n",
    "Tickers can be fetched from the client as so;"
   ]
  },
  {
   "cell_type": "code",
   "execution_count": 30,
   "id": "109df62d",
   "metadata": {},
   "outputs": [
    {
     "data": {
      "text/plain": [
       "{'ask': 48.491057,\n",
       " 'bid': 45.859793,\n",
       " 'info': {'base': 'ETH',\n",
       "  'baseId': 'ETH',\n",
       "  'contract': True,\n",
       "  'contractSize': 1.0,\n",
       "  'spot': False,\n",
       "  'swap': False,\n",
       "  'future': False,\n",
       "  'type': 'option',\n",
       "  'linear': False,\n",
       "  'inverse': True,\n",
       "  'active': True,\n",
       "  'id': 'ETH-30JUN23-1700-P',\n",
       "  'strike': 1700.0,\n",
       "  'optionType': 'put',\n",
       "  'expiry': 1688112000000,\n",
       "  'expiryDatetime': '2023-06-30T09:00:00.000000Z',\n",
       "  'info': {'id': '0x01f460be7389b109cc3599941166ea851d0b7c787badf04b1f276d3ce9269a34',\n",
       "   'expiration': '1688112000',\n",
       "   'netDHVExposure': '-250750000000000000000',\n",
       "   'strike': '1700000000000000000000',\n",
       "   'isPut': True,\n",
       "   'isBuyable': True,\n",
       "   'isSellable': True,\n",
       "   'expiration_datetime': datetime.datetime(2023, 6, 30, 9, 0)},\n",
       "  'symbol': 'ETH-30JUN23-1700-P',\n",
       "  'maker': 0.0003,\n",
       "  'taker': 0.0003}}"
      ]
     },
     "execution_count": 30,
     "metadata": {},
     "output_type": "execute_result"
    }
   ],
   "source": [
    "tickers = client.fetch_tickers()\n",
    "tickers[0]"
   ]
  },
  {
   "attachments": {},
   "cell_type": "markdown",
   "id": "c725e501",
   "metadata": {},
   "source": [
    "## Fetching Positions\n",
    "Positions are fetched from the client such that a user can retrieve their positions.\n",
    "\n",
    "Positions are indicated by a vault id.\n",
    "\n",
    "The vaultid iterates when a new position is created. \n",
    "\n",
    "Vaultid can be retrieved from;\n",
    "\n",
    "\n",
    "\n"
   ]
  },
  {
   "cell_type": "code",
   "execution_count": 3,
   "id": "09de84ee",
   "metadata": {},
   "outputs": [
    {
     "data": {
      "text/plain": [
       "[{'id': '0x588d91abf5192a0f0dc026bf05f510253bd1cf51-0x1c10ac5fa8fd1e33ea5aeb457e44cf68ec3038db-l-0',\n",
       "  'symbol': 'ETH-26MAY23-1900-C',\n",
       "  'timestamp': 1685088000000,\n",
       "  'datetime': datetime.datetime(2023, 5, 26, 9, 0),\n",
       "  'initialMarginPercentage': None,\n",
       "  'unrealizedPnl': 6.91313142e-10,\n",
       "  'realizedPnl': 6.91313142e-10,\n",
       "  'contractSize': '0',\n",
       "  'markPrice': 1.9e-07,\n",
       "  'side': 'long'},\n",
       " {'id': '0x588d91abf5192a0f0dc026bf05f510253bd1cf51-0x703e6bc2e1541d603ff9fdb26216617e1687b8d6-l-0',\n",
       "  'symbol': 'ETH-19MAY23-1900-C',\n",
       "  'timestamp': 1684483200000,\n",
       "  'datetime': datetime.datetime(2023, 5, 19, 9, 0),\n",
       "  'initialMarginPercentage': None,\n",
       "  'unrealizedPnl': 1.079670014e-09,\n",
       "  'realizedPnl': 1.079670014e-09,\n",
       "  'contractSize': '0',\n",
       "  'markPrice': 1.9e-07,\n",
       "  'side': 'long'},\n",
       " {'id': '0x588d91abf5192a0f0dc026bf05f510253bd1cf51-0x782b21d4061a1953a667a15b9c82c53abfd6173e-l-0',\n",
       "  'symbol': 'ETH-30JUN23-1800-P',\n",
       "  'timestamp': 1688112000000,\n",
       "  'datetime': datetime.datetime(2023, 6, 30, 9, 0),\n",
       "  'initialMarginPercentage': None,\n",
       "  'unrealizedPnl': -1.348442599e-09,\n",
       "  'realizedPnl': -1.348442599e-09,\n",
       "  'contractSize': '10000000000000000000',\n",
       "  'markPrice': 1.8e-07,\n",
       "  'side': 'long'},\n",
       " {'id': '0x588d91abf5192a0f0dc026bf05f510253bd1cf51-0x804a8b8f14860cda487aa8ad98cd13d68510be54-l-0',\n",
       "  'symbol': 'ETH-30JUN23-1700-P',\n",
       "  'timestamp': 1688112000000,\n",
       "  'datetime': datetime.datetime(2023, 6, 30, 9, 0),\n",
       "  'initialMarginPercentage': None,\n",
       "  'unrealizedPnl': 7.69341062e-10,\n",
       "  'realizedPnl': 7.69341062e-10,\n",
       "  'contractSize': '0',\n",
       "  'markPrice': 1.7e-07,\n",
       "  'side': 'long'},\n",
       " {'id': '0x588d91abf5192a0f0dc026bf05f510253bd1cf51-0xc803a30a9c0f74c934c1731c6d85d862bbfbe1ef-l-0',\n",
       "  'symbol': 'ETH-26MAY23-1650-P',\n",
       "  'timestamp': 1685088000000,\n",
       "  'datetime': datetime.datetime(2023, 5, 26, 9, 0),\n",
       "  'initialMarginPercentage': None,\n",
       "  'unrealizedPnl': 1.768679112e-09,\n",
       "  'realizedPnl': 1.768679112e-09,\n",
       "  'contractSize': '0',\n",
       "  'markPrice': 1.65e-07,\n",
       "  'side': 'long'},\n",
       " {'id': '0x588d91abf5192a0f0dc026bf05f510253bd1cf51-0xc803a30a9c0f74c934c1731c6d85d862bbfbe1ef-l-1',\n",
       "  'symbol': 'ETH-26MAY23-1650-P',\n",
       "  'timestamp': 1685088000000,\n",
       "  'datetime': datetime.datetime(2023, 5, 26, 9, 0),\n",
       "  'initialMarginPercentage': None,\n",
       "  'unrealizedPnl': -1.81703236e-09,\n",
       "  'realizedPnl': -1.81703236e-09,\n",
       "  'contractSize': '30000000000000000000',\n",
       "  'markPrice': 1.65e-07,\n",
       "  'side': 'long'},\n",
       " {'id': '0x588d91abf5192a0f0dc026bf05f510253bd1cf51-0xcbb60ce369853f41953d2d494490bfb0370e8ea3-l-0',\n",
       "  'symbol': 'ETH-26MAY23-1950-C',\n",
       "  'timestamp': 1685088000000,\n",
       "  'datetime': datetime.datetime(2023, 5, 26, 9, 0),\n",
       "  'initialMarginPercentage': None,\n",
       "  'unrealizedPnl': 1.337283147e-09,\n",
       "  'realizedPnl': 1.337283147e-09,\n",
       "  'contractSize': '0',\n",
       "  'markPrice': 1.95e-07,\n",
       "  'side': 'long'},\n",
       " {'id': '0x588d91abf5192a0f0dc026bf05f510253bd1cf51-0xd025a593885cfe807e31e8b0eb7fd0a4d21bcd77-l-0',\n",
       "  'symbol': 'ETH-26MAY23-2000-C',\n",
       "  'timestamp': 1685088000000,\n",
       "  'datetime': datetime.datetime(2023, 5, 26, 9, 0),\n",
       "  'initialMarginPercentage': None,\n",
       "  'unrealizedPnl': 1.03734548e-09,\n",
       "  'realizedPnl': 1.03734548e-09,\n",
       "  'contractSize': '0',\n",
       "  'markPrice': 2e-07,\n",
       "  'side': 'long'},\n",
       " {'id': '0x588d91abf5192a0f0dc026bf05f510253bd1cf51-0xd025a593885cfe807e31e8b0eb7fd0a4d21bcd77-l-1',\n",
       "  'symbol': 'ETH-26MAY23-2000-C',\n",
       "  'timestamp': 1685088000000,\n",
       "  'datetime': datetime.datetime(2023, 5, 26, 9, 0),\n",
       "  'initialMarginPercentage': None,\n",
       "  'unrealizedPnl': -2.620062691e-09,\n",
       "  'realizedPnl': -2.620062691e-09,\n",
       "  'contractSize': '45000000000000000000',\n",
       "  'markPrice': 2e-07,\n",
       "  'side': 'long'},\n",
       " {'id': '0x588d91abf5192a0f0dc026bf05f510253bd1cf51-0xe634f92a80bad9dc255711b3834af8d56172e43d-l-0',\n",
       "  'symbol': 'ETH-19MAY23-1800-P',\n",
       "  'timestamp': 1684483200000,\n",
       "  'datetime': datetime.datetime(2023, 5, 19, 9, 0),\n",
       "  'initialMarginPercentage': None,\n",
       "  'unrealizedPnl': 6.103186586e-09,\n",
       "  'realizedPnl': 6.103186586e-09,\n",
       "  'contractSize': '0',\n",
       "  'markPrice': 1.8e-07,\n",
       "  'side': 'long'},\n",
       " {'id': '0x588d91abf5192a0f0dc026bf05f510253bd1cf51-0x3fa148f692e516654283c9ff4cbe3b15355f48f5-s-0',\n",
       "  'symbol': 'ETH-19MAY23-2000-C',\n",
       "  'timestamp': 1684483200000,\n",
       "  'datetime': datetime.datetime(2023, 5, 19, 9, 0),\n",
       "  'initialMarginPercentage': None,\n",
       "  'unrealizedPnl': 1.744192333e-09,\n",
       "  'realizedPnl': 1.744192333e-09,\n",
       "  'contractSize': '-20000000000000000000',\n",
       "  'markPrice': 2e-07,\n",
       "  'side': 'short'},\n",
       " {'id': '0x588d91abf5192a0f0dc026bf05f510253bd1cf51-0x752734d923d4a9de4ae6cc0287ae47f71385a5b9-s-0',\n",
       "  'symbol': 'ETH-30JUN23-1600-P',\n",
       "  'timestamp': 1688112000000,\n",
       "  'datetime': datetime.datetime(2023, 6, 30, 9, 0),\n",
       "  'initialMarginPercentage': None,\n",
       "  'unrealizedPnl': 8.375450512e-09,\n",
       "  'realizedPnl': 8.375450512e-09,\n",
       "  'contractSize': '-30000000000000000000',\n",
       "  'markPrice': 1.6e-07,\n",
       "  'side': 'short'},\n",
       " {'id': '0x588d91abf5192a0f0dc026bf05f510253bd1cf51-0x77d9fecf81257174918716795ba800dc1e2d1a0b-s-0',\n",
       "  'symbol': 'ETH-12MAY23-1900-C',\n",
       "  'timestamp': 1683878400000,\n",
       "  'datetime': datetime.datetime(2023, 5, 12, 9, 0),\n",
       "  'initialMarginPercentage': None,\n",
       "  'unrealizedPnl': 8.45899975e-10,\n",
       "  'realizedPnl': 8.45899975e-10,\n",
       "  'contractSize': '-8000000000000000000',\n",
       "  'markPrice': 1.9e-07,\n",
       "  'side': 'short'},\n",
       " {'id': '0x588d91abf5192a0f0dc026bf05f510253bd1cf51-0x8106b5dd2c7be79f2e0cf428b4ac9a64e8c33c25-s-0',\n",
       "  'symbol': 'ETH-12MAY23-1900-C',\n",
       "  'timestamp': 1683878400000,\n",
       "  'datetime': datetime.datetime(2023, 5, 12, 9, 0),\n",
       "  'initialMarginPercentage': None,\n",
       "  'unrealizedPnl': 9.91711253e-10,\n",
       "  'realizedPnl': 9.91711253e-10,\n",
       "  'contractSize': '0',\n",
       "  'markPrice': 1.9e-07,\n",
       "  'side': 'short'},\n",
       " {'id': '0x588d91abf5192a0f0dc026bf05f510253bd1cf51-0xd71166f45adff0e89d156025368988f6b9412ce7-s-0',\n",
       "  'symbol': 'ETH-19MAY23-2000-C',\n",
       "  'timestamp': 1684483200000,\n",
       "  'datetime': datetime.datetime(2023, 5, 19, 9, 0),\n",
       "  'initialMarginPercentage': None,\n",
       "  'unrealizedPnl': 3.723067361e-09,\n",
       "  'realizedPnl': 3.723067361e-09,\n",
       "  'contractSize': '-25000000000000000000',\n",
       "  'markPrice': 2e-07,\n",
       "  'side': 'short'},\n",
       " {'id': '0x588d91abf5192a0f0dc026bf05f510253bd1cf51-0xe634f92a80bad9dc255711b3834af8d56172e43d-s-0',\n",
       "  'symbol': 'ETH-19MAY23-1800-P',\n",
       "  'timestamp': 1684483200000,\n",
       "  'datetime': datetime.datetime(2023, 5, 19, 9, 0),\n",
       "  'initialMarginPercentage': None,\n",
       "  'unrealizedPnl': 5.6730516e-10,\n",
       "  'realizedPnl': 5.6730516e-10,\n",
       "  'contractSize': '0',\n",
       "  'markPrice': 1.8e-07,\n",
       "  'side': 'short'},\n",
       " {'id': '0x588d91abf5192a0f0dc026bf05f510253bd1cf51-0xf321adea24fe24c94389078f561011adbd789ed8-s-0',\n",
       "  'symbol': 'ETH-12MAY23-1800-P',\n",
       "  'timestamp': 1683878400000,\n",
       "  'datetime': datetime.datetime(2023, 5, 12, 9, 0),\n",
       "  'initialMarginPercentage': None,\n",
       "  'unrealizedPnl': 1.343280484e-09,\n",
       "  'realizedPnl': 1.343280484e-09,\n",
       "  'contractSize': '-10000000000000000000',\n",
       "  'markPrice': 1.8e-07,\n",
       "  'side': 'short'}]"
      ]
     },
     "execution_count": 3,
     "metadata": {},
     "output_type": "execute_result"
    }
   ],
   "source": [
    "positions = client.fetch_positions()\n",
    "positions"
   ]
  },
  {
   "attachments": {},
   "cell_type": "markdown",
   "id": "671deb82",
   "metadata": {},
   "source": [
    "# Tests"
   ]
  },
  {
   "cell_type": "code",
   "execution_count": 6,
   "id": "0a3ef446",
   "metadata": {},
   "outputs": [
    {
     "name": "stdout",
     "output_type": "stream",
     "text": [
      "poetry run adev test -v -p tests\n",
      "Testing Open Autonomy Packages\n",
      "\u001b[2K\u001b[2;36m[14:13:41]\u001b[0m\u001b[2;36m \u001b[0m\u001b[34mINFO    \u001b[0m \u001b\u001b[1m[\u001b[0m\u001b[33m1m\u001b[0m============================= test     \u001b]8;id=536186;file:///home/tom/.cache/pypoetry/virtualenvs/rysk-client-O72xupT4-py3.10/lib/python3.10/site-packages/auto_dev/cli_executor.py\u001b\\\u001b[2mcli_executor.py\u001b[0m\u001b]8;;\u001b\\\u001b[2m:\u001b[0m\u001b]8;id=447753;file:///home/tom/.cache/pypoetry/virtualenvs/rysk-client-O72xupT4-py3.10/lib/python3.10/site-packages/auto_dev/cli_executor.py#36\u001b\\\u001b[2m36\u001b[0m\u001b]8;;\u001b\\\n",
      "\u001b[2;36m           \u001b[0m         session starts                            \u001b[2m                  \u001b[0m\n",
      "\u001b[2;36m           \u001b[0m         ==============================\u001b\u001b[1m[\u001b[0m0m         \u001b[2m                  \u001b[0m\n",
      "\u001b[2;36m           \u001b[0m         platform linux -- Python \u001b[1;36m3.10\u001b[0m.\u001b[1;36m4\u001b[0m,          \u001b[2m                  \u001b[0m\n",
      "\u001b[2;36m           \u001b[0m         pytest-\u001b[1;36m7.3\u001b[0m.\u001b[1;36m1\u001b[0m, pluggy-\u001b[1;36m1.0\u001b[0m.\u001b[1;36m0\u001b[0m                \u001b[2m                  \u001b[0m\n",
      "\u001b[2;36m           \u001b[0m         rootdir:                                  \u001b[2m                  \u001b[0m\n",
      "\u001b[2;36m           \u001b[0m         \u001b[35m/home/tom/Desktop/Fun/\u001b[0m\u001b[95mrysk_explorations\u001b[0m   \u001b[2m                  \u001b[0m\n",
      "\u001b[2;36m           \u001b[0m         configfile: pytest.ini                    \u001b[2m                  \u001b[0m\n",
      "\u001b[2;36m           \u001b[0m         plugins: cov-\u001b[1;36m3.0\u001b[0m.\u001b[1;36m0\u001b[0m, pylama-\u001b[1;36m8.4\u001b[0m.\u001b[1;36m1\u001b[0m,         \u001b[2m                  \u001b[0m\n",
      "\u001b[2;36m           \u001b[0m         web3-\u001b[1;36m5.31\u001b[0m.\u001b[1;36m4\u001b[0m, anyio-\u001b[1;36m3.7\u001b[0m.\u001b[1;36m0\u001b[0m                  \u001b[2m                  \u001b[0m\n",
      "\u001b[2;36m           \u001b[0m         collected \u001b[1;36m23\u001b[0m items                        \u001b[2m                  \u001b[0m\n",
      "\u001b[2;36m           \u001b[0m                                                   \u001b[2m                  \u001b[0m\n",
      "\u001b[2;36m           \u001b[0m         tests/test_client.py                      \u001b[2m                  \u001b[0m\n",
      "\u001b[2;36m           \u001b[0m         \u001b\u001b[1m[\u001b[0m32m.\u001b\u001b[1m[\u001b[0m0m\u001b\u001b[1m[\u001b[0m32m.\u001b\u001b[1m[\u001b[0m0m\u001b\u001b[1m[\u001b[0m33ms\u001b\u001b[1m[\u001b[0m0m\u001b\u001b[1m[\u001b[0m32m              \u001b[2m                  \u001b[0m\n",
      "\u001b[2;36m           \u001b[0m         \u001b[1m[\u001b[0m \u001b[1;36m13\u001b[0m%\u001b[1m]\u001b[0m\u001b\u001b[1m[\u001b[0m0m                                 \u001b[2m                  \u001b[0m\n",
      "\u001b[2;36m           \u001b[0m         tests/test_collateral.py                  \u001b[2m                  \u001b[0m\n",
      "\u001b[2;36m           \u001b[0m         \u001b\u001b[1m[\u001b[0m32m.\u001b\u001b[1m[\u001b[0m0m\u001b\u001b[1m[\u001b[0m32m.\u001b\u001b[1m[\u001b[0m0m\u001b\u001b[1m[\u001b[0m32m.\u001b\u001b[1m[\u001b[0m0m\u001b\u001b[1m[\u001b[0m32m.\u001b\u001b[1m[\u001b[0m0m\u001b          \u001b[2m                  \u001b[0m\n",
      "\u001b[2;36m           \u001b[0m         \u001b[1m[\u001b[0m32m.\u001b\u001b[1m[\u001b[0m0m\u001b\u001b[1m[\u001b[0m32m.\u001b\u001b[1m[\u001b[0m0m\u001b\u001b[1m[\u001b[0m32m                      \u001b[2m                  \u001b[0m\n",
      "\u001b[2;36m           \u001b[0m                        \u001b[1m[\u001b[0m \u001b[1;36m39\u001b[0m%\u001b[1m]\u001b[0m\u001b\u001b[1m[\u001b[0m0m                  \u001b[2m                  \u001b[0m\n",
      "\u001b[2;36m           \u001b[0m         tests/test_rysk_option_market.py          \u001b[2m                  \u001b[0m\n",
      "\u001b[2;36m           \u001b[0m         \u001b\u001b[1m[\u001b[0m32m.\u001b\u001b[1m[\u001b[0m0m\u001b\u001b[1m[\u001b[0m32m.\u001b\u001b[1m[\u001b[0m0m\u001b\u001b[1m[\u001b[0m32m                      \u001b[2m                  \u001b[0m\n",
      "\u001b[2;36m           \u001b[0m         \u001b[1m[\u001b[0m \u001b[1;36m47\u001b[0m%\u001b[1m]\u001b[0m\u001b\u001b[1m[\u001b[0m0m                                 \u001b[2m                  \u001b[0m\n",
      "\u001b[2;36m           \u001b[0m         tests/test_rysk_options_market_manager.py \u001b[2m                  \u001b[0m\n",
      "\u001b[2;36m           \u001b[0m         \u001b\u001b[1m[\u001b[0m32m.\u001b\u001b[1m[\u001b[0m0m\u001b\u001b[1m[\u001b[0m32m.\u001b\u001b[1m[\u001b[0m0m\u001b\u001b[1m[\u001b[0m32m                      \u001b[2m                  \u001b[0m\n",
      "\u001b[2;36m           \u001b[0m         \u001b[1m[\u001b[0m \u001b[1;36m56\u001b[0m%\u001b[1m]\u001b[0m\u001b\u001b[1m[\u001b[0m0m                                 \u001b[2m                  \u001b[0m\n",
      "\u001b[2;36m           \u001b[0m         tests/test_subgraph.py \u001b\u001b[1m[\u001b[0m32m.\u001b\u001b[1m[\u001b[0m0m\u001b\u001b[1m[\u001b[0m32m       \u001b[2m                  \u001b[0m\n",
      "\u001b[2;36m           \u001b[0m         \u001b[1m[\u001b[0m \u001b[1;36m60\u001b[0m%\u001b[1m]\u001b[0m\u001b\u001b[1m[\u001b[0m0m                                 \u001b[2m                  \u001b[0m\n",
      "\u001b[2;36m           \u001b[0m         tests/test_utils.py                       \u001b[2m                  \u001b[0m\n",
      "\u001b[2;36m           \u001b[0m         \u001b\u001b[1m[\u001b[0m32m.\u001b\u001b[1m[\u001b[0m0m\u001b\u001b[1m[\u001b[0m32m.\u001b\u001b[1m[\u001b[0m0m\u001b\u001b[1m[\u001b[0m32m.\u001b\u001b[1m[\u001b[0m0m\u001b\u001b[1m[\u001b[0m32m.\u001b\u001b[1m[\u001b[0m0m\u001b          \u001b[2m                  \u001b[0m\n",
      "\u001b[2;36m           \u001b[0m         \u001b[1m[\u001b[0m32m.\u001b\u001b[1m[\u001b[0m0m\u001b\u001b[1m[\u001b[0m32m.\u001b\u001b[1m[\u001b[0m0m\u001b\u001b[1m[\u001b[0m32m.\u001b\u001b[1m[\u001b[0m0m\u001b\u001b[1m[\u001b[0m32m.\u001b\u001b[1m[\u001b[0m0m\u001b\u001b[1m[\u001b[0m32m.\u001b\u001b[1m[\u001b[0m0m\u001b  \u001b[2m                  \u001b[0m\n",
      "\u001b[2;36m           \u001b[0m         \u001b[1m[\u001b[0m32m                                      \u001b[2m                  \u001b[0m\n",
      "\u001b[2;36m           \u001b[0m         \u001b[1m[\u001b[0m\u001b[1;36m100\u001b[0m%\u001b[1m]\u001b[0m\u001b\u001b[1m[\u001b[0m0m                                 \u001b[2m                  \u001b[0m\n",
      "\u001b[2;36m           \u001b[0m                                                   \u001b[2m                  \u001b[0m\n",
      "\u001b[2;36m           \u001b[0m         \u001b\u001b[1m[\u001b[0m\u001b[33m32m\u001b[0m======================== \u001b\u001b[1m[\u001b[0m32m\u001b\u001b[1m[\u001b[0m1m22    \u001b[2m                  \u001b[0m\n",
      "\u001b[2;36m           \u001b[0m         passed\u001b\u001b[1m[\u001b[0m0m, \u001b\u001b[1m[\u001b[0m33m1 skipped\u001b\u001b[1m[\u001b[0m0m\u001b\u001b[1m[\u001b[0m32m in        \u001b[2m                  \u001b[0m\n",
      "\u001b[2;36m           \u001b[0m         \u001b[1;36m25.\u001b[0m17s\u001b\u001b[1m[\u001b[0m0m\u001b\u001b[1m[\u001b[0m32m ========================\u001b\u001b[1m[\u001b[0m0m \u001b[2m                  \u001b[0m\n",
      "\u001b[2;36m           \u001b[0m                                                   \u001b[2m                  \u001b[0m\n",
      "\u001b[2KTesting... \u001b[38;2;114;156;31m━━━━━━━━━━━━━━━━━━━━━━━━━━━━━━━━━━━━━━━━\u001b[0m \u001b[35m100%\u001b[0m \u001b[33m0:00:26\u001b[0m\n",
      "\u001b[?25hTesting completed successfully!\n"
     ]
    }
   ],
   "source": [
    "!make test"
   ]
  },
  {
   "cell_type": "code",
   "execution_count": 7,
   "id": "cbbf54e6",
   "metadata": {},
   "outputs": [
    {
     "name": "stdout",
     "output_type": "stream",
     "text": [
      "poetry run isort tests rysk_client && poetry run black tests rysk_client\n",
      "\u001b[1mAll done! ✨ 🍰 ✨\u001b[0m\n",
      "\u001b[34m19 files \u001b[0mleft unchanged.\n",
      "poetry run adev lint -v -p tests\n",
      "\u001b[2;36m[14:13:44]\u001b[0m\u001b[2;36m \u001b[0m\u001b[34mINFO    \u001b[0m Linting Open Autonomy Packages                     \u001b]8;id=281004;file:///home/tom/.cache/pypoetry/virtualenvs/rysk-client-O72xupT4-py3.10/lib/python3.10/site-packages/auto_dev/cli.py\u001b\\\u001b[2mcli.py\u001b[0m\u001b]8;;\u001b\\\u001b[2m:\u001b[0m\u001b]8;id=265993;file:///home/tom/.cache/pypoetry/virtualenvs/rysk-client-O72xupT4-py3.10/lib/python3.10/site-packages/auto_dev/cli.py#47\u001b\\\u001b[2m47\u001b[0m\u001b]8;;\u001b\\\n",
      "\u001b[2KLinting... \u001b[38;2;114;156;31m━━━━━━━━━━━━━━━━━━━━━━━━━━━━━━━━━━━━━━━━\u001b[0m \u001b[35m100%\u001b[0m \u001b[33m0:00:03\u001b[0m\n",
      "\u001b[?25h\u001b[2;36m[14:13:48]\u001b[0m\u001b[2;36m \u001b[0m\u001b[34mINFO    \u001b[0m Linting completed successfully!                    \u001b]8;id=864081;file:///home/tom/.cache/pypoetry/virtualenvs/rysk-client-O72xupT4-py3.10/lib/python3.10/site-packages/auto_dev/cli.py\u001b\\\u001b[2mcli.py\u001b[0m\u001b]8;;\u001b\\\u001b[2m:\u001b[0m\u001b]8;id=992553;file:///home/tom/.cache/pypoetry/virtualenvs/rysk-client-O72xupT4-py3.10/lib/python3.10/site-packages/auto_dev/cli.py#66\u001b\\\u001b[2m66\u001b[0m\u001b]8;;\u001b\\\n"
     ]
    }
   ],
   "source": [
    "!make fmt lint"
   ]
  }
 ],
 "metadata": {
  "kernelspec": {
   "display_name": "Python 3 (ipykernel)",
   "language": "python",
   "name": "python3"
  },
  "language_info": {
   "codemirror_mode": {
    "name": "ipython",
    "version": 3
   },
   "file_extension": ".py",
   "mimetype": "text/x-python",
   "name": "python",
   "nbconvert_exporter": "python",
   "pygments_lexer": "ipython3",
   "version": "3.10.4"
  }
 },
 "nbformat": 4,
 "nbformat_minor": 5
}
